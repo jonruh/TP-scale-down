{
 "cells": [
  {
   "cell_type": "markdown",
   "metadata": {},
   "source": [
    "# Expression Quality Control (Part 1)\n",
    "This is a template notebook for performing preliminary quality control on your organism's expression data."
   ]
  },
  {
   "cell_type": "markdown",
   "metadata": {},
   "source": [
    "## Setup"
   ]
  },
  {
   "cell_type": "code",
   "execution_count": 35,
   "metadata": {},
   "outputs": [],
   "source": [
    "import matplotlib.pyplot as plt\n",
    "import numpy as np\n",
    "import pandas as pd\n",
    "import seaborn as sns\n",
    "\n",
    "from os import path"
   ]
  },
  {
   "cell_type": "code",
   "execution_count": 36,
   "metadata": {},
   "outputs": [],
   "source": [
    "sns.set_style('ticks')"
   ]
  },
  {
   "cell_type": "markdown",
   "metadata": {},
   "source": [
    "### Inputs"
   ]
  },
  {
   "cell_type": "markdown",
   "metadata": {},
   "source": [
    "Enter path of log-TPM, MultiQC, and metadata files here"
   ]
  },
  {
   "cell_type": "code",
   "execution_count": 37,
   "metadata": {},
   "outputs": [],
   "source": [
    "logTPM_file = path.join('data','raw_data','log_tpm_raw.csv') # Enter log-TPM filename here\n",
    "multiqc_file = path.join('data','raw_data','multiqc_stats_raw.tsv') # Enter MultiQC stats filename here\n",
    "metadata_file = path.join('data','raw_data','metadata_raw.tsv') # Enter metadata filename here"
   ]
  },
  {
   "cell_type": "markdown",
   "metadata": {},
   "source": [
    "### Load expression data"
   ]
  },
  {
   "cell_type": "code",
   "execution_count": 38,
   "metadata": {},
   "outputs": [
    {
     "name": "stdout",
     "output_type": "stream",
     "text": [
      "Number of genes: 4355\n",
      "Number of samples: 12\n"
     ]
    },
    {
     "data": {
      "text/html": [
       "<div>\n",
       "<style scoped>\n",
       "    .dataframe tbody tr th:only-of-type {\n",
       "        vertical-align: middle;\n",
       "    }\n",
       "\n",
       "    .dataframe tbody tr th {\n",
       "        vertical-align: top;\n",
       "    }\n",
       "\n",
       "    .dataframe thead th {\n",
       "        text-align: right;\n",
       "    }\n",
       "</style>\n",
       "<table border=\"1\" class=\"dataframe\">\n",
       "  <thead>\n",
       "    <tr style=\"text-align: right;\">\n",
       "      <th></th>\n",
       "      <th>PD_117_R10_S05#</th>\n",
       "      <th>PD_117_R11_S05#</th>\n",
       "      <th>PD_117_R12_S05#</th>\n",
       "      <th>PD_117_R13_S05#</th>\n",
       "      <th>PD_117_R14_S05#</th>\n",
       "      <th>PD_117_R15_S05#</th>\n",
       "      <th>PD_117_R16_S05#</th>\n",
       "      <th>PD_117_R5_S05#1</th>\n",
       "      <th>PD_117_R6_S05#1</th>\n",
       "      <th>PD_117_R7_S05#1</th>\n",
       "      <th>PD_117_R8_S05#1</th>\n",
       "      <th>PD_117_R9_S05#1</th>\n",
       "    </tr>\n",
       "    <tr>\n",
       "      <th>Geneid</th>\n",
       "      <th></th>\n",
       "      <th></th>\n",
       "      <th></th>\n",
       "      <th></th>\n",
       "      <th></th>\n",
       "      <th></th>\n",
       "      <th></th>\n",
       "      <th></th>\n",
       "      <th></th>\n",
       "      <th></th>\n",
       "      <th></th>\n",
       "      <th></th>\n",
       "    </tr>\n",
       "  </thead>\n",
       "  <tbody>\n",
       "    <tr>\n",
       "      <th>b0001</th>\n",
       "      <td>11.081665</td>\n",
       "      <td>10.268826</td>\n",
       "      <td>10.233329</td>\n",
       "      <td>9.989378</td>\n",
       "      <td>10.281131</td>\n",
       "      <td>9.962700</td>\n",
       "      <td>9.636620</td>\n",
       "      <td>11.052673</td>\n",
       "      <td>10.989912</td>\n",
       "      <td>11.092299</td>\n",
       "      <td>10.923131</td>\n",
       "      <td>11.267527</td>\n",
       "    </tr>\n",
       "    <tr>\n",
       "      <th>b0002</th>\n",
       "      <td>7.645440</td>\n",
       "      <td>9.522497</td>\n",
       "      <td>9.117753</td>\n",
       "      <td>9.139083</td>\n",
       "      <td>10.197153</td>\n",
       "      <td>9.574051</td>\n",
       "      <td>9.451363</td>\n",
       "      <td>7.754347</td>\n",
       "      <td>7.821709</td>\n",
       "      <td>7.905215</td>\n",
       "      <td>7.772760</td>\n",
       "      <td>7.565977</td>\n",
       "    </tr>\n",
       "    <tr>\n",
       "      <th>b0003</th>\n",
       "      <td>7.640769</td>\n",
       "      <td>9.083923</td>\n",
       "      <td>8.782278</td>\n",
       "      <td>8.742474</td>\n",
       "      <td>9.637226</td>\n",
       "      <td>9.655356</td>\n",
       "      <td>9.667506</td>\n",
       "      <td>7.602189</td>\n",
       "      <td>7.711155</td>\n",
       "      <td>7.781399</td>\n",
       "      <td>7.776329</td>\n",
       "      <td>7.781513</td>\n",
       "    </tr>\n",
       "    <tr>\n",
       "      <th>b0004</th>\n",
       "      <td>7.383264</td>\n",
       "      <td>8.404835</td>\n",
       "      <td>8.363498</td>\n",
       "      <td>8.215478</td>\n",
       "      <td>9.037703</td>\n",
       "      <td>9.027710</td>\n",
       "      <td>9.083592</td>\n",
       "      <td>7.274509</td>\n",
       "      <td>7.244816</td>\n",
       "      <td>7.338556</td>\n",
       "      <td>7.570289</td>\n",
       "      <td>7.632955</td>\n",
       "    </tr>\n",
       "    <tr>\n",
       "      <th>b0005</th>\n",
       "      <td>4.077732</td>\n",
       "      <td>5.696586</td>\n",
       "      <td>5.560236</td>\n",
       "      <td>5.819425</td>\n",
       "      <td>5.957660</td>\n",
       "      <td>6.105838</td>\n",
       "      <td>5.817777</td>\n",
       "      <td>3.851237</td>\n",
       "      <td>4.256504</td>\n",
       "      <td>3.998828</td>\n",
       "      <td>3.815343</td>\n",
       "      <td>3.772055</td>\n",
       "    </tr>\n",
       "  </tbody>\n",
       "</table>\n",
       "</div>"
      ],
      "text/plain": [
       "        PD_117_R10_S05#  PD_117_R11_S05#  PD_117_R12_S05#  PD_117_R13_S05#  \\\n",
       "Geneid                                                                       \n",
       "b0001         11.081665        10.268826        10.233329         9.989378   \n",
       "b0002          7.645440         9.522497         9.117753         9.139083   \n",
       "b0003          7.640769         9.083923         8.782278         8.742474   \n",
       "b0004          7.383264         8.404835         8.363498         8.215478   \n",
       "b0005          4.077732         5.696586         5.560236         5.819425   \n",
       "\n",
       "        PD_117_R14_S05#  PD_117_R15_S05#  PD_117_R16_S05#  PD_117_R5_S05#1  \\\n",
       "Geneid                                                                       \n",
       "b0001         10.281131         9.962700         9.636620        11.052673   \n",
       "b0002         10.197153         9.574051         9.451363         7.754347   \n",
       "b0003          9.637226         9.655356         9.667506         7.602189   \n",
       "b0004          9.037703         9.027710         9.083592         7.274509   \n",
       "b0005          5.957660         6.105838         5.817777         3.851237   \n",
       "\n",
       "        PD_117_R6_S05#1  PD_117_R7_S05#1  PD_117_R8_S05#1  PD_117_R9_S05#1  \n",
       "Geneid                                                                      \n",
       "b0001         10.989912        11.092299        10.923131        11.267527  \n",
       "b0002          7.821709         7.905215         7.772760         7.565977  \n",
       "b0003          7.711155         7.781399         7.776329         7.781513  \n",
       "b0004          7.244816         7.338556         7.570289         7.632955  \n",
       "b0005          4.256504         3.998828         3.815343         3.772055  "
      ]
     },
     "execution_count": 38,
     "metadata": {},
     "output_type": "execute_result"
    }
   ],
   "source": [
    "DF_log_tpm = pd.read_csv(logTPM_file,index_col=0).fillna(0)\n",
    "print('Number of genes:',DF_log_tpm.shape[0])\n",
    "print('Number of samples:',DF_log_tpm.shape[1])\n",
    "DF_log_tpm.head()"
   ]
  },
  {
   "cell_type": "markdown",
   "metadata": {},
   "source": [
    "### Load QC data\n",
    "There may be some datasets that failed along the processing pipeline, so the number of samples with QC data may be higher than the number of samples with expression data."
   ]
  },
  {
   "cell_type": "code",
   "execution_count": 39,
   "metadata": {},
   "outputs": [
    {
     "name": "stdout",
     "output_type": "stream",
     "text": [
      "Number of samples with QC data: 12\n"
     ]
    }
   ],
   "source": [
    "DF_qc_stats = pd.read_csv(multiqc_file,index_col=0, sep='\\t')\n",
    "print('Number of samples with QC data:',DF_qc_stats.shape[0])"
   ]
  },
  {
   "cell_type": "code",
   "execution_count": 40,
   "metadata": {},
   "outputs": [
    {
     "data": {
      "text/html": [
       "<div>\n",
       "<style scoped>\n",
       "    .dataframe tbody tr th:only-of-type {\n",
       "        vertical-align: middle;\n",
       "    }\n",
       "\n",
       "    .dataframe tbody tr th {\n",
       "        vertical-align: top;\n",
       "    }\n",
       "\n",
       "    .dataframe thead th {\n",
       "        text-align: right;\n",
       "    }\n",
       "</style>\n",
       "<table border=\"1\" class=\"dataframe\">\n",
       "  <thead>\n",
       "    <tr style=\"text-align: right;\">\n",
       "      <th></th>\n",
       "      <th>Total</th>\n",
       "      <th>Assigned</th>\n",
       "      <th>Unassigned_rRNA</th>\n",
       "      <th>Unassigned_Unmapped</th>\n",
       "      <th>Unassigned_Read_Type</th>\n",
       "      <th>Unassigned_Singleton</th>\n",
       "      <th>Unassigned_MappingQuality</th>\n",
       "      <th>Unassigned_Chimera</th>\n",
       "      <th>Unassigned_FragmentLength</th>\n",
       "      <th>Unassigned_Duplicate</th>\n",
       "      <th>...</th>\n",
       "      <th>r_processed</th>\n",
       "      <th>r_with_adapters</th>\n",
       "      <th>r_written</th>\n",
       "      <th>bp_processed</th>\n",
       "      <th>quality_trimmed</th>\n",
       "      <th>bp_written</th>\n",
       "      <th>percent_trimmed</th>\n",
       "      <th>pe_sense</th>\n",
       "      <th>pe_antisense</th>\n",
       "      <th>failed</th>\n",
       "    </tr>\n",
       "    <tr>\n",
       "      <th>Sample</th>\n",
       "      <th></th>\n",
       "      <th></th>\n",
       "      <th></th>\n",
       "      <th></th>\n",
       "      <th></th>\n",
       "      <th></th>\n",
       "      <th></th>\n",
       "      <th></th>\n",
       "      <th></th>\n",
       "      <th></th>\n",
       "      <th></th>\n",
       "      <th></th>\n",
       "      <th></th>\n",
       "      <th></th>\n",
       "      <th></th>\n",
       "      <th></th>\n",
       "      <th></th>\n",
       "      <th></th>\n",
       "      <th></th>\n",
       "      <th></th>\n",
       "      <th></th>\n",
       "    </tr>\n",
       "  </thead>\n",
       "  <tbody>\n",
       "    <tr>\n",
       "      <th>PD_117_R10_S05#</th>\n",
       "      <td>12144714</td>\n",
       "      <td>8346938</td>\n",
       "      <td>74007</td>\n",
       "      <td>454135</td>\n",
       "      <td>0</td>\n",
       "      <td>0</td>\n",
       "      <td>0</td>\n",
       "      <td>0</td>\n",
       "      <td>472</td>\n",
       "      <td>0</td>\n",
       "      <td>...</td>\n",
       "      <td>12144916</td>\n",
       "      <td>3825985</td>\n",
       "      <td>12144916</td>\n",
       "      <td>1214491600</td>\n",
       "      <td>818223</td>\n",
       "      <td>1208410620</td>\n",
       "      <td>0.500702</td>\n",
       "      <td>0.0192</td>\n",
       "      <td>0.4748</td>\n",
       "      <td>0.5060</td>\n",
       "    </tr>\n",
       "    <tr>\n",
       "      <th>PD_117_R11_S05#</th>\n",
       "      <td>12074325</td>\n",
       "      <td>8216070</td>\n",
       "      <td>40853</td>\n",
       "      <td>1026782</td>\n",
       "      <td>0</td>\n",
       "      <td>0</td>\n",
       "      <td>0</td>\n",
       "      <td>0</td>\n",
       "      <td>353</td>\n",
       "      <td>0</td>\n",
       "      <td>...</td>\n",
       "      <td>12074738</td>\n",
       "      <td>4194274</td>\n",
       "      <td>12074738</td>\n",
       "      <td>1207473800</td>\n",
       "      <td>817576</td>\n",
       "      <td>1200762220</td>\n",
       "      <td>0.555836</td>\n",
       "      <td>0.0203</td>\n",
       "      <td>0.4785</td>\n",
       "      <td>0.5012</td>\n",
       "    </tr>\n",
       "    <tr>\n",
       "      <th>PD_117_R12_S05#</th>\n",
       "      <td>12002410</td>\n",
       "      <td>7936354</td>\n",
       "      <td>50402</td>\n",
       "      <td>993189</td>\n",
       "      <td>0</td>\n",
       "      <td>0</td>\n",
       "      <td>0</td>\n",
       "      <td>0</td>\n",
       "      <td>280</td>\n",
       "      <td>0</td>\n",
       "      <td>...</td>\n",
       "      <td>12002784</td>\n",
       "      <td>4164256</td>\n",
       "      <td>12002784</td>\n",
       "      <td>1200278400</td>\n",
       "      <td>642887</td>\n",
       "      <td>1193788080</td>\n",
       "      <td>0.540735</td>\n",
       "      <td>0.0193</td>\n",
       "      <td>0.4880</td>\n",
       "      <td>0.4927</td>\n",
       "    </tr>\n",
       "    <tr>\n",
       "      <th>PD_117_R13_S05#</th>\n",
       "      <td>12027986</td>\n",
       "      <td>8385113</td>\n",
       "      <td>39147</td>\n",
       "      <td>961585</td>\n",
       "      <td>0</td>\n",
       "      <td>0</td>\n",
       "      <td>0</td>\n",
       "      <td>0</td>\n",
       "      <td>444</td>\n",
       "      <td>0</td>\n",
       "      <td>...</td>\n",
       "      <td>12028152</td>\n",
       "      <td>3695582</td>\n",
       "      <td>12028152</td>\n",
       "      <td>1202815200</td>\n",
       "      <td>341443</td>\n",
       "      <td>1197698133</td>\n",
       "      <td>0.425424</td>\n",
       "      <td>0.0203</td>\n",
       "      <td>0.4728</td>\n",
       "      <td>0.5070</td>\n",
       "    </tr>\n",
       "    <tr>\n",
       "      <th>PD_117_R14_S05#</th>\n",
       "      <td>12013100</td>\n",
       "      <td>8465151</td>\n",
       "      <td>43696</td>\n",
       "      <td>882856</td>\n",
       "      <td>0</td>\n",
       "      <td>0</td>\n",
       "      <td>0</td>\n",
       "      <td>0</td>\n",
       "      <td>420</td>\n",
       "      <td>0</td>\n",
       "      <td>...</td>\n",
       "      <td>12013443</td>\n",
       "      <td>4154899</td>\n",
       "      <td>12013443</td>\n",
       "      <td>1201344300</td>\n",
       "      <td>579355</td>\n",
       "      <td>1194931165</td>\n",
       "      <td>0.533830</td>\n",
       "      <td>0.0200</td>\n",
       "      <td>0.4797</td>\n",
       "      <td>0.5004</td>\n",
       "    </tr>\n",
       "  </tbody>\n",
       "</table>\n",
       "<p>5 rows × 52 columns</p>\n",
       "</div>"
      ],
      "text/plain": [
       "                    Total  Assigned  Unassigned_rRNA  Unassigned_Unmapped  \\\n",
       "Sample                                                                      \n",
       "PD_117_R10_S05#  12144714   8346938            74007               454135   \n",
       "PD_117_R11_S05#  12074325   8216070            40853              1026782   \n",
       "PD_117_R12_S05#  12002410   7936354            50402               993189   \n",
       "PD_117_R13_S05#  12027986   8385113            39147               961585   \n",
       "PD_117_R14_S05#  12013100   8465151            43696               882856   \n",
       "\n",
       "                 Unassigned_Read_Type  Unassigned_Singleton  \\\n",
       "Sample                                                        \n",
       "PD_117_R10_S05#                     0                     0   \n",
       "PD_117_R11_S05#                     0                     0   \n",
       "PD_117_R12_S05#                     0                     0   \n",
       "PD_117_R13_S05#                     0                     0   \n",
       "PD_117_R14_S05#                     0                     0   \n",
       "\n",
       "                 Unassigned_MappingQuality  Unassigned_Chimera  \\\n",
       "Sample                                                           \n",
       "PD_117_R10_S05#                          0                   0   \n",
       "PD_117_R11_S05#                          0                   0   \n",
       "PD_117_R12_S05#                          0                   0   \n",
       "PD_117_R13_S05#                          0                   0   \n",
       "PD_117_R14_S05#                          0                   0   \n",
       "\n",
       "                 Unassigned_FragmentLength  Unassigned_Duplicate  ...  \\\n",
       "Sample                                                            ...   \n",
       "PD_117_R10_S05#                        472                     0  ...   \n",
       "PD_117_R11_S05#                        353                     0  ...   \n",
       "PD_117_R12_S05#                        280                     0  ...   \n",
       "PD_117_R13_S05#                        444                     0  ...   \n",
       "PD_117_R14_S05#                        420                     0  ...   \n",
       "\n",
       "                 r_processed  r_with_adapters  r_written  bp_processed  \\\n",
       "Sample                                                                   \n",
       "PD_117_R10_S05#     12144916          3825985   12144916    1214491600   \n",
       "PD_117_R11_S05#     12074738          4194274   12074738    1207473800   \n",
       "PD_117_R12_S05#     12002784          4164256   12002784    1200278400   \n",
       "PD_117_R13_S05#     12028152          3695582   12028152    1202815200   \n",
       "PD_117_R14_S05#     12013443          4154899   12013443    1201344300   \n",
       "\n",
       "                 quality_trimmed  bp_written  percent_trimmed  pe_sense  \\\n",
       "Sample                                                                    \n",
       "PD_117_R10_S05#           818223  1208410620         0.500702    0.0192   \n",
       "PD_117_R11_S05#           817576  1200762220         0.555836    0.0203   \n",
       "PD_117_R12_S05#           642887  1193788080         0.540735    0.0193   \n",
       "PD_117_R13_S05#           341443  1197698133         0.425424    0.0203   \n",
       "PD_117_R14_S05#           579355  1194931165         0.533830    0.0200   \n",
       "\n",
       "                 pe_antisense  failed  \n",
       "Sample                                 \n",
       "PD_117_R10_S05#        0.4748  0.5060  \n",
       "PD_117_R11_S05#        0.4785  0.5012  \n",
       "PD_117_R12_S05#        0.4880  0.4927  \n",
       "PD_117_R13_S05#        0.4728  0.5070  \n",
       "PD_117_R14_S05#        0.4797  0.5004  \n",
       "\n",
       "[5 rows x 52 columns]"
      ]
     },
     "execution_count": 40,
     "metadata": {},
     "output_type": "execute_result"
    }
   ],
   "source": [
    "DF_qc_stats.fillna(0,inplace=True)\n",
    "DF_qc_stats.head()"
   ]
  },
  {
   "cell_type": "markdown",
   "metadata": {},
   "source": [
    "### Load metadata"
   ]
  },
  {
   "cell_type": "code",
   "execution_count": 41,
   "metadata": {},
   "outputs": [
    {
     "name": "stdout",
     "output_type": "stream",
     "text": [
      "Number of samples with metadata: 12\n"
     ]
    },
    {
     "data": {
      "text/html": [
       "<div>\n",
       "<style scoped>\n",
       "    .dataframe tbody tr th:only-of-type {\n",
       "        vertical-align: middle;\n",
       "    }\n",
       "\n",
       "    .dataframe tbody tr th {\n",
       "        vertical-align: top;\n",
       "    }\n",
       "\n",
       "    .dataframe thead th {\n",
       "        text-align: right;\n",
       "    }\n",
       "</style>\n",
       "<table border=\"1\" class=\"dataframe\">\n",
       "  <thead>\n",
       "    <tr style=\"text-align: right;\">\n",
       "      <th></th>\n",
       "      <th>LibraryLayout</th>\n",
       "      <th>Platform</th>\n",
       "      <th>Run</th>\n",
       "      <th>R1</th>\n",
       "      <th>R2</th>\n",
       "      <th>project</th>\n",
       "      <th>condition</th>\n",
       "      <th>strain_ID</th>\n",
       "      <th>process_condition</th>\n",
       "      <th>experiment_run</th>\n",
       "      <th>strain_name</th>\n",
       "      <th>reference_condition</th>\n",
       "    </tr>\n",
       "  </thead>\n",
       "  <tbody>\n",
       "    <tr>\n",
       "      <th>PD_117_R10_S05#</th>\n",
       "      <td>PAIRED</td>\n",
       "      <td>DNBSEQ</td>\n",
       "      <td>NaN</td>\n",
       "      <td>PD_117_R10_S05#_1.fq.gz</td>\n",
       "      <td>PD_117_R10_S05#_2.fq.gz</td>\n",
       "      <td>Trp_scale-down</td>\n",
       "      <td>DDB35_scale-down</td>\n",
       "      <td>DDB35</td>\n",
       "      <td>scale-down</td>\n",
       "      <td>DDB_117</td>\n",
       "      <td>WT</td>\n",
       "      <td>DDB35_control</td>\n",
       "    </tr>\n",
       "    <tr>\n",
       "      <th>PD_117_R11_S05#</th>\n",
       "      <td>PAIRED</td>\n",
       "      <td>DNBSEQ</td>\n",
       "      <td>NaN</td>\n",
       "      <td>PD_117_R11_S05#_1.fq.gz</td>\n",
       "      <td>PD_117_R11_S05#_2.fq.gz</td>\n",
       "      <td>Trp_scale-down</td>\n",
       "      <td>HMP3071_control</td>\n",
       "      <td>HMP3071</td>\n",
       "      <td>control</td>\n",
       "      <td>DDB_117</td>\n",
       "      <td>TP</td>\n",
       "      <td>DDB35_control</td>\n",
       "    </tr>\n",
       "    <tr>\n",
       "      <th>PD_117_R12_S05#</th>\n",
       "      <td>PAIRED</td>\n",
       "      <td>DNBSEQ</td>\n",
       "      <td>NaN</td>\n",
       "      <td>PD_117_R12_S05#_1.fq.gz</td>\n",
       "      <td>PD_117_R12_S05#_2.fq.gz</td>\n",
       "      <td>Trp_scale-down</td>\n",
       "      <td>HMP3071_control</td>\n",
       "      <td>HMP3071</td>\n",
       "      <td>control</td>\n",
       "      <td>DDB_117</td>\n",
       "      <td>TP</td>\n",
       "      <td>DDB35_control</td>\n",
       "    </tr>\n",
       "    <tr>\n",
       "      <th>PD_117_R13_S05#</th>\n",
       "      <td>PAIRED</td>\n",
       "      <td>DNBSEQ</td>\n",
       "      <td>NaN</td>\n",
       "      <td>PD_117_R13_S05#_1.fq.gz</td>\n",
       "      <td>PD_117_R13_S05#_2.fq.gz</td>\n",
       "      <td>Trp_scale-down</td>\n",
       "      <td>HMP3071_control</td>\n",
       "      <td>HMP3071</td>\n",
       "      <td>control</td>\n",
       "      <td>DDB_117</td>\n",
       "      <td>TP</td>\n",
       "      <td>DDB35_control</td>\n",
       "    </tr>\n",
       "    <tr>\n",
       "      <th>PD_117_R14_S05#</th>\n",
       "      <td>PAIRED</td>\n",
       "      <td>DNBSEQ</td>\n",
       "      <td>NaN</td>\n",
       "      <td>PD_117_R14_S05#_1.fq.gz</td>\n",
       "      <td>PD_117_R14_S05#_2.fq.gz</td>\n",
       "      <td>Trp_scale-down</td>\n",
       "      <td>HMP3071_scale-down</td>\n",
       "      <td>HMP3071</td>\n",
       "      <td>scale-down</td>\n",
       "      <td>DDB_117</td>\n",
       "      <td>TP</td>\n",
       "      <td>DDB35_control</td>\n",
       "    </tr>\n",
       "  </tbody>\n",
       "</table>\n",
       "</div>"
      ],
      "text/plain": [
       "                LibraryLayout Platform  Run                       R1  \\\n",
       "PD_117_R10_S05#        PAIRED   DNBSEQ  NaN  PD_117_R10_S05#_1.fq.gz   \n",
       "PD_117_R11_S05#        PAIRED   DNBSEQ  NaN  PD_117_R11_S05#_1.fq.gz   \n",
       "PD_117_R12_S05#        PAIRED   DNBSEQ  NaN  PD_117_R12_S05#_1.fq.gz   \n",
       "PD_117_R13_S05#        PAIRED   DNBSEQ  NaN  PD_117_R13_S05#_1.fq.gz   \n",
       "PD_117_R14_S05#        PAIRED   DNBSEQ  NaN  PD_117_R14_S05#_1.fq.gz   \n",
       "\n",
       "                                      R2         project           condition  \\\n",
       "PD_117_R10_S05#  PD_117_R10_S05#_2.fq.gz  Trp_scale-down    DDB35_scale-down   \n",
       "PD_117_R11_S05#  PD_117_R11_S05#_2.fq.gz  Trp_scale-down     HMP3071_control   \n",
       "PD_117_R12_S05#  PD_117_R12_S05#_2.fq.gz  Trp_scale-down     HMP3071_control   \n",
       "PD_117_R13_S05#  PD_117_R13_S05#_2.fq.gz  Trp_scale-down     HMP3071_control   \n",
       "PD_117_R14_S05#  PD_117_R14_S05#_2.fq.gz  Trp_scale-down  HMP3071_scale-down   \n",
       "\n",
       "                strain_ID process_condition experiment_run strain_name  \\\n",
       "PD_117_R10_S05#     DDB35        scale-down        DDB_117          WT   \n",
       "PD_117_R11_S05#   HMP3071           control        DDB_117          TP   \n",
       "PD_117_R12_S05#   HMP3071           control        DDB_117          TP   \n",
       "PD_117_R13_S05#   HMP3071           control        DDB_117          TP   \n",
       "PD_117_R14_S05#   HMP3071        scale-down        DDB_117          TP   \n",
       "\n",
       "                reference_condition  \n",
       "PD_117_R10_S05#       DDB35_control  \n",
       "PD_117_R11_S05#       DDB35_control  \n",
       "PD_117_R12_S05#       DDB35_control  \n",
       "PD_117_R13_S05#       DDB35_control  \n",
       "PD_117_R14_S05#       DDB35_control  "
      ]
     },
     "execution_count": 41,
     "metadata": {},
     "output_type": "execute_result"
    }
   ],
   "source": [
    "DF_metadata = pd.read_csv(metadata_file,index_col=0,sep='\\t')\n",
    "print('Number of samples with metadata:',DF_metadata.shape[0])\n",
    "DF_metadata.head()"
   ]
  },
  {
   "cell_type": "markdown",
   "metadata": {},
   "source": [
    "### Remove extra sample rows"
   ]
  },
  {
   "cell_type": "markdown",
   "metadata": {},
   "source": [
    "Ensure that metadata and qc_stats data contain all log_tpm sample information."
   ]
  },
  {
   "cell_type": "code",
   "execution_count": 42,
   "metadata": {},
   "outputs": [],
   "source": [
    "assert(set(DF_log_tpm.columns) - set(DF_metadata.index) == set())\n",
    "assert(set(DF_log_tpm.columns) - set(DF_qc_stats.index) == set())"
   ]
  },
  {
   "cell_type": "code",
   "execution_count": 43,
   "metadata": {},
   "outputs": [],
   "source": [
    "DF_metadata = DF_metadata.loc[DF_log_tpm.columns]\n",
    "DF_qc_stats = DF_qc_stats.loc[DF_log_tpm.columns]"
   ]
  },
  {
   "cell_type": "code",
   "execution_count": 44,
   "metadata": {},
   "outputs": [
    {
     "data": {
      "text/plain": [
       "Index(['Total', 'Assigned', 'Unassigned_rRNA', 'Unassigned_Unmapped',\n",
       "       'Unassigned_Read_Type', 'Unassigned_Singleton',\n",
       "       'Unassigned_MappingQuality', 'Unassigned_Chimera',\n",
       "       'Unassigned_FragmentLength', 'Unassigned_Duplicate',\n",
       "       'Unassigned_MultiMapping', 'Unassigned_Secondary',\n",
       "       'Unassigned_NonSplit', 'Unassigned_NoFeatures',\n",
       "       'Unassigned_Overlapping_Length', 'Unassigned_Ambiguity',\n",
       "       'percent_assigned', 'reads_processed', 'reads_aligned',\n",
       "       'reads_aligned_percentage', 'not_aligned', 'not_aligned_percentage',\n",
       "       'Filename', 'File type', 'Encoding', 'Total Sequences',\n",
       "       'Sequences flagged as poor quality', 'Sequence length', '%GC',\n",
       "       'total_deduplicated_percentage', 'avg_sequence_length',\n",
       "       'basic_statistics', 'per_base_sequence_quality',\n",
       "       'per_sequence_quality_scores', 'per_base_sequence_content',\n",
       "       'per_sequence_gc_content', 'per_base_n_content',\n",
       "       'sequence_length_distribution', 'sequence_duplication_levels',\n",
       "       'overrepresented_sequences', 'adapter_content', 'cutadapt_version',\n",
       "       'r_processed', 'r_with_adapters', 'r_written', 'bp_processed',\n",
       "       'quality_trimmed', 'bp_written', 'percent_trimmed', 'pe_sense',\n",
       "       'pe_antisense', 'failed'],\n",
       "      dtype='object')"
      ]
     },
     "execution_count": 44,
     "metadata": {},
     "output_type": "execute_result"
    }
   ],
   "source": [
    "DF_qc_stats.columns"
   ]
  },
  {
   "cell_type": "markdown",
   "metadata": {},
   "source": [
    "## Check QC statistics"
   ]
  },
  {
   "cell_type": "markdown",
   "metadata": {},
   "source": [
    "### FastQC quality control"
   ]
  },
  {
   "cell_type": "code",
   "execution_count": 45,
   "metadata": {},
   "outputs": [],
   "source": [
    "# fastqc_cols = ['per_base_sequence_quality',\n",
    "#        'per_tile_sequence_quality', 'per_sequence_quality_scores',\n",
    "#        'per_base_sequence_content', 'per_sequence_gc_content',\n",
    "#        'per_base_n_content', 'sequence_length_distribution',\n",
    "#        'sequence_duplication_levels', 'overrepresented_sequences',\n",
    "#        'adapter_content']\n",
    "\n",
    "fastqc_cols = ['per_base_sequence_quality', 'per_sequence_quality_scores',\n",
    "       'per_base_sequence_content', 'per_sequence_gc_content',\n",
    "       'per_base_n_content', 'sequence_length_distribution',\n",
    "       'sequence_duplication_levels', 'overrepresented_sequences',\n",
    "       'adapter_content']"
   ]
  },
  {
   "cell_type": "code",
   "execution_count": 46,
   "metadata": {},
   "outputs": [
    {
     "data": {
      "image/png": "[encoded data removed]",
      "text/plain": [
       "<Figure size 640x480 with 2 Axes>"
      ]
     },
     "metadata": {},
     "output_type": "display_data"
    }
   ],
   "source": [
    "DF_fastqc = DF_qc_stats[fastqc_cols]\n",
    "ax = sns.heatmap(DF_fastqc.replace('pass',1).replace('warn',0).replace('fail',-1),\n",
    "            cmap='RdYlBu',vmax=1.3,vmin=-1.3)\n",
    "cbar = ax.collections[0].colorbar\n",
    "cbar.set_ticks([-1,0,1])\n",
    "cbar.set_ticklabels(['fail','warn','pass'])"
   ]
  },
  {
   "cell_type": "markdown",
   "metadata": {},
   "source": [
    "The following four categories are the most important:\n",
    "* per_base_sequence_quality\n",
    "* per_sequence_quality_scores\n",
    "* per_base_n_content\n",
    "* adapter_content\n",
    "    \n",
    "If a sample does not pass any of these four categories, discard the sample."
   ]
  },
  {
   "cell_type": "code",
   "execution_count": 47,
   "metadata": {},
   "outputs": [],
   "source": [
    "fastqc_fail_cols = ['per_base_sequence_quality','per_sequence_quality_scores','per_base_n_content','adapter_content']"
   ]
  },
  {
   "cell_type": "code",
   "execution_count": 48,
   "metadata": {},
   "outputs": [
    {
     "data": {
      "text/html": [
       "<div>\n",
       "<style scoped>\n",
       "    .dataframe tbody tr th:only-of-type {\n",
       "        vertical-align: middle;\n",
       "    }\n",
       "\n",
       "    .dataframe tbody tr th {\n",
       "        vertical-align: top;\n",
       "    }\n",
       "\n",
       "    .dataframe thead th {\n",
       "        text-align: right;\n",
       "    }\n",
       "</style>\n",
       "<table border=\"1\" class=\"dataframe\">\n",
       "  <thead>\n",
       "    <tr style=\"text-align: right;\">\n",
       "      <th></th>\n",
       "      <th>per_base_sequence_quality</th>\n",
       "      <th>per_sequence_quality_scores</th>\n",
       "      <th>per_base_n_content</th>\n",
       "      <th>adapter_content</th>\n",
       "    </tr>\n",
       "  </thead>\n",
       "  <tbody>\n",
       "  </tbody>\n",
       "</table>\n",
       "</div>"
      ],
      "text/plain": [
       "Empty DataFrame\n",
       "Columns: [per_base_sequence_quality, per_sequence_quality_scores, per_base_n_content, adapter_content]\n",
       "Index: []"
      ]
     },
     "execution_count": 48,
     "metadata": {},
     "output_type": "execute_result"
    }
   ],
   "source": [
    "DF_failed_fastqc = DF_fastqc[fastqc_fail_cols][(DF_fastqc[fastqc_fail_cols] != 'pass').any(axis=1)]\n",
    "DF_failed_fastqc[fastqc_fail_cols]"
   ]
  },
  {
   "cell_type": "markdown",
   "metadata": {},
   "source": [
    "Mark samples that passed."
   ]
  },
  {
   "cell_type": "code",
   "execution_count": 49,
   "metadata": {},
   "outputs": [],
   "source": [
    "DF_metadata['passed_fastqc'] = ~DF_metadata.index.isin(DF_failed_fastqc.index)"
   ]
  },
  {
   "cell_type": "markdown",
   "metadata": {},
   "source": [
    "### Number of aligned reads"
   ]
  },
  {
   "cell_type": "markdown",
   "metadata": {},
   "source": [
    "The following histogram shows how many reads map to coding sequences (i.e. mRNA). Too few aligned reads reduces the sensitivity of the resulting data."
   ]
  },
  {
   "cell_type": "code",
   "execution_count": 50,
   "metadata": {},
   "outputs": [],
   "source": [
    "min_mrna_reads = 500000 # Minimum number of reads mapped to mRNA (500,000)"
   ]
  },
  {
   "cell_type": "code",
   "execution_count": 51,
   "metadata": {},
   "outputs": [
    {
     "data": {
      "text/plain": [
       "Text(0.5, 1.0, 'Number of reads mapped to CDS')"
      ]
     },
     "execution_count": 51,
     "metadata": {},
     "output_type": "execute_result"
    },
    {
     "data": {
      "image/png": "[encoded data removed]",
      "text/plain": [
       "<Figure size 640x480 with 1 Axes>"
      ]
     },
     "metadata": {},
     "output_type": "display_data"
    }
   ],
   "source": [
    "fig,ax = plt.subplots()\n",
    "ax.hist(DF_qc_stats['Assigned']/1e6,bins=50,alpha=0.8)\n",
    "ymin,ymax = ax.get_ylim()\n",
    "ax.vlines(min_mrna_reads/1e6,ymin,ymax,color='r')\n",
    "ax.set_ylim((ymin,ymax))\n",
    "ax.set_xlabel('# Reads (M)',fontsize=14)\n",
    "ax.set_ylabel('# Samples',fontsize=14)\n",
    "ax.set_title('Number of reads mapped to CDS',fontsize=16)"
   ]
  },
  {
   "cell_type": "markdown",
   "metadata": {},
   "source": [
    "Identify samples with poor read depth:"
   ]
  },
  {
   "cell_type": "code",
   "execution_count": 52,
   "metadata": {},
   "outputs": [
    {
     "data": {
      "text/html": [
       "<div>\n",
       "<style scoped>\n",
       "    .dataframe tbody tr th:only-of-type {\n",
       "        vertical-align: middle;\n",
       "    }\n",
       "\n",
       "    .dataframe tbody tr th {\n",
       "        vertical-align: top;\n",
       "    }\n",
       "\n",
       "    .dataframe thead th {\n",
       "        text-align: right;\n",
       "    }\n",
       "</style>\n",
       "<table border=\"1\" class=\"dataframe\">\n",
       "  <thead>\n",
       "    <tr style=\"text-align: right;\">\n",
       "      <th></th>\n",
       "      <th>Total</th>\n",
       "      <th>Assigned</th>\n",
       "      <th>Unassigned_rRNA</th>\n",
       "      <th>Unassigned_Unmapped</th>\n",
       "      <th>Unassigned_Read_Type</th>\n",
       "      <th>Unassigned_Singleton</th>\n",
       "      <th>Unassigned_MappingQuality</th>\n",
       "      <th>Unassigned_Chimera</th>\n",
       "      <th>Unassigned_FragmentLength</th>\n",
       "      <th>Unassigned_Duplicate</th>\n",
       "      <th>...</th>\n",
       "      <th>r_processed</th>\n",
       "      <th>r_with_adapters</th>\n",
       "      <th>r_written</th>\n",
       "      <th>bp_processed</th>\n",
       "      <th>quality_trimmed</th>\n",
       "      <th>bp_written</th>\n",
       "      <th>percent_trimmed</th>\n",
       "      <th>pe_sense</th>\n",
       "      <th>pe_antisense</th>\n",
       "      <th>failed</th>\n",
       "    </tr>\n",
       "  </thead>\n",
       "  <tbody>\n",
       "  </tbody>\n",
       "</table>\n",
       "<p>0 rows × 52 columns</p>\n",
       "</div>"
      ],
      "text/plain": [
       "Empty DataFrame\n",
       "Columns: [Total, Assigned, Unassigned_rRNA, Unassigned_Unmapped, Unassigned_Read_Type, Unassigned_Singleton, Unassigned_MappingQuality, Unassigned_Chimera, Unassigned_FragmentLength, Unassigned_Duplicate, Unassigned_MultiMapping, Unassigned_Secondary, Unassigned_NonSplit, Unassigned_NoFeatures, Unassigned_Overlapping_Length, Unassigned_Ambiguity, percent_assigned, reads_processed, reads_aligned, reads_aligned_percentage, not_aligned, not_aligned_percentage, Filename, File type, Encoding, Total Sequences, Sequences flagged as poor quality, Sequence length, %GC, total_deduplicated_percentage, avg_sequence_length, basic_statistics, per_base_sequence_quality, per_sequence_quality_scores, per_base_sequence_content, per_sequence_gc_content, per_base_n_content, sequence_length_distribution, sequence_duplication_levels, overrepresented_sequences, adapter_content, cutadapt_version, r_processed, r_with_adapters, r_written, bp_processed, quality_trimmed, bp_written, percent_trimmed, pe_sense, pe_antisense, failed]\n",
       "Index: []\n",
       "\n",
       "[0 rows x 52 columns]"
      ]
     },
     "execution_count": 52,
     "metadata": {},
     "output_type": "execute_result"
    }
   ],
   "source": [
    "DF_failed_mrna = DF_qc_stats[DF_qc_stats['Assigned'] < min_mrna_reads].sort_values('Assigned')\n",
    "DF_failed_mrna"
   ]
  },
  {
   "cell_type": "markdown",
   "metadata": {},
   "source": [
    "Mark samples that passed."
   ]
  },
  {
   "cell_type": "code",
   "execution_count": 53,
   "metadata": {},
   "outputs": [],
   "source": [
    "DF_metadata['passed_reads_mapped_to_CDS'] = ~DF_metadata.index.isin(DF_failed_mrna.index)"
   ]
  },
  {
   "cell_type": "markdown",
   "metadata": {},
   "source": [
    "### Examine Global Correlations"
   ]
  },
  {
   "cell_type": "markdown",
   "metadata": {},
   "source": [
    "Only examine data that passed the first two steps."
   ]
  },
  {
   "cell_type": "code",
   "execution_count": 54,
   "metadata": {},
   "outputs": [],
   "source": [
    "metadata_passed_step2 = DF_metadata[DF_metadata[['passed_fastqc','passed_reads_mapped_to_CDS']].all(axis=1)]\n",
    "DF_log_tpm_passed_step2 = DF_log_tpm[metadata_passed_step2.index]"
   ]
  },
  {
   "cell_type": "markdown",
   "metadata": {},
   "source": [
    "A clustermap is a great way to visualize the global correlations between one sample and all others. The ``global_clustering`` function uses hierarchical clustering to identify specific clusters in the clustermap. The optional arguments are:\n",
    "\n",
    "* ``threshold``: Threshold used to extract clusters from the hierarchy. To increase the number of clusters, decrease the value of ``threshold``. To decrease the number of clusters, increase the value of ``threshold`` (default: 0.3)\n",
    "* ``figsize``: A tuple describing the length and width of the final clustermap. A larger figsize can make x and y-axis labels clearer.\n",
    "* ``xticklabels``: Show NCBI SRA accession numbers on the x-axis\n",
    "* ``yticklabels``: Show NCBI SRA accession numbers on the y-axis"
   ]
  },
  {
   "cell_type": "code",
   "execution_count": 55,
   "metadata": {},
   "outputs": [],
   "source": [
    "import scipy.cluster.hierarchy as sch\n",
    "import matplotlib.patches as patches\n",
    "\n",
    "def global_clustering(data, threshold=0.3, xticklabels=False, yticklabels=False, figsize=(9,9)):\n",
    "    \n",
    "    # Retrieve clusters using fcluster \n",
    "    corr = data.corr()\n",
    "    corr.fillna(0,inplace=True)\n",
    "    dist = sch.distance.pdist(corr)\n",
    "    link = sch.linkage(dist, method='complete')\n",
    "    clst = pd.DataFrame(index=data.columns)\n",
    "    clst['cluster'] = sch.fcluster(link, threshold * dist.max(), 'distance')\n",
    "\n",
    "    # Get colors for each cluster\n",
    "    cm = plt.cm.get_cmap('tab20')\n",
    "    cluster_colors = dict(zip(clst.cluster.unique(), cm.colors))\n",
    "    clst['color'] = clst.cluster.map(cluster_colors)\n",
    "\n",
    "    print('Number of cluster: ', len(cluster_colors))\n",
    "    \n",
    "    legend_items = [patches.Patch(color=c, label=l) for l,c in cluster_colors.items()]\n",
    "    \n",
    "    sns.set(rc={'figure.facecolor':'white'})\n",
    "    \n",
    "    clst_map = sns.clustermap(data.corr(), \n",
    "                              figsize=figsize, \n",
    "                              row_linkage=link, \n",
    "                              col_linkage=link, \n",
    "                              col_colors=clst.color,\n",
    "                              yticklabels=yticklabels, \n",
    "                              xticklabels=xticklabels,\n",
    "                              vmin=0, \n",
    "                              vmax=1)\n",
    "    \n",
    "    legend = clst_map.ax_heatmap.legend(loc='upper left', \n",
    "                                        bbox_to_anchor=(1.01,0.85), \n",
    "                                        handles=legend_items,\n",
    "                                        frameon=True)\n",
    "    \n",
    "    legend.set_title(title='Clusters',prop={'size':10})\n",
    "    \n",
    "    return clst['cluster']"
   ]
  },
  {
   "cell_type": "code",
   "execution_count": 56,
   "metadata": {},
   "outputs": [
    {
     "name": "stderr",
     "output_type": "stream",
     "text": [
      "C:\\Users\\jonas\\AppData\\Local\\Temp\\ipykernel_1292\\3866276819.py:15: MatplotlibDeprecationWarning: The get_cmap function was deprecated in Matplotlib 3.7 and will be removed two minor releases later. Use ``matplotlib.colormaps[name]`` or ``matplotlib.colormaps.get_cmap(obj)`` instead.\n",
      "  cm = plt.cm.get_cmap('tab20')\n"
     ]
    },
    {
     "name": "stdout",
     "output_type": "stream",
     "text": [
      "Number of cluster:  2\n"
     ]
    },
    {
     "data": {
      "image/png": "[encoded data removed]",
      "text/plain": [
       "<Figure size 900x900 with 5 Axes>"
      ]
     },
     "metadata": {},
     "output_type": "display_data"
    }
   ],
   "source": [
    "clusters = global_clustering(DF_log_tpm_passed_step2)"
   ]
  },
  {
   "cell_type": "markdown",
   "metadata": {},
   "source": [
    "Select clusters to remove."
   ]
  },
  {
   "cell_type": "code",
   "execution_count": 57,
   "metadata": {},
   "outputs": [],
   "source": [
    "remove_clusters = []\n",
    "passed_global_corr = clusters[~clusters.isin(remove_clusters)].index"
   ]
  },
  {
   "cell_type": "code",
   "execution_count": 58,
   "metadata": {},
   "outputs": [
    {
     "data": {
      "text/plain": [
       "12"
      ]
     },
     "execution_count": 58,
     "metadata": {},
     "output_type": "execute_result"
    }
   ],
   "source": [
    "len(passed_global_corr)"
   ]
  },
  {
   "cell_type": "markdown",
   "metadata": {},
   "source": [
    "The following code can be adapted to see the NCBI SRA accession for samples in each cluster."
   ]
  },
  {
   "cell_type": "code",
   "execution_count": 59,
   "metadata": {},
   "outputs": [
    {
     "data": {
      "text/plain": [
       "PD_117_R11_S05#    2\n",
       "PD_117_R12_S05#    2\n",
       "PD_117_R13_S05#    2\n",
       "PD_117_R14_S05#    2\n",
       "PD_117_R15_S05#    2\n",
       "PD_117_R16_S05#    2\n",
       "Name: cluster, dtype: int32"
      ]
     },
     "execution_count": 59,
     "metadata": {},
     "output_type": "execute_result"
    }
   ],
   "source": [
    "clusters[clusters == 2]"
   ]
  },
  {
   "cell_type": "markdown",
   "metadata": {},
   "source": [
    "Re-cluster samples to ensure all outliers were removed."
   ]
  },
  {
   "cell_type": "code",
   "execution_count": 60,
   "metadata": {},
   "outputs": [],
   "source": [
    "DF_log_tpm_passed_step3 = DF_log_tpm[passed_global_corr]"
   ]
  },
  {
   "cell_type": "code",
   "execution_count": 61,
   "metadata": {},
   "outputs": [
    {
     "name": "stderr",
     "output_type": "stream",
     "text": [
      "C:\\Users\\jonas\\AppData\\Local\\Temp\\ipykernel_1292\\3866276819.py:15: MatplotlibDeprecationWarning: The get_cmap function was deprecated in Matplotlib 3.7 and will be removed two minor releases later. Use ``matplotlib.colormaps[name]`` or ``matplotlib.colormaps.get_cmap(obj)`` instead.\n",
      "  cm = plt.cm.get_cmap('tab20')\n"
     ]
    },
    {
     "name": "stdout",
     "output_type": "stream",
     "text": [
      "Number of cluster:  2\n"
     ]
    },
    {
     "data": {
      "image/png": "[encoded data removed]",
      "text/plain": [
       "<Figure size 900x900 with 5 Axes>"
      ]
     },
     "metadata": {},
     "output_type": "display_data"
    }
   ],
   "source": [
    "clusters = global_clustering(DF_log_tpm_passed_step3)"
   ]
  },
  {
   "cell_type": "markdown",
   "metadata": {},
   "source": [
    "Once you are satisfied with your dataset, mark the samples that passed the global correlation"
   ]
  },
  {
   "cell_type": "code",
   "execution_count": 62,
   "metadata": {},
   "outputs": [],
   "source": [
    "DF_metadata['passed_global_correlation'] = DF_metadata.index.isin(passed_global_corr)"
   ]
  },
  {
   "cell_type": "code",
   "execution_count": 63,
   "metadata": {},
   "outputs": [
    {
     "data": {
      "text/html": [
       "<div>\n",
       "<style scoped>\n",
       "    .dataframe tbody tr th:only-of-type {\n",
       "        vertical-align: middle;\n",
       "    }\n",
       "\n",
       "    .dataframe tbody tr th {\n",
       "        vertical-align: top;\n",
       "    }\n",
       "\n",
       "    .dataframe thead th {\n",
       "        text-align: right;\n",
       "    }\n",
       "</style>\n",
       "<table border=\"1\" class=\"dataframe\">\n",
       "  <thead>\n",
       "    <tr style=\"text-align: right;\">\n",
       "      <th></th>\n",
       "      <th>LibraryLayout</th>\n",
       "      <th>Platform</th>\n",
       "      <th>Run</th>\n",
       "      <th>R1</th>\n",
       "      <th>R2</th>\n",
       "      <th>project</th>\n",
       "      <th>condition</th>\n",
       "      <th>strain_ID</th>\n",
       "      <th>process_condition</th>\n",
       "      <th>experiment_run</th>\n",
       "      <th>strain_name</th>\n",
       "      <th>reference_condition</th>\n",
       "      <th>passed_fastqc</th>\n",
       "      <th>passed_reads_mapped_to_CDS</th>\n",
       "      <th>passed_global_correlation</th>\n",
       "    </tr>\n",
       "  </thead>\n",
       "  <tbody>\n",
       "    <tr>\n",
       "      <th>PD_117_R10_S05#</th>\n",
       "      <td>PAIRED</td>\n",
       "      <td>DNBSEQ</td>\n",
       "      <td>NaN</td>\n",
       "      <td>PD_117_R10_S05#_1.fq.gz</td>\n",
       "      <td>PD_117_R10_S05#_2.fq.gz</td>\n",
       "      <td>Trp_scale-down</td>\n",
       "      <td>DDB35_scale-down</td>\n",
       "      <td>DDB35</td>\n",
       "      <td>scale-down</td>\n",
       "      <td>DDB_117</td>\n",
       "      <td>WT</td>\n",
       "      <td>DDB35_control</td>\n",
       "      <td>True</td>\n",
       "      <td>True</td>\n",
       "      <td>True</td>\n",
       "    </tr>\n",
       "    <tr>\n",
       "      <th>PD_117_R11_S05#</th>\n",
       "      <td>PAIRED</td>\n",
       "      <td>DNBSEQ</td>\n",
       "      <td>NaN</td>\n",
       "      <td>PD_117_R11_S05#_1.fq.gz</td>\n",
       "      <td>PD_117_R11_S05#_2.fq.gz</td>\n",
       "      <td>Trp_scale-down</td>\n",
       "      <td>HMP3071_control</td>\n",
       "      <td>HMP3071</td>\n",
       "      <td>control</td>\n",
       "      <td>DDB_117</td>\n",
       "      <td>TP</td>\n",
       "      <td>DDB35_control</td>\n",
       "      <td>True</td>\n",
       "      <td>True</td>\n",
       "      <td>True</td>\n",
       "    </tr>\n",
       "    <tr>\n",
       "      <th>PD_117_R12_S05#</th>\n",
       "      <td>PAIRED</td>\n",
       "      <td>DNBSEQ</td>\n",
       "      <td>NaN</td>\n",
       "      <td>PD_117_R12_S05#_1.fq.gz</td>\n",
       "      <td>PD_117_R12_S05#_2.fq.gz</td>\n",
       "      <td>Trp_scale-down</td>\n",
       "      <td>HMP3071_control</td>\n",
       "      <td>HMP3071</td>\n",
       "      <td>control</td>\n",
       "      <td>DDB_117</td>\n",
       "      <td>TP</td>\n",
       "      <td>DDB35_control</td>\n",
       "      <td>True</td>\n",
       "      <td>True</td>\n",
       "      <td>True</td>\n",
       "    </tr>\n",
       "    <tr>\n",
       "      <th>PD_117_R13_S05#</th>\n",
       "      <td>PAIRED</td>\n",
       "      <td>DNBSEQ</td>\n",
       "      <td>NaN</td>\n",
       "      <td>PD_117_R13_S05#_1.fq.gz</td>\n",
       "      <td>PD_117_R13_S05#_2.fq.gz</td>\n",
       "      <td>Trp_scale-down</td>\n",
       "      <td>HMP3071_control</td>\n",
       "      <td>HMP3071</td>\n",
       "      <td>control</td>\n",
       "      <td>DDB_117</td>\n",
       "      <td>TP</td>\n",
       "      <td>DDB35_control</td>\n",
       "      <td>True</td>\n",
       "      <td>True</td>\n",
       "      <td>True</td>\n",
       "    </tr>\n",
       "    <tr>\n",
       "      <th>PD_117_R14_S05#</th>\n",
       "      <td>PAIRED</td>\n",
       "      <td>DNBSEQ</td>\n",
       "      <td>NaN</td>\n",
       "      <td>PD_117_R14_S05#_1.fq.gz</td>\n",
       "      <td>PD_117_R14_S05#_2.fq.gz</td>\n",
       "      <td>Trp_scale-down</td>\n",
       "      <td>HMP3071_scale-down</td>\n",
       "      <td>HMP3071</td>\n",
       "      <td>scale-down</td>\n",
       "      <td>DDB_117</td>\n",
       "      <td>TP</td>\n",
       "      <td>DDB35_control</td>\n",
       "      <td>True</td>\n",
       "      <td>True</td>\n",
       "      <td>True</td>\n",
       "    </tr>\n",
       "    <tr>\n",
       "      <th>PD_117_R15_S05#</th>\n",
       "      <td>PAIRED</td>\n",
       "      <td>DNBSEQ</td>\n",
       "      <td>NaN</td>\n",
       "      <td>PD_117_R15_S05#_1.fq.gz</td>\n",
       "      <td>PD_117_R15_S05#_2.fq.gz</td>\n",
       "      <td>Trp_scale-down</td>\n",
       "      <td>HMP3071_scale-down</td>\n",
       "      <td>HMP3071</td>\n",
       "      <td>scale-down</td>\n",
       "      <td>DDB_117</td>\n",
       "      <td>TP</td>\n",
       "      <td>DDB35_control</td>\n",
       "      <td>True</td>\n",
       "      <td>True</td>\n",
       "      <td>True</td>\n",
       "    </tr>\n",
       "    <tr>\n",
       "      <th>PD_117_R16_S05#</th>\n",
       "      <td>PAIRED</td>\n",
       "      <td>DNBSEQ</td>\n",
       "      <td>NaN</td>\n",
       "      <td>PD_117_R16_S05#_1.fq.gz</td>\n",
       "      <td>PD_117_R16_S05#_2.fq.gz</td>\n",
       "      <td>Trp_scale-down</td>\n",
       "      <td>HMP3071_scale-down</td>\n",
       "      <td>HMP3071</td>\n",
       "      <td>scale-down</td>\n",
       "      <td>DDB_117</td>\n",
       "      <td>TP</td>\n",
       "      <td>DDB35_control</td>\n",
       "      <td>True</td>\n",
       "      <td>True</td>\n",
       "      <td>True</td>\n",
       "    </tr>\n",
       "    <tr>\n",
       "      <th>PD_117_R5_S05#1</th>\n",
       "      <td>PAIRED</td>\n",
       "      <td>DNBSEQ</td>\n",
       "      <td>NaN</td>\n",
       "      <td>PD_117_R5_S05#1_1.fq.gz</td>\n",
       "      <td>PD_117_R5_S05#1_2.fq.gz</td>\n",
       "      <td>Trp_scale-down</td>\n",
       "      <td>DDB35_control</td>\n",
       "      <td>DDB35</td>\n",
       "      <td>control</td>\n",
       "      <td>DDB_117</td>\n",
       "      <td>WT</td>\n",
       "      <td>DDB35_control</td>\n",
       "      <td>True</td>\n",
       "      <td>True</td>\n",
       "      <td>True</td>\n",
       "    </tr>\n",
       "    <tr>\n",
       "      <th>PD_117_R6_S05#1</th>\n",
       "      <td>PAIRED</td>\n",
       "      <td>DNBSEQ</td>\n",
       "      <td>NaN</td>\n",
       "      <td>PD_117_R6_S05#1_1.fq.gz</td>\n",
       "      <td>PD_117_R6_S05#1_2.fq.gz</td>\n",
       "      <td>Trp_scale-down</td>\n",
       "      <td>DDB35_control</td>\n",
       "      <td>DDB35</td>\n",
       "      <td>control</td>\n",
       "      <td>DDB_117</td>\n",
       "      <td>WT</td>\n",
       "      <td>DDB35_control</td>\n",
       "      <td>True</td>\n",
       "      <td>True</td>\n",
       "      <td>True</td>\n",
       "    </tr>\n",
       "    <tr>\n",
       "      <th>PD_117_R7_S05#1</th>\n",
       "      <td>PAIRED</td>\n",
       "      <td>DNBSEQ</td>\n",
       "      <td>NaN</td>\n",
       "      <td>PD_117_R7_S05#1_1.fq.gz</td>\n",
       "      <td>PD_117_R7_S05#1_2.fq.gz</td>\n",
       "      <td>Trp_scale-down</td>\n",
       "      <td>DDB35_control</td>\n",
       "      <td>DDB35</td>\n",
       "      <td>control</td>\n",
       "      <td>DDB_117</td>\n",
       "      <td>WT</td>\n",
       "      <td>DDB35_control</td>\n",
       "      <td>True</td>\n",
       "      <td>True</td>\n",
       "      <td>True</td>\n",
       "    </tr>\n",
       "    <tr>\n",
       "      <th>PD_117_R8_S05#1</th>\n",
       "      <td>PAIRED</td>\n",
       "      <td>DNBSEQ</td>\n",
       "      <td>NaN</td>\n",
       "      <td>PD_117_R8_S05#1_1.fq.gz</td>\n",
       "      <td>PD_117_R8_S05#1_2.fq.gz</td>\n",
       "      <td>Trp_scale-down</td>\n",
       "      <td>DDB35_scale-down</td>\n",
       "      <td>DDB35</td>\n",
       "      <td>scale-down</td>\n",
       "      <td>DDB_117</td>\n",
       "      <td>WT</td>\n",
       "      <td>DDB35_control</td>\n",
       "      <td>True</td>\n",
       "      <td>True</td>\n",
       "      <td>True</td>\n",
       "    </tr>\n",
       "    <tr>\n",
       "      <th>PD_117_R9_S05#1</th>\n",
       "      <td>PAIRED</td>\n",
       "      <td>DNBSEQ</td>\n",
       "      <td>NaN</td>\n",
       "      <td>PD_117_R9_S05#1_1.fq.gz</td>\n",
       "      <td>PD_117_R9_S05#1_2.fq.gz</td>\n",
       "      <td>Trp_scale-down</td>\n",
       "      <td>DDB35_scale-down</td>\n",
       "      <td>DDB35</td>\n",
       "      <td>scale-down</td>\n",
       "      <td>DDB_117</td>\n",
       "      <td>WT</td>\n",
       "      <td>DDB35_control</td>\n",
       "      <td>True</td>\n",
       "      <td>True</td>\n",
       "      <td>True</td>\n",
       "    </tr>\n",
       "  </tbody>\n",
       "</table>\n",
       "</div>"
      ],
      "text/plain": [
       "                LibraryLayout Platform  Run                       R1  \\\n",
       "PD_117_R10_S05#        PAIRED   DNBSEQ  NaN  PD_117_R10_S05#_1.fq.gz   \n",
       "PD_117_R11_S05#        PAIRED   DNBSEQ  NaN  PD_117_R11_S05#_1.fq.gz   \n",
       "PD_117_R12_S05#        PAIRED   DNBSEQ  NaN  PD_117_R12_S05#_1.fq.gz   \n",
       "PD_117_R13_S05#        PAIRED   DNBSEQ  NaN  PD_117_R13_S05#_1.fq.gz   \n",
       "PD_117_R14_S05#        PAIRED   DNBSEQ  NaN  PD_117_R14_S05#_1.fq.gz   \n",
       "PD_117_R15_S05#        PAIRED   DNBSEQ  NaN  PD_117_R15_S05#_1.fq.gz   \n",
       "PD_117_R16_S05#        PAIRED   DNBSEQ  NaN  PD_117_R16_S05#_1.fq.gz   \n",
       "PD_117_R5_S05#1        PAIRED   DNBSEQ  NaN  PD_117_R5_S05#1_1.fq.gz   \n",
       "PD_117_R6_S05#1        PAIRED   DNBSEQ  NaN  PD_117_R6_S05#1_1.fq.gz   \n",
       "PD_117_R7_S05#1        PAIRED   DNBSEQ  NaN  PD_117_R7_S05#1_1.fq.gz   \n",
       "PD_117_R8_S05#1        PAIRED   DNBSEQ  NaN  PD_117_R8_S05#1_1.fq.gz   \n",
       "PD_117_R9_S05#1        PAIRED   DNBSEQ  NaN  PD_117_R9_S05#1_1.fq.gz   \n",
       "\n",
       "                                      R2         project           condition  \\\n",
       "PD_117_R10_S05#  PD_117_R10_S05#_2.fq.gz  Trp_scale-down    DDB35_scale-down   \n",
       "PD_117_R11_S05#  PD_117_R11_S05#_2.fq.gz  Trp_scale-down     HMP3071_control   \n",
       "PD_117_R12_S05#  PD_117_R12_S05#_2.fq.gz  Trp_scale-down     HMP3071_control   \n",
       "PD_117_R13_S05#  PD_117_R13_S05#_2.fq.gz  Trp_scale-down     HMP3071_control   \n",
       "PD_117_R14_S05#  PD_117_R14_S05#_2.fq.gz  Trp_scale-down  HMP3071_scale-down   \n",
       "PD_117_R15_S05#  PD_117_R15_S05#_2.fq.gz  Trp_scale-down  HMP3071_scale-down   \n",
       "PD_117_R16_S05#  PD_117_R16_S05#_2.fq.gz  Trp_scale-down  HMP3071_scale-down   \n",
       "PD_117_R5_S05#1  PD_117_R5_S05#1_2.fq.gz  Trp_scale-down       DDB35_control   \n",
       "PD_117_R6_S05#1  PD_117_R6_S05#1_2.fq.gz  Trp_scale-down       DDB35_control   \n",
       "PD_117_R7_S05#1  PD_117_R7_S05#1_2.fq.gz  Trp_scale-down       DDB35_control   \n",
       "PD_117_R8_S05#1  PD_117_R8_S05#1_2.fq.gz  Trp_scale-down    DDB35_scale-down   \n",
       "PD_117_R9_S05#1  PD_117_R9_S05#1_2.fq.gz  Trp_scale-down    DDB35_scale-down   \n",
       "\n",
       "                strain_ID process_condition experiment_run strain_name  \\\n",
       "PD_117_R10_S05#     DDB35        scale-down        DDB_117          WT   \n",
       "PD_117_R11_S05#   HMP3071           control        DDB_117          TP   \n",
       "PD_117_R12_S05#   HMP3071           control        DDB_117          TP   \n",
       "PD_117_R13_S05#   HMP3071           control        DDB_117          TP   \n",
       "PD_117_R14_S05#   HMP3071        scale-down        DDB_117          TP   \n",
       "PD_117_R15_S05#   HMP3071        scale-down        DDB_117          TP   \n",
       "PD_117_R16_S05#   HMP3071        scale-down        DDB_117          TP   \n",
       "PD_117_R5_S05#1     DDB35           control        DDB_117          WT   \n",
       "PD_117_R6_S05#1     DDB35           control        DDB_117          WT   \n",
       "PD_117_R7_S05#1     DDB35           control        DDB_117          WT   \n",
       "PD_117_R8_S05#1     DDB35        scale-down        DDB_117          WT   \n",
       "PD_117_R9_S05#1     DDB35        scale-down        DDB_117          WT   \n",
       "\n",
       "                reference_condition  passed_fastqc  \\\n",
       "PD_117_R10_S05#       DDB35_control           True   \n",
       "PD_117_R11_S05#       DDB35_control           True   \n",
       "PD_117_R12_S05#       DDB35_control           True   \n",
       "PD_117_R13_S05#       DDB35_control           True   \n",
       "PD_117_R14_S05#       DDB35_control           True   \n",
       "PD_117_R15_S05#       DDB35_control           True   \n",
       "PD_117_R16_S05#       DDB35_control           True   \n",
       "PD_117_R5_S05#1       DDB35_control           True   \n",
       "PD_117_R6_S05#1       DDB35_control           True   \n",
       "PD_117_R7_S05#1       DDB35_control           True   \n",
       "PD_117_R8_S05#1       DDB35_control           True   \n",
       "PD_117_R9_S05#1       DDB35_control           True   \n",
       "\n",
       "                 passed_reads_mapped_to_CDS  passed_global_correlation  \n",
       "PD_117_R10_S05#                        True                       True  \n",
       "PD_117_R11_S05#                        True                       True  \n",
       "PD_117_R12_S05#                        True                       True  \n",
       "PD_117_R13_S05#                        True                       True  \n",
       "PD_117_R14_S05#                        True                       True  \n",
       "PD_117_R15_S05#                        True                       True  \n",
       "PD_117_R16_S05#                        True                       True  \n",
       "PD_117_R5_S05#1                        True                       True  \n",
       "PD_117_R6_S05#1                        True                       True  \n",
       "PD_117_R7_S05#1                        True                       True  \n",
       "PD_117_R8_S05#1                        True                       True  \n",
       "PD_117_R9_S05#1                        True                       True  "
      ]
     },
     "execution_count": 63,
     "metadata": {},
     "output_type": "execute_result"
    }
   ],
   "source": [
    "DF_metadata"
   ]
  },
  {
   "cell_type": "markdown",
   "metadata": {},
   "source": [
    "# Remove failed samples"
   ]
  },
  {
   "cell_type": "code",
   "execution_count": 64,
   "metadata": {},
   "outputs": [],
   "source": [
    "qc_columns = ['passed_fastqc',\n",
    "              'passed_reads_mapped_to_CDS',\n",
    "              'passed_global_correlation']"
   ]
  },
  {
   "cell_type": "code",
   "execution_count": 65,
   "metadata": {},
   "outputs": [],
   "source": [
    "pass_qc = DF_metadata[qc_columns].all(axis=1)\n",
    "DF_metadata_passed = DF_metadata[pass_qc]"
   ]
  },
  {
   "cell_type": "code",
   "execution_count": 66,
   "metadata": {},
   "outputs": [
    {
     "ename": "ValueError",
     "evalue": "cannot convert float NaN to integer",
     "output_type": "error",
     "traceback": [
      "\u001b[1;31m---------------------------------------------------------------------------\u001b[0m",
      "\u001b[1;31mValueError\u001b[0m                                Traceback (most recent call last)",
      "Cell \u001b[1;32mIn[66], line 1\u001b[0m\n\u001b[1;32m----> 1\u001b[0m _,_,pcts \u001b[38;5;241m=\u001b[39m \u001b[43mplt\u001b[49m\u001b[38;5;241;43m.\u001b[39;49m\u001b[43mpie\u001b[49m\u001b[43m(\u001b[49m\u001b[43mpass_qc\u001b[49m\u001b[38;5;241;43m.\u001b[39;49m\u001b[43mvalue_counts\u001b[49m\u001b[43m(\u001b[49m\u001b[43m)\u001b[49m\u001b[38;5;241;43m.\u001b[39;49m\u001b[43mreindex\u001b[49m\u001b[43m(\u001b[49m\u001b[43m[\u001b[49m\u001b[38;5;28;43;01mFalse\u001b[39;49;00m\u001b[43m,\u001b[49m\u001b[38;5;28;43;01mTrue\u001b[39;49;00m\u001b[43m]\u001b[49m\u001b[43m)\u001b[49m\u001b[43m,\u001b[49m\n\u001b[0;32m      2\u001b[0m \u001b[43m        \u001b[49m\u001b[43mlabels\u001b[49m\u001b[43m \u001b[49m\u001b[38;5;241;43m=\u001b[39;49m\u001b[43m \u001b[49m\u001b[43m[\u001b[49m\u001b[38;5;124;43m'\u001b[39;49m\u001b[38;5;124;43mFailed\u001b[39;49m\u001b[38;5;124;43m'\u001b[39;49m\u001b[43m,\u001b[49m\u001b[38;5;124;43m'\u001b[39;49m\u001b[38;5;124;43mPassed\u001b[39;49m\u001b[38;5;124;43m'\u001b[39;49m\u001b[43m]\u001b[49m\u001b[43m,\u001b[49m\n\u001b[0;32m      3\u001b[0m \u001b[43m        \u001b[49m\u001b[43mcolors\u001b[49m\u001b[38;5;241;43m=\u001b[39;49m\u001b[43m[\u001b[49m\u001b[38;5;124;43m'\u001b[39;49m\u001b[38;5;124;43mtab:red\u001b[39;49m\u001b[38;5;124;43m'\u001b[39;49m\u001b[43m,\u001b[49m\u001b[38;5;124;43m'\u001b[39;49m\u001b[38;5;124;43mtab:blue\u001b[39;49m\u001b[38;5;124;43m'\u001b[39;49m\u001b[43m]\u001b[49m\u001b[43m,\u001b[49m\n\u001b[0;32m      4\u001b[0m \u001b[43m        \u001b[49m\u001b[43mautopct\u001b[49m\u001b[38;5;241;43m=\u001b[39;49m\u001b[38;5;124;43m'\u001b[39;49m\u001b[38;5;132;43;01m%.0f\u001b[39;49;00m\u001b[38;5;132;43;01m%%\u001b[39;49;00m\u001b[38;5;124;43m'\u001b[39;49m\u001b[43m,\u001b[49m\u001b[43mtextprops\u001b[49m\u001b[38;5;241;43m=\u001b[39;49m\u001b[43m{\u001b[49m\u001b[38;5;124;43m'\u001b[39;49m\u001b[38;5;124;43msize\u001b[39;49m\u001b[38;5;124;43m'\u001b[39;49m\u001b[43m:\u001b[49m\u001b[38;5;241;43m16\u001b[39;49m\u001b[43m}\u001b[49m\u001b[43m)\u001b[49m;\n\u001b[0;32m      6\u001b[0m \u001b[38;5;66;03m# Colors percents white\u001b[39;00m\n\u001b[0;32m      7\u001b[0m \u001b[38;5;28;01mfor\u001b[39;00m pct \u001b[38;5;129;01min\u001b[39;00m pcts:\n",
      "File \u001b[1;32m~\\anaconda3\\lib\\site-packages\\matplotlib\\pyplot.py:2799\u001b[0m, in \u001b[0;36mpie\u001b[1;34m(x, explode, labels, colors, autopct, pctdistance, shadow, labeldistance, startangle, radius, counterclock, wedgeprops, textprops, center, frame, rotatelabels, normalize, hatch, data)\u001b[0m\n\u001b[0;32m   2792\u001b[0m \u001b[38;5;129m@_copy_docstring_and_deprecators\u001b[39m(Axes\u001b[38;5;241m.\u001b[39mpie)\n\u001b[0;32m   2793\u001b[0m \u001b[38;5;28;01mdef\u001b[39;00m \u001b[38;5;21mpie\u001b[39m(\n\u001b[0;32m   2794\u001b[0m         x, explode\u001b[38;5;241m=\u001b[39m\u001b[38;5;28;01mNone\u001b[39;00m, labels\u001b[38;5;241m=\u001b[39m\u001b[38;5;28;01mNone\u001b[39;00m, colors\u001b[38;5;241m=\u001b[39m\u001b[38;5;28;01mNone\u001b[39;00m, autopct\u001b[38;5;241m=\u001b[39m\u001b[38;5;28;01mNone\u001b[39;00m,\n\u001b[1;32m   (...)\u001b[0m\n\u001b[0;32m   2797\u001b[0m         textprops\u001b[38;5;241m=\u001b[39m\u001b[38;5;28;01mNone\u001b[39;00m, center\u001b[38;5;241m=\u001b[39m(\u001b[38;5;241m0\u001b[39m, \u001b[38;5;241m0\u001b[39m), frame\u001b[38;5;241m=\u001b[39m\u001b[38;5;28;01mFalse\u001b[39;00m,\n\u001b[0;32m   2798\u001b[0m         rotatelabels\u001b[38;5;241m=\u001b[39m\u001b[38;5;28;01mFalse\u001b[39;00m, \u001b[38;5;241m*\u001b[39m, normalize\u001b[38;5;241m=\u001b[39m\u001b[38;5;28;01mTrue\u001b[39;00m, hatch\u001b[38;5;241m=\u001b[39m\u001b[38;5;28;01mNone\u001b[39;00m, data\u001b[38;5;241m=\u001b[39m\u001b[38;5;28;01mNone\u001b[39;00m):\n\u001b[1;32m-> 2799\u001b[0m     \u001b[38;5;28;01mreturn\u001b[39;00m gca()\u001b[38;5;241m.\u001b[39mpie(\n\u001b[0;32m   2800\u001b[0m         x, explode\u001b[38;5;241m=\u001b[39mexplode, labels\u001b[38;5;241m=\u001b[39mlabels, colors\u001b[38;5;241m=\u001b[39mcolors,\n\u001b[0;32m   2801\u001b[0m         autopct\u001b[38;5;241m=\u001b[39mautopct, pctdistance\u001b[38;5;241m=\u001b[39mpctdistance, shadow\u001b[38;5;241m=\u001b[39mshadow,\n\u001b[0;32m   2802\u001b[0m         labeldistance\u001b[38;5;241m=\u001b[39mlabeldistance, startangle\u001b[38;5;241m=\u001b[39mstartangle,\n\u001b[0;32m   2803\u001b[0m         radius\u001b[38;5;241m=\u001b[39mradius, counterclock\u001b[38;5;241m=\u001b[39mcounterclock,\n\u001b[0;32m   2804\u001b[0m         wedgeprops\u001b[38;5;241m=\u001b[39mwedgeprops, textprops\u001b[38;5;241m=\u001b[39mtextprops, center\u001b[38;5;241m=\u001b[39mcenter,\n\u001b[0;32m   2805\u001b[0m         frame\u001b[38;5;241m=\u001b[39mframe, rotatelabels\u001b[38;5;241m=\u001b[39mrotatelabels, normalize\u001b[38;5;241m=\u001b[39mnormalize,\n\u001b[0;32m   2806\u001b[0m         hatch\u001b[38;5;241m=\u001b[39mhatch, \u001b[38;5;241m*\u001b[39m\u001b[38;5;241m*\u001b[39m({\u001b[38;5;124m\"\u001b[39m\u001b[38;5;124mdata\u001b[39m\u001b[38;5;124m\"\u001b[39m: data} \u001b[38;5;28;01mif\u001b[39;00m data \u001b[38;5;129;01mis\u001b[39;00m \u001b[38;5;129;01mnot\u001b[39;00m \u001b[38;5;28;01mNone\u001b[39;00m \u001b[38;5;28;01melse\u001b[39;00m {}))\n",
      "File \u001b[1;32m~\\anaconda3\\lib\\site-packages\\matplotlib\\__init__.py:1446\u001b[0m, in \u001b[0;36m_preprocess_data.<locals>.inner\u001b[1;34m(ax, data, *args, **kwargs)\u001b[0m\n\u001b[0;32m   1443\u001b[0m \u001b[38;5;129m@functools\u001b[39m\u001b[38;5;241m.\u001b[39mwraps(func)\n\u001b[0;32m   1444\u001b[0m \u001b[38;5;28;01mdef\u001b[39;00m \u001b[38;5;21minner\u001b[39m(ax, \u001b[38;5;241m*\u001b[39margs, data\u001b[38;5;241m=\u001b[39m\u001b[38;5;28;01mNone\u001b[39;00m, \u001b[38;5;241m*\u001b[39m\u001b[38;5;241m*\u001b[39mkwargs):\n\u001b[0;32m   1445\u001b[0m     \u001b[38;5;28;01mif\u001b[39;00m data \u001b[38;5;129;01mis\u001b[39;00m \u001b[38;5;28;01mNone\u001b[39;00m:\n\u001b[1;32m-> 1446\u001b[0m         \u001b[38;5;28;01mreturn\u001b[39;00m func(ax, \u001b[38;5;241m*\u001b[39m\u001b[38;5;28mmap\u001b[39m(sanitize_sequence, args), \u001b[38;5;241m*\u001b[39m\u001b[38;5;241m*\u001b[39mkwargs)\n\u001b[0;32m   1448\u001b[0m     bound \u001b[38;5;241m=\u001b[39m new_sig\u001b[38;5;241m.\u001b[39mbind(ax, \u001b[38;5;241m*\u001b[39margs, \u001b[38;5;241m*\u001b[39m\u001b[38;5;241m*\u001b[39mkwargs)\n\u001b[0;32m   1449\u001b[0m     auto_label \u001b[38;5;241m=\u001b[39m (bound\u001b[38;5;241m.\u001b[39marguments\u001b[38;5;241m.\u001b[39mget(label_namer)\n\u001b[0;32m   1450\u001b[0m                   \u001b[38;5;129;01mor\u001b[39;00m bound\u001b[38;5;241m.\u001b[39mkwargs\u001b[38;5;241m.\u001b[39mget(label_namer))\n",
      "File \u001b[1;32m~\\anaconda3\\lib\\site-packages\\matplotlib\\axes\\_axes.py:3237\u001b[0m, in \u001b[0;36mAxes.pie\u001b[1;34m(self, x, explode, labels, colors, autopct, pctdistance, shadow, labeldistance, startangle, radius, counterclock, wedgeprops, textprops, center, frame, rotatelabels, normalize, hatch)\u001b[0m\n\u001b[0;32m   3234\u001b[0m x \u001b[38;5;241m+\u001b[39m\u001b[38;5;241m=\u001b[39m expl \u001b[38;5;241m*\u001b[39m math\u001b[38;5;241m.\u001b[39mcos(thetam)\n\u001b[0;32m   3235\u001b[0m y \u001b[38;5;241m+\u001b[39m\u001b[38;5;241m=\u001b[39m expl \u001b[38;5;241m*\u001b[39m math\u001b[38;5;241m.\u001b[39msin(thetam)\n\u001b[1;32m-> 3237\u001b[0m w \u001b[38;5;241m=\u001b[39m \u001b[43mmpatches\u001b[49m\u001b[38;5;241;43m.\u001b[39;49m\u001b[43mWedge\u001b[49m\u001b[43m(\u001b[49m\u001b[43m(\u001b[49m\u001b[43mx\u001b[49m\u001b[43m,\u001b[49m\u001b[43m \u001b[49m\u001b[43my\u001b[49m\u001b[43m)\u001b[49m\u001b[43m,\u001b[49m\u001b[43m \u001b[49m\u001b[43mradius\u001b[49m\u001b[43m,\u001b[49m\u001b[43m \u001b[49m\u001b[38;5;241;43m360.\u001b[39;49m\u001b[43m \u001b[49m\u001b[38;5;241;43m*\u001b[39;49m\u001b[43m \u001b[49m\u001b[38;5;28;43mmin\u001b[39;49m\u001b[43m(\u001b[49m\u001b[43mtheta1\u001b[49m\u001b[43m,\u001b[49m\u001b[43m \u001b[49m\u001b[43mtheta2\u001b[49m\u001b[43m)\u001b[49m\u001b[43m,\u001b[49m\n\u001b[0;32m   3238\u001b[0m \u001b[43m                   \u001b[49m\u001b[38;5;241;43m360.\u001b[39;49m\u001b[43m \u001b[49m\u001b[38;5;241;43m*\u001b[39;49m\u001b[43m \u001b[49m\u001b[38;5;28;43mmax\u001b[39;49m\u001b[43m(\u001b[49m\u001b[43mtheta1\u001b[49m\u001b[43m,\u001b[49m\u001b[43m \u001b[49m\u001b[43mtheta2\u001b[49m\u001b[43m)\u001b[49m\u001b[43m,\u001b[49m\n\u001b[0;32m   3239\u001b[0m \u001b[43m                   \u001b[49m\u001b[43mfacecolor\u001b[49m\u001b[38;5;241;43m=\u001b[39;49m\u001b[43mget_next_color\u001b[49m\u001b[43m(\u001b[49m\u001b[43m)\u001b[49m\u001b[43m,\u001b[49m\n\u001b[0;32m   3240\u001b[0m \u001b[43m                   \u001b[49m\u001b[43mhatch\u001b[49m\u001b[38;5;241;43m=\u001b[39;49m\u001b[38;5;28;43mnext\u001b[39;49m\u001b[43m(\u001b[49m\u001b[43mhatch_cycle\u001b[49m\u001b[43m)\u001b[49m\u001b[43m,\u001b[49m\n\u001b[0;32m   3241\u001b[0m \u001b[43m                   \u001b[49m\u001b[43mclip_on\u001b[49m\u001b[38;5;241;43m=\u001b[39;49m\u001b[38;5;28;43;01mFalse\u001b[39;49;00m\u001b[43m,\u001b[49m\n\u001b[0;32m   3242\u001b[0m \u001b[43m                   \u001b[49m\u001b[43mlabel\u001b[49m\u001b[38;5;241;43m=\u001b[39;49m\u001b[43mlabel\u001b[49m\u001b[43m)\u001b[49m\n\u001b[0;32m   3243\u001b[0m w\u001b[38;5;241m.\u001b[39mset(\u001b[38;5;241m*\u001b[39m\u001b[38;5;241m*\u001b[39mwedgeprops)\n\u001b[0;32m   3244\u001b[0m slices\u001b[38;5;241m.\u001b[39mappend(w)\n",
      "File \u001b[1;32m~\\anaconda3\\lib\\site-packages\\matplotlib\\_api\\deprecation.py:454\u001b[0m, in \u001b[0;36mmake_keyword_only.<locals>.wrapper\u001b[1;34m(*args, **kwargs)\u001b[0m\n\u001b[0;32m    448\u001b[0m \u001b[38;5;28;01mif\u001b[39;00m \u001b[38;5;28mlen\u001b[39m(args) \u001b[38;5;241m>\u001b[39m name_idx:\n\u001b[0;32m    449\u001b[0m     warn_deprecated(\n\u001b[0;32m    450\u001b[0m         since, message\u001b[38;5;241m=\u001b[39m\u001b[38;5;124m\"\u001b[39m\u001b[38;5;124mPassing the \u001b[39m\u001b[38;5;132;01m%(name)s\u001b[39;00m\u001b[38;5;124m \u001b[39m\u001b[38;5;132;01m%(obj_type)s\u001b[39;00m\u001b[38;5;124m \u001b[39m\u001b[38;5;124m\"\u001b[39m\n\u001b[0;32m    451\u001b[0m         \u001b[38;5;124m\"\u001b[39m\u001b[38;5;124mpositionally is deprecated since Matplotlib \u001b[39m\u001b[38;5;132;01m%(since)s\u001b[39;00m\u001b[38;5;124m; the \u001b[39m\u001b[38;5;124m\"\u001b[39m\n\u001b[0;32m    452\u001b[0m         \u001b[38;5;124m\"\u001b[39m\u001b[38;5;124mparameter will become keyword-only \u001b[39m\u001b[38;5;132;01m%(removal)s\u001b[39;00m\u001b[38;5;124m.\u001b[39m\u001b[38;5;124m\"\u001b[39m,\n\u001b[0;32m    453\u001b[0m         name\u001b[38;5;241m=\u001b[39mname, obj_type\u001b[38;5;241m=\u001b[39m\u001b[38;5;124mf\u001b[39m\u001b[38;5;124m\"\u001b[39m\u001b[38;5;124mparameter of \u001b[39m\u001b[38;5;132;01m{\u001b[39;00mfunc\u001b[38;5;241m.\u001b[39m\u001b[38;5;18m__name__\u001b[39m\u001b[38;5;132;01m}\u001b[39;00m\u001b[38;5;124m()\u001b[39m\u001b[38;5;124m\"\u001b[39m)\n\u001b[1;32m--> 454\u001b[0m \u001b[38;5;28;01mreturn\u001b[39;00m func(\u001b[38;5;241m*\u001b[39margs, \u001b[38;5;241m*\u001b[39m\u001b[38;5;241m*\u001b[39mkwargs)\n",
      "File \u001b[1;32m~\\anaconda3\\lib\\site-packages\\matplotlib\\patches.py:1195\u001b[0m, in \u001b[0;36mWedge.__init__\u001b[1;34m(self, center, r, theta1, theta2, width, **kwargs)\u001b[0m\n\u001b[0;32m   1193\u001b[0m \u001b[38;5;28mself\u001b[39m\u001b[38;5;241m.\u001b[39mtheta1, \u001b[38;5;28mself\u001b[39m\u001b[38;5;241m.\u001b[39mtheta2 \u001b[38;5;241m=\u001b[39m theta1, theta2\n\u001b[0;32m   1194\u001b[0m \u001b[38;5;28mself\u001b[39m\u001b[38;5;241m.\u001b[39m_patch_transform \u001b[38;5;241m=\u001b[39m transforms\u001b[38;5;241m.\u001b[39mIdentityTransform()\n\u001b[1;32m-> 1195\u001b[0m \u001b[38;5;28;43mself\u001b[39;49m\u001b[38;5;241;43m.\u001b[39;49m\u001b[43m_recompute_path\u001b[49m\u001b[43m(\u001b[49m\u001b[43m)\u001b[49m\n",
      "File \u001b[1;32m~\\anaconda3\\lib\\site-packages\\matplotlib\\patches.py:1207\u001b[0m, in \u001b[0;36mWedge._recompute_path\u001b[1;34m(self)\u001b[0m\n\u001b[0;32m   1204\u001b[0m     connector \u001b[38;5;241m=\u001b[39m Path\u001b[38;5;241m.\u001b[39mLINETO\n\u001b[0;32m   1206\u001b[0m \u001b[38;5;66;03m# Form the outer ring\u001b[39;00m\n\u001b[1;32m-> 1207\u001b[0m arc \u001b[38;5;241m=\u001b[39m \u001b[43mPath\u001b[49m\u001b[38;5;241;43m.\u001b[39;49m\u001b[43marc\u001b[49m\u001b[43m(\u001b[49m\u001b[43mtheta1\u001b[49m\u001b[43m,\u001b[49m\u001b[43m \u001b[49m\u001b[43mtheta2\u001b[49m\u001b[43m)\u001b[49m\n\u001b[0;32m   1209\u001b[0m \u001b[38;5;28;01mif\u001b[39;00m \u001b[38;5;28mself\u001b[39m\u001b[38;5;241m.\u001b[39mwidth \u001b[38;5;129;01mis\u001b[39;00m \u001b[38;5;129;01mnot\u001b[39;00m \u001b[38;5;28;01mNone\u001b[39;00m:\n\u001b[0;32m   1210\u001b[0m     \u001b[38;5;66;03m# Partial annulus needs to draw the outer ring\u001b[39;00m\n\u001b[0;32m   1211\u001b[0m     \u001b[38;5;66;03m# followed by a reversed and scaled inner ring\u001b[39;00m\n\u001b[0;32m   1212\u001b[0m     v1 \u001b[38;5;241m=\u001b[39m arc\u001b[38;5;241m.\u001b[39mvertices\n",
      "File \u001b[1;32m~\\anaconda3\\lib\\site-packages\\matplotlib\\path.py:954\u001b[0m, in \u001b[0;36mPath.arc\u001b[1;34m(cls, theta1, theta2, n, is_wedge)\u001b[0m\n\u001b[0;32m    952\u001b[0m \u001b[38;5;66;03m# number of curve segments to make\u001b[39;00m\n\u001b[0;32m    953\u001b[0m \u001b[38;5;28;01mif\u001b[39;00m n \u001b[38;5;129;01mis\u001b[39;00m \u001b[38;5;28;01mNone\u001b[39;00m:\n\u001b[1;32m--> 954\u001b[0m     n \u001b[38;5;241m=\u001b[39m \u001b[38;5;28;43mint\u001b[39;49m\u001b[43m(\u001b[49m\u001b[38;5;241;43m2\u001b[39;49m\u001b[43m \u001b[49m\u001b[38;5;241;43m*\u001b[39;49m\u001b[38;5;241;43m*\u001b[39;49m\u001b[43m \u001b[49m\u001b[43mnp\u001b[49m\u001b[38;5;241;43m.\u001b[39;49m\u001b[43mceil\u001b[49m\u001b[43m(\u001b[49m\u001b[43m(\u001b[49m\u001b[43meta2\u001b[49m\u001b[43m \u001b[49m\u001b[38;5;241;43m-\u001b[39;49m\u001b[43m \u001b[49m\u001b[43meta1\u001b[49m\u001b[43m)\u001b[49m\u001b[43m \u001b[49m\u001b[38;5;241;43m/\u001b[39;49m\u001b[43m \u001b[49m\u001b[43mhalfpi\u001b[49m\u001b[43m)\u001b[49m\u001b[43m)\u001b[49m\n\u001b[0;32m    955\u001b[0m \u001b[38;5;28;01mif\u001b[39;00m n \u001b[38;5;241m<\u001b[39m \u001b[38;5;241m1\u001b[39m:\n\u001b[0;32m    956\u001b[0m     \u001b[38;5;28;01mraise\u001b[39;00m \u001b[38;5;167;01mValueError\u001b[39;00m(\u001b[38;5;124m\"\u001b[39m\u001b[38;5;124mn must be >= 1 or None\u001b[39m\u001b[38;5;124m\"\u001b[39m)\n",
      "\u001b[1;31mValueError\u001b[0m: cannot convert float NaN to integer"
     ]
    },
    {
     "name": "stderr",
     "output_type": "stream",
     "text": [
      "posx and posy should be finite values\n",
      "posx and posy should be finite values\n",
      "posx and posy should be finite values\n",
      "posx and posy should be finite values\n"
     ]
    },
    {
     "ename": "ValueError",
     "evalue": "need at least one array to concatenate",
     "output_type": "error",
     "traceback": [
      "\u001b[1;31m---------------------------------------------------------------------------\u001b[0m",
      "\u001b[1;31mValueError\u001b[0m                                Traceback (most recent call last)",
      "File \u001b[1;32m~\\anaconda3\\lib\\site-packages\\IPython\\core\\formatters.py:340\u001b[0m, in \u001b[0;36mBaseFormatter.__call__\u001b[1;34m(self, obj)\u001b[0m\n\u001b[0;32m    338\u001b[0m     \u001b[38;5;28;01mpass\u001b[39;00m\n\u001b[0;32m    339\u001b[0m \u001b[38;5;28;01melse\u001b[39;00m:\n\u001b[1;32m--> 340\u001b[0m     \u001b[38;5;28;01mreturn\u001b[39;00m \u001b[43mprinter\u001b[49m\u001b[43m(\u001b[49m\u001b[43mobj\u001b[49m\u001b[43m)\u001b[49m\n\u001b[0;32m    341\u001b[0m \u001b[38;5;66;03m# Finally look for special method names\u001b[39;00m\n\u001b[0;32m    342\u001b[0m method \u001b[38;5;241m=\u001b[39m get_real_method(obj, \u001b[38;5;28mself\u001b[39m\u001b[38;5;241m.\u001b[39mprint_method)\n",
      "File \u001b[1;32m~\\anaconda3\\lib\\site-packages\\IPython\\core\\pylabtools.py:152\u001b[0m, in \u001b[0;36mprint_figure\u001b[1;34m(fig, fmt, bbox_inches, base64, **kwargs)\u001b[0m\n\u001b[0;32m    149\u001b[0m     \u001b[38;5;28;01mfrom\u001b[39;00m \u001b[38;5;21;01mmatplotlib\u001b[39;00m\u001b[38;5;21;01m.\u001b[39;00m\u001b[38;5;21;01mbackend_bases\u001b[39;00m \u001b[38;5;28;01mimport\u001b[39;00m FigureCanvasBase\n\u001b[0;32m    150\u001b[0m     FigureCanvasBase(fig)\n\u001b[1;32m--> 152\u001b[0m fig\u001b[38;5;241m.\u001b[39mcanvas\u001b[38;5;241m.\u001b[39mprint_figure(bytes_io, \u001b[38;5;241m*\u001b[39m\u001b[38;5;241m*\u001b[39mkw)\n\u001b[0;32m    153\u001b[0m data \u001b[38;5;241m=\u001b[39m bytes_io\u001b[38;5;241m.\u001b[39mgetvalue()\n\u001b[0;32m    154\u001b[0m \u001b[38;5;28;01mif\u001b[39;00m fmt \u001b[38;5;241m==\u001b[39m \u001b[38;5;124m'\u001b[39m\u001b[38;5;124msvg\u001b[39m\u001b[38;5;124m'\u001b[39m:\n",
      "File \u001b[1;32m~\\anaconda3\\lib\\site-packages\\matplotlib\\backend_bases.py:2346\u001b[0m, in \u001b[0;36mFigureCanvasBase.print_figure\u001b[1;34m(self, filename, dpi, facecolor, edgecolor, orientation, format, bbox_inches, pad_inches, bbox_extra_artists, backend, **kwargs)\u001b[0m\n\u001b[0;32m   2344\u001b[0m \u001b[38;5;28;01mif\u001b[39;00m bbox_inches:\n\u001b[0;32m   2345\u001b[0m     \u001b[38;5;28;01mif\u001b[39;00m bbox_inches \u001b[38;5;241m==\u001b[39m \u001b[38;5;124m\"\u001b[39m\u001b[38;5;124mtight\u001b[39m\u001b[38;5;124m\"\u001b[39m:\n\u001b[1;32m-> 2346\u001b[0m         bbox_inches \u001b[38;5;241m=\u001b[39m \u001b[38;5;28;43mself\u001b[39;49m\u001b[38;5;241;43m.\u001b[39;49m\u001b[43mfigure\u001b[49m\u001b[38;5;241;43m.\u001b[39;49m\u001b[43mget_tightbbox\u001b[49m\u001b[43m(\u001b[49m\n\u001b[0;32m   2347\u001b[0m \u001b[43m            \u001b[49m\u001b[43mrenderer\u001b[49m\u001b[43m,\u001b[49m\u001b[43m \u001b[49m\u001b[43mbbox_extra_artists\u001b[49m\u001b[38;5;241;43m=\u001b[39;49m\u001b[43mbbox_extra_artists\u001b[49m\u001b[43m)\u001b[49m\n\u001b[0;32m   2348\u001b[0m         \u001b[38;5;28;01mif\u001b[39;00m pad_inches \u001b[38;5;129;01mis\u001b[39;00m \u001b[38;5;28;01mNone\u001b[39;00m:\n\u001b[0;32m   2349\u001b[0m             pad_inches \u001b[38;5;241m=\u001b[39m rcParams[\u001b[38;5;124m'\u001b[39m\u001b[38;5;124msavefig.pad_inches\u001b[39m\u001b[38;5;124m'\u001b[39m]\n",
      "File \u001b[1;32m~\\anaconda3\\lib\\site-packages\\matplotlib\\figure.py:1776\u001b[0m, in \u001b[0;36mFigureBase.get_tightbbox\u001b[1;34m(self, renderer, bbox_extra_artists)\u001b[0m\n\u001b[0;32m   1773\u001b[0m     artists \u001b[38;5;241m=\u001b[39m bbox_extra_artists\n\u001b[0;32m   1775\u001b[0m \u001b[38;5;28;01mfor\u001b[39;00m a \u001b[38;5;129;01min\u001b[39;00m artists:\n\u001b[1;32m-> 1776\u001b[0m     bbox \u001b[38;5;241m=\u001b[39m \u001b[43ma\u001b[49m\u001b[38;5;241;43m.\u001b[39;49m\u001b[43mget_tightbbox\u001b[49m\u001b[43m(\u001b[49m\u001b[43mrenderer\u001b[49m\u001b[43m)\u001b[49m\n\u001b[0;32m   1777\u001b[0m     \u001b[38;5;28;01mif\u001b[39;00m bbox \u001b[38;5;129;01mis\u001b[39;00m \u001b[38;5;129;01mnot\u001b[39;00m \u001b[38;5;28;01mNone\u001b[39;00m:\n\u001b[0;32m   1778\u001b[0m         bb\u001b[38;5;241m.\u001b[39mappend(bbox)\n",
      "File \u001b[1;32m~\\anaconda3\\lib\\site-packages\\matplotlib\\axes\\_base.py:4408\u001b[0m, in \u001b[0;36m_AxesBase.get_tightbbox\u001b[1;34m(self, renderer, call_axes_locator, bbox_extra_artists, for_layout_only)\u001b[0m\n\u001b[0;32m   4405\u001b[0m     bbox_artists \u001b[38;5;241m=\u001b[39m \u001b[38;5;28mself\u001b[39m\u001b[38;5;241m.\u001b[39mget_default_bbox_extra_artists()\n\u001b[0;32m   4407\u001b[0m \u001b[38;5;28;01mfor\u001b[39;00m a \u001b[38;5;129;01min\u001b[39;00m bbox_artists:\n\u001b[1;32m-> 4408\u001b[0m     bbox \u001b[38;5;241m=\u001b[39m \u001b[43ma\u001b[49m\u001b[38;5;241;43m.\u001b[39;49m\u001b[43mget_tightbbox\u001b[49m\u001b[43m(\u001b[49m\u001b[43mrenderer\u001b[49m\u001b[43m)\u001b[49m\n\u001b[0;32m   4409\u001b[0m     \u001b[38;5;28;01mif\u001b[39;00m (bbox \u001b[38;5;129;01mis\u001b[39;00m \u001b[38;5;129;01mnot\u001b[39;00m \u001b[38;5;28;01mNone\u001b[39;00m\n\u001b[0;32m   4410\u001b[0m             \u001b[38;5;129;01mand\u001b[39;00m \u001b[38;5;241m0\u001b[39m \u001b[38;5;241m<\u001b[39m bbox\u001b[38;5;241m.\u001b[39mwidth \u001b[38;5;241m<\u001b[39m np\u001b[38;5;241m.\u001b[39minf\n\u001b[0;32m   4411\u001b[0m             \u001b[38;5;129;01mand\u001b[39;00m \u001b[38;5;241m0\u001b[39m \u001b[38;5;241m<\u001b[39m bbox\u001b[38;5;241m.\u001b[39mheight \u001b[38;5;241m<\u001b[39m np\u001b[38;5;241m.\u001b[39minf):\n\u001b[0;32m   4412\u001b[0m         bb\u001b[38;5;241m.\u001b[39mappend(bbox)\n",
      "File \u001b[1;32m~\\anaconda3\\lib\\site-packages\\matplotlib\\artist.py:367\u001b[0m, in \u001b[0;36mArtist.get_tightbbox\u001b[1;34m(self, renderer)\u001b[0m\n\u001b[0;32m    352\u001b[0m \u001b[38;5;28;01mdef\u001b[39;00m \u001b[38;5;21mget_tightbbox\u001b[39m(\u001b[38;5;28mself\u001b[39m, renderer\u001b[38;5;241m=\u001b[39m\u001b[38;5;28;01mNone\u001b[39;00m):\n\u001b[0;32m    353\u001b[0m \u001b[38;5;250m    \u001b[39m\u001b[38;5;124;03m\"\"\"\u001b[39;00m\n\u001b[0;32m    354\u001b[0m \u001b[38;5;124;03m    Like `.Artist.get_window_extent`, but includes any clipping.\u001b[39;00m\n\u001b[0;32m    355\u001b[0m \n\u001b[1;32m   (...)\u001b[0m\n\u001b[0;32m    365\u001b[0m \u001b[38;5;124;03m        The enclosing bounding box (in figure pixel coordinates).\u001b[39;00m\n\u001b[0;32m    366\u001b[0m \u001b[38;5;124;03m    \"\"\"\u001b[39;00m\n\u001b[1;32m--> 367\u001b[0m     bbox \u001b[38;5;241m=\u001b[39m \u001b[38;5;28;43mself\u001b[39;49m\u001b[38;5;241;43m.\u001b[39;49m\u001b[43mget_window_extent\u001b[49m\u001b[43m(\u001b[49m\u001b[43mrenderer\u001b[49m\u001b[43m)\u001b[49m\n\u001b[0;32m    368\u001b[0m     \u001b[38;5;28;01mif\u001b[39;00m \u001b[38;5;28mself\u001b[39m\u001b[38;5;241m.\u001b[39mget_clip_on():\n\u001b[0;32m    369\u001b[0m         clip_box \u001b[38;5;241m=\u001b[39m \u001b[38;5;28mself\u001b[39m\u001b[38;5;241m.\u001b[39mget_clip_box()\n",
      "File \u001b[1;32m~\\anaconda3\\lib\\site-packages\\matplotlib\\patches.py:604\u001b[0m, in \u001b[0;36mPatch.get_window_extent\u001b[1;34m(self, renderer)\u001b[0m\n\u001b[0;32m    603\u001b[0m \u001b[38;5;28;01mdef\u001b[39;00m \u001b[38;5;21mget_window_extent\u001b[39m(\u001b[38;5;28mself\u001b[39m, renderer\u001b[38;5;241m=\u001b[39m\u001b[38;5;28;01mNone\u001b[39;00m):\n\u001b[1;32m--> 604\u001b[0m     \u001b[38;5;28;01mreturn\u001b[39;00m \u001b[38;5;28;43mself\u001b[39;49m\u001b[38;5;241;43m.\u001b[39;49m\u001b[43mget_path\u001b[49m\u001b[43m(\u001b[49m\u001b[43m)\u001b[49m\u001b[38;5;241;43m.\u001b[39;49m\u001b[43mget_extents\u001b[49m\u001b[43m(\u001b[49m\u001b[38;5;28;43mself\u001b[39;49m\u001b[38;5;241;43m.\u001b[39;49m\u001b[43mget_transform\u001b[49m\u001b[43m(\u001b[49m\u001b[43m)\u001b[49m\u001b[43m)\u001b[49m\n",
      "File \u001b[1;32m~\\anaconda3\\lib\\site-packages\\matplotlib\\path.py:638\u001b[0m, in \u001b[0;36mPath.get_extents\u001b[1;34m(self, transform, **kwargs)\u001b[0m\n\u001b[0;32m    636\u001b[0m         \u001b[38;5;66;03m# as can the ends of the curve\u001b[39;00m\n\u001b[0;32m    637\u001b[0m         xys\u001b[38;5;241m.\u001b[39mappend(curve([\u001b[38;5;241m0\u001b[39m, \u001b[38;5;241m*\u001b[39mdzeros, \u001b[38;5;241m1\u001b[39m]))\n\u001b[1;32m--> 638\u001b[0m     xys \u001b[38;5;241m=\u001b[39m \u001b[43mnp\u001b[49m\u001b[38;5;241;43m.\u001b[39;49m\u001b[43mconcatenate\u001b[49m\u001b[43m(\u001b[49m\u001b[43mxys\u001b[49m\u001b[43m)\u001b[49m\n\u001b[0;32m    639\u001b[0m \u001b[38;5;28;01mif\u001b[39;00m \u001b[38;5;28mlen\u001b[39m(xys):\n\u001b[0;32m    640\u001b[0m     \u001b[38;5;28;01mreturn\u001b[39;00m Bbox([xys\u001b[38;5;241m.\u001b[39mmin(axis\u001b[38;5;241m=\u001b[39m\u001b[38;5;241m0\u001b[39m), xys\u001b[38;5;241m.\u001b[39mmax(axis\u001b[38;5;241m=\u001b[39m\u001b[38;5;241m0\u001b[39m)])\n",
      "File \u001b[1;32m<__array_function__ internals>:200\u001b[0m, in \u001b[0;36mconcatenate\u001b[1;34m(*args, **kwargs)\u001b[0m\n",
      "\u001b[1;31mValueError\u001b[0m: need at least one array to concatenate"
     ]
    },
    {
     "data": {
      "text/plain": [
       "<Figure size 640x480 with 1 Axes>"
      ]
     },
     "metadata": {},
     "output_type": "display_data"
    }
   ],
   "source": [
    "_,_,pcts = plt.pie(pass_qc.value_counts().reindex([False,True]),\n",
    "        labels = ['Failed','Passed'],\n",
    "        colors=['tab:red','tab:blue'],\n",
    "        autopct='%.0f%%',textprops={'size':16});\n",
    "\n",
    "# Colors percents white\n",
    "for pct in pcts:\n",
    "    pct.set_color('white')"
   ]
  },
  {
   "cell_type": "markdown",
   "metadata": {},
   "source": [
    "# Save current metadata"
   ]
  },
  {
   "cell_type": "markdown",
   "metadata": {},
   "source": [
    "Enter path of interim metadata files here. It is recommended that the ``metadata_qc.tsv`` file is copied to a new ``metadata_qc_curated.tsv`` file before editing. This will prevent this notebook from over-writing any curated metadata."
   ]
  },
  {
   "cell_type": "code",
   "execution_count": 67,
   "metadata": {},
   "outputs": [],
   "source": [
    "metadata_all_qc_file = path.join('data', 'interim', 'metadata_qc_part1_all.tsv') # Enter filename for full metadata QC file\n",
    "metadata_qc_file = path.join('data', 'interim', 'metadata_qc_part1.tsv') # Enter filename for metadata QC file with only passing datasets"
   ]
  },
  {
   "cell_type": "code",
   "execution_count": 68,
   "metadata": {},
   "outputs": [],
   "source": [
    "DF_metadata.to_csv(metadata_all_qc_file, sep='\\t')\n",
    "DF_metadata_passed.to_csv(metadata_qc_file, sep='\\t')"
   ]
  },
  {
   "cell_type": "markdown",
   "metadata": {},
   "source": [
    "# Metadata Curation"
   ]
  },
  {
   "cell_type": "markdown",
   "metadata": {},
   "source": [
    "The next step is to curate the metadata. At a minimum, three new columns must be added to the metadata sheet:\n",
    "* ``project``: Nickname for the project. Each bioproject should have a unique project IDs.\n",
    "* ``condition``: Nickname for the experimental condition. Biological/technical replicates must have identical condition IDs.\n",
    "* ``reference_condition``: Condition ID of the reference condition. Each project has a single reference condition (See [example metadata sheet](https://github.com/SBRG/nf-rnaseq-bacteria/blob/master/example_data/processed_data/metadata_curated.tsv))\n",
    "\n",
    "Additional columns may include:\n",
    "* ``strain_description``: The strain name, and any knock-outs or overexpressed genes\n",
    "* ``base_media``: Media used (e.g. ``M9``)\n",
    "* ``carbon_source``: Primary carbon source, with concentration in parentheses (e.g. ``glucose(.4%)``). This is usually empty for undefined media.\n",
    "* ``nitrogen_source``: Primary nitrogen source, with concentration in parentheses (e.g. ``NH4Cl(1M)``). This is usually empty for undefined media.\n",
    "* ``aerobicity``: Usually ``aerobic`` or ``anaerobic``\n",
    "* ``treatment``: Any additional supplements or treatments added to the base media (e.g. ``thiamine(0.1M)`` or ``ampicillin(100ug/mL)``)\n",
    "* ``temperature``\n",
    "* ``pH``\n",
    "* ``OD``: Approximate optical density of cells when selected for library preparation\n",
    "* ``growth_phase``: e.g. ``mid-exponential`` or ``stationary``\n",
    "* ``culture_type``: Usually ``batch`` or ``chemostat``\n",
    "* ``skip``: Whether to skip a sample due to external reasons (e.g. not traditional RNA-seq, distant strain, or lack of metadata)\n",
    "\n",
    "If specific metadata entries are not reported for a sample, these can be left blank. However, if no metadata can be gleaned from public databases, then we recommend discarding the samples.\n",
    "\n",
    "Once the metadata has been curated, proceed to [Step 2](https://github.com/avsastry/modulome-workflow/edit/main/3_quality_control/expression_QC_part2.ipynb)"
   ]
  },
  {
   "cell_type": "code",
   "execution_count": null,
   "metadata": {},
   "outputs": [],
   "source": []
  }
 ],
 "metadata": {
  "kernelspec": {
   "display_name": "Python 3 (ipykernel)",
   "language": "python",
   "name": "python3"
  },
  "language_info": {
   "codemirror_mode": {
    "name": "ipython",
    "version": 3
   },
   "file_extension": ".py",
   "mimetype": "text/x-python",
   "name": "python",
   "nbconvert_exporter": "python",
   "pygments_lexer": "ipython3",
   "version": "3.9.7"
  },
  "toc": {
   "base_numbering": 1,
   "nav_menu": {},
   "number_sections": true,
   "sideBar": true,
   "skip_h1_title": false,
   "title_cell": "Table of Contents",
   "title_sidebar": "Contents",
   "toc_cell": true,
   "toc_position": {},
   "toc_section_display": true,
   "toc_window_display": false
  }
 },
 "nbformat": 4,
 "nbformat_minor": 4
}
