{
 "cells": [
  {
   "cell_type": "code",
   "execution_count": 1,
   "id": "621f1749-4a28-4071-a2aa-0f88fa047a6d",
   "metadata": {
    "tags": []
   },
   "outputs": [],
   "source": [
    "import os\n",
    "import pandas as pd"
   ]
  },
  {
   "cell_type": "code",
   "execution_count": 2,
   "id": "65f60fcf-8eba-40ac-81b4-daf5e5e88e23",
   "metadata": {
    "tags": []
   },
   "outputs": [],
   "source": [
    "# define file name of the export file\n",
    "file_name = \"FeatureCounts.tsv\""
   ]
  },
  {
   "cell_type": "code",
   "execution_count": 3,
   "id": "f74ae0b1-872b-43ef-8012-9c56669883c3",
   "metadata": {},
   "outputs": [],
   "source": [
    "DF_Counts_1=pd.DataFrame()\n",
    "\n",
    "os.chdir(\"../../data/AssemblyPipeline_Results/Part_1/featureCounts/\")\n",
    "\n",
    "\n",
    "for file in os.listdir():\n",
    "    if file.endswith('cds.txt'):\n",
    "        sample=file[:-8]\n",
    "\n",
    "        DF_Counts_1[sample]=None\n",
    "\n",
    "        infile=open(file,'r')\n",
    "\n",
    "        for line in infile:\n",
    "\n",
    "            if line.startswith('b'):\n",
    "                gene=line.split('\\t')[0]\n",
    "\n",
    "                count=line.split('\\t')[-1][:-1]\n",
    "\n",
    "                DF_Counts_1.loc[gene,sample]=count\n",
    "\n",
    "        infile.close()"
   ]
  },
  {
   "cell_type": "code",
   "execution_count": 4,
   "id": "4c5df108-c611-4f15-b2f9-880770b5af28",
   "metadata": {},
   "outputs": [],
   "source": [
    "DF_Counts_2=pd.DataFrame()\n",
    "\n",
    "os.chdir(\"../../Part_2/DDB_SD_02_part1/featureCounts/\")\n",
    "\n",
    "for file in os.listdir():\n",
    "    if file.endswith('cds.txt'):\n",
    "        sample=file[:-8]\n",
    "\n",
    "        DF_Counts_2[sample]=None\n",
    "\n",
    "        infile=open(file,'r')\n",
    "\n",
    "        for line in infile:\n",
    "\n",
    "            if line.startswith('b'):\n",
    "                gene=line.split('\\t')[0]\n",
    "\n",
    "                count=line.split('\\t')[-1][:-1]\n",
    "\n",
    "                DF_Counts_2.loc[gene,sample]=count\n",
    "\n",
    "        infile.close()"
   ]
  },
  {
   "cell_type": "code",
   "execution_count": 5,
   "id": "8bcafb93-2cc0-42be-899f-701c39171fde",
   "metadata": {},
   "outputs": [],
   "source": [
    "DF_Counts_3=pd.DataFrame()\n",
    "\n",
    "os.chdir(\"../../DDB_SD_02_part2/featureCounts/\")\n",
    "\n",
    "for file in os.listdir():\n",
    "    if file.endswith('cds.txt'):\n",
    "        sample=file[:-8]\n",
    "\n",
    "        DF_Counts_3[sample]=None\n",
    "\n",
    "        infile=open(file,'r')\n",
    "\n",
    "        for line in infile:\n",
    "\n",
    "            if line.startswith('b'):\n",
    "                gene=line.split('\\t')[0]\n",
    "\n",
    "                count=line.split('\\t')[-1][:-1]\n",
    "\n",
    "                DF_Counts_3.loc[gene,sample]=count\n",
    "\n",
    "        infile.close()"
   ]
  },
  {
   "cell_type": "code",
   "execution_count": 14,
   "id": "8b5083b1-688b-4b1c-9a83-c07870ad6bc4",
   "metadata": {},
   "outputs": [],
   "source": [
    "os.chdir(\"../../../../../data/processed_fermentation_data/\")\n",
    "offline_data = pd.read_excel(\"exponential_fed-batch_scale-down_offline_data.xlsx\")"
   ]
  },
  {
   "cell_type": "code",
   "execution_count": 59,
   "id": "0b7e9c1a-3eb8-4104-b431-328a65b547a0",
   "metadata": {},
   "outputs": [
    {
     "data": {
      "text/plain": [
       "array(['PD_117_R11', 'PD_117_R12', 'PD_117_R13', 'PD_117_R14',\n",
       "       'PD_117_R15', 'PD_117_R16', 'PD_126_R5', 'PD_126_R6', 'PD_126_R7',\n",
       "       'PD_126_R8', 'PD_126_R9', 'PD_126_R10', 'PD_126_R11', 'PD_126_R12',\n",
       "       'PD_126_R13', 'PD_126_R14', 'PD_126_R15', 'PD_126_R16'],\n",
       "      dtype=object)"
      ]
     },
     "execution_count": 59,
     "metadata": {},
     "output_type": "execute_result"
    }
   ],
   "source": [
    "pd.Series(offline_data[\"Experiment\"].str.split(\"DDB_\", expand=True)[1].str.split(\"AMBR\", expand=True)[0]+offline_data[\"Reactor/Plate/Flask Number\"].str.replace(\"R0\",\"R\")).unique()"
   ]
  },
  {
   "cell_type": "code",
   "execution_count": 60,
   "id": "8fa63fc5-83e5-4835-bd8c-6dfdd8c1a1fb",
   "metadata": {},
   "outputs": [
    {
     "data": {
      "text/plain": [
       "array(['PD_117_R11', 'PD_117_R12', 'PD_117_R13', 'PD_117_R14',\n",
       "       'PD_117_R15', 'PD_117_R16', 'PD_126_R5', 'PD_126_R6', 'PD_126_R7',\n",
       "       'PD_126_R8', 'PD_126_R9', 'PD_126_R10', 'PD_126_R11', 'PD_126_R12',\n",
       "       'PD_126_R13', 'PD_126_R14', 'PD_126_R15', 'PD_126_R16'],\n",
       "      dtype=object)"
      ]
     },
     "execution_count": 60,
     "metadata": {},
     "output_type": "execute_result"
    }
   ],
   "source": [
    "samples_to_retain = pd.Series(offline_data[\"Experiment\"].str.split(\"DDB_\", expand=True)[1].str.split(\"AMBR\", expand=True)[0]+offline_data[\"Reactor/Plate/Flask Number\"].str.replace(\"R0\",\"R\")).unique()\n",
    "samples_to_retain"
   ]
  },
  {
   "cell_type": "code",
   "execution_count": 61,
   "id": "d90c015b-86a3-45a8-9300-4e7f8c9e4c4f",
   "metadata": {},
   "outputs": [],
   "source": [
    "DF_Counts = pd.concat([DF_Counts_1, DF_Counts_2, DF_Counts_3], axis=1)"
   ]
  },
  {
   "cell_type": "code",
   "execution_count": 62,
   "id": "0e1c9c76-facd-404e-b6b5-cd3351ddf062",
   "metadata": {},
   "outputs": [
    {
     "data": {
      "text/html": [
       "<div>\n",
       "<style scoped>\n",
       "    .dataframe tbody tr th:only-of-type {\n",
       "        vertical-align: middle;\n",
       "    }\n",
       "\n",
       "    .dataframe tbody tr th {\n",
       "        vertical-align: top;\n",
       "    }\n",
       "\n",
       "    .dataframe thead th {\n",
       "        text-align: right;\n",
       "    }\n",
       "</style>\n",
       "<table border=\"1\" class=\"dataframe\">\n",
       "  <thead>\n",
       "    <tr style=\"text-align: right;\">\n",
       "      <th></th>\n",
       "      <th>IC1</th>\n",
       "      <th>IC2</th>\n",
       "      <th>PD_117_R10</th>\n",
       "      <th>PD_117_R11</th>\n",
       "      <th>PD_117_R12</th>\n",
       "      <th>PD_117_R13</th>\n",
       "      <th>PD_117_R14</th>\n",
       "      <th>PD_117_R15</th>\n",
       "      <th>PD_117_R16</th>\n",
       "      <th>PD_117_R5</th>\n",
       "      <th>...</th>\n",
       "      <th>PD_132_R12</th>\n",
       "      <th>PD_132_R13</th>\n",
       "      <th>PD_132_R13</th>\n",
       "      <th>PD_132_R5</th>\n",
       "      <th>PD_132_R6</th>\n",
       "      <th>PD_132_R7</th>\n",
       "      <th>PD_132_R8</th>\n",
       "      <th>PD_132_R8</th>\n",
       "      <th>PD_132_R9</th>\n",
       "      <th>PD_132_R9</th>\n",
       "    </tr>\n",
       "  </thead>\n",
       "  <tbody>\n",
       "    <tr>\n",
       "      <th>b0001</th>\n",
       "      <td>1662</td>\n",
       "      <td>5400</td>\n",
       "      <td>1697</td>\n",
       "      <td>851</td>\n",
       "      <td>816</td>\n",
       "      <td>716</td>\n",
       "      <td>863</td>\n",
       "      <td>705</td>\n",
       "      <td>558</td>\n",
       "      <td>1686</td>\n",
       "      <td>...</td>\n",
       "      <td>2</td>\n",
       "      <td>3</td>\n",
       "      <td>1</td>\n",
       "      <td>794</td>\n",
       "      <td>486</td>\n",
       "      <td>314</td>\n",
       "      <td>388</td>\n",
       "      <td>106</td>\n",
       "      <td>434</td>\n",
       "      <td>103</td>\n",
       "    </tr>\n",
       "    <tr>\n",
       "      <th>b0002</th>\n",
       "      <td>72147</td>\n",
       "      <td>50558</td>\n",
       "      <td>5824</td>\n",
       "      <td>18921</td>\n",
       "      <td>14040</td>\n",
       "      <td>14809</td>\n",
       "      <td>30383</td>\n",
       "      <td>20090</td>\n",
       "      <td>18311</td>\n",
       "      <td>6369</td>\n",
       "      <td>...</td>\n",
       "      <td>256</td>\n",
       "      <td>212</td>\n",
       "      <td>253</td>\n",
       "      <td>872</td>\n",
       "      <td>965</td>\n",
       "      <td>992</td>\n",
       "      <td>998</td>\n",
       "      <td>1461</td>\n",
       "      <td>1265</td>\n",
       "      <td>1737</td>\n",
       "    </tr>\n",
       "    <tr>\n",
       "      <th>b0003</th>\n",
       "      <td>15854</td>\n",
       "      <td>12832</td>\n",
       "      <td>2199</td>\n",
       "      <td>5286</td>\n",
       "      <td>4213</td>\n",
       "      <td>4259</td>\n",
       "      <td>7804</td>\n",
       "      <td>8052</td>\n",
       "      <td>8059</td>\n",
       "      <td>2170</td>\n",
       "      <td>...</td>\n",
       "      <td>79</td>\n",
       "      <td>89</td>\n",
       "      <td>83</td>\n",
       "      <td>721</td>\n",
       "      <td>796</td>\n",
       "      <td>735</td>\n",
       "      <td>733</td>\n",
       "      <td>1040</td>\n",
       "      <td>742</td>\n",
       "      <td>1018</td>\n",
       "    </tr>\n",
       "    <tr>\n",
       "      <th>b0004</th>\n",
       "      <td>13795</td>\n",
       "      <td>13824</td>\n",
       "      <td>2535</td>\n",
       "      <td>4549</td>\n",
       "      <td>4344</td>\n",
       "      <td>4073</td>\n",
       "      <td>7100</td>\n",
       "      <td>7184</td>\n",
       "      <td>7412</td>\n",
       "      <td>2382</td>\n",
       "      <td>...</td>\n",
       "      <td>69</td>\n",
       "      <td>56</td>\n",
       "      <td>71</td>\n",
       "      <td>585</td>\n",
       "      <td>624</td>\n",
       "      <td>614</td>\n",
       "      <td>626</td>\n",
       "      <td>811</td>\n",
       "      <td>746</td>\n",
       "      <td>830</td>\n",
       "    </tr>\n",
       "    <tr>\n",
       "      <th>b0005</th>\n",
       "      <td>180</td>\n",
       "      <td>168</td>\n",
       "      <td>56</td>\n",
       "      <td>158</td>\n",
       "      <td>141</td>\n",
       "      <td>176</td>\n",
       "      <td>191</td>\n",
       "      <td>216</td>\n",
       "      <td>175</td>\n",
       "      <td>48</td>\n",
       "      <td>...</td>\n",
       "      <td>10</td>\n",
       "      <td>5</td>\n",
       "      <td>6</td>\n",
       "      <td>58</td>\n",
       "      <td>65</td>\n",
       "      <td>77</td>\n",
       "      <td>56</td>\n",
       "      <td>36</td>\n",
       "      <td>62</td>\n",
       "      <td>44</td>\n",
       "    </tr>\n",
       "  </tbody>\n",
       "</table>\n",
       "<p>5 rows × 96 columns</p>\n",
       "</div>"
      ],
      "text/plain": [
       "         IC1    IC2 PD_117_R10 PD_117_R11 PD_117_R12 PD_117_R13 PD_117_R14  \\\n",
       "b0001   1662   5400       1697        851        816        716        863   \n",
       "b0002  72147  50558       5824      18921      14040      14809      30383   \n",
       "b0003  15854  12832       2199       5286       4213       4259       7804   \n",
       "b0004  13795  13824       2535       4549       4344       4073       7100   \n",
       "b0005    180    168         56        158        141        176        191   \n",
       "\n",
       "      PD_117_R15 PD_117_R16 PD_117_R5  ... PD_132_R12 PD_132_R13 PD_132_R13  \\\n",
       "b0001        705        558      1686  ...          2          3          1   \n",
       "b0002      20090      18311      6369  ...        256        212        253   \n",
       "b0003       8052       8059      2170  ...         79         89         83   \n",
       "b0004       7184       7412      2382  ...         69         56         71   \n",
       "b0005        216        175        48  ...         10          5          6   \n",
       "\n",
       "      PD_132_R5 PD_132_R6 PD_132_R7 PD_132_R8 PD_132_R8 PD_132_R9 PD_132_R9  \n",
       "b0001       794       486       314       388       106       434       103  \n",
       "b0002       872       965       992       998      1461      1265      1737  \n",
       "b0003       721       796       735       733      1040       742      1018  \n",
       "b0004       585       624       614       626       811       746       830  \n",
       "b0005        58        65        77        56        36        62        44  \n",
       "\n",
       "[5 rows x 96 columns]"
      ]
     },
     "execution_count": 62,
     "metadata": {},
     "output_type": "execute_result"
    }
   ],
   "source": [
    "new_columns = pd.Series(DF_Counts.columns).str.split(\"_S\", expand=True)[0].values\n",
    "DF_Counts.columns = new_columns\n",
    "DF_Counts.head()"
   ]
  },
  {
   "cell_type": "code",
   "execution_count": 64,
   "id": "a296cd3d-873b-4f7c-9018-8520438e4cd6",
   "metadata": {},
   "outputs": [],
   "source": [
    "DF_Counts = DF_Counts[samples_to_retain]"
   ]
  },
  {
   "cell_type": "code",
   "execution_count": 65,
   "id": "44f7d4a2-d35d-462f-8a4f-2098b9d94c9e",
   "metadata": {},
   "outputs": [],
   "source": [
    "os.chdir(\"../RNAseq_data/\")\n",
    "\n",
    "DF_Counts.to_csv(file_name,  sep=\"\\t\")"
   ]
  },
  {
   "cell_type": "code",
   "execution_count": null,
   "id": "3119cfe3-92bb-4946-9e97-7047c551bb0c",
   "metadata": {},
   "outputs": [],
   "source": []
  }
 ],
 "metadata": {
  "kernelspec": {
   "display_name": "Python 3 (ipykernel)",
   "language": "python",
   "name": "python3"
  },
  "language_info": {
   "codemirror_mode": {
    "name": "ipython",
    "version": 3
   },
   "file_extension": ".py",
   "mimetype": "text/x-python",
   "name": "python",
   "nbconvert_exporter": "python",
   "pygments_lexer": "ipython3",
   "version": "3.9.7"
  }
 },
 "nbformat": 4,
 "nbformat_minor": 5
}
