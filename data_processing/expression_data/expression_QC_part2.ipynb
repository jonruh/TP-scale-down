{
 "cells": [
  {
   "cell_type": "markdown",
   "metadata": {},
   "source": [
    "# Expression Quality Control (Part 2)"
   ]
  },
  {
   "cell_type": "markdown",
   "metadata": {},
   "source": [
    "This is a template notebook for performing the final quality control on your organism's expression data. This requires a curated metadata sheet."
   ]
  },
  {
   "cell_type": "markdown",
   "metadata": {},
   "source": [
    "## Setup "
   ]
  },
  {
   "cell_type": "code",
   "execution_count": 1,
   "metadata": {},
   "outputs": [],
   "source": [
    "import itertools\n",
    "\n",
    "import matplotlib.pyplot as plt\n",
    "import numpy as np\n",
    "import pandas as pd\n",
    "import seaborn as sns\n",
    "\n",
    "from os import path\n",
    "from scipy import stats\n",
    "from tqdm.notebook import tqdm"
   ]
  },
  {
   "cell_type": "code",
   "execution_count": 2,
   "metadata": {},
   "outputs": [],
   "source": [
    "sns.set_style('ticks')"
   ]
  },
  {
   "cell_type": "markdown",
   "metadata": {},
   "source": [
    "### Inputs"
   ]
  },
  {
   "cell_type": "code",
   "execution_count": 3,
   "metadata": {},
   "outputs": [],
   "source": [
    "logTPM_file = path.join('data','raw_data','log_tpm_raw.csv') # Enter log-TPM filename here\n",
    "all_metadata_file = path.join('data','interim','metadata_qc_part1.tsv') # Enter full metadata filename here\n",
    "metadata_file = path.join('data','interim','metadata_qc_part1_curated.tsv') # Enter curated metadata filename here"
   ]
  },
  {
   "cell_type": "markdown",
   "metadata": {},
   "source": [
    "### Load expression data"
   ]
  },
  {
   "cell_type": "code",
   "execution_count": 4,
   "metadata": {},
   "outputs": [
    {
     "name": "stdout",
     "output_type": "stream",
     "text": [
      "Number of genes: 4355\n",
      "Number of samples: 12\n"
     ]
    },
    {
     "data": {
      "text/html": [
       "<div>\n",
       "<style scoped>\n",
       "    .dataframe tbody tr th:only-of-type {\n",
       "        vertical-align: middle;\n",
       "    }\n",
       "\n",
       "    .dataframe tbody tr th {\n",
       "        vertical-align: top;\n",
       "    }\n",
       "\n",
       "    .dataframe thead th {\n",
       "        text-align: right;\n",
       "    }\n",
       "</style>\n",
       "<table border=\"1\" class=\"dataframe\">\n",
       "  <thead>\n",
       "    <tr style=\"text-align: right;\">\n",
       "      <th></th>\n",
       "      <th>PD_117_R10_S05#</th>\n",
       "      <th>PD_117_R11_S05#</th>\n",
       "      <th>PD_117_R12_S05#</th>\n",
       "      <th>PD_117_R13_S05#</th>\n",
       "      <th>PD_117_R14_S05#</th>\n",
       "      <th>PD_117_R15_S05#</th>\n",
       "      <th>PD_117_R16_S05#</th>\n",
       "      <th>PD_117_R5_S05#1</th>\n",
       "      <th>PD_117_R6_S05#1</th>\n",
       "      <th>PD_117_R7_S05#1</th>\n",
       "      <th>PD_117_R8_S05#1</th>\n",
       "      <th>PD_117_R9_S05#1</th>\n",
       "    </tr>\n",
       "    <tr>\n",
       "      <th>Geneid</th>\n",
       "      <th></th>\n",
       "      <th></th>\n",
       "      <th></th>\n",
       "      <th></th>\n",
       "      <th></th>\n",
       "      <th></th>\n",
       "      <th></th>\n",
       "      <th></th>\n",
       "      <th></th>\n",
       "      <th></th>\n",
       "      <th></th>\n",
       "      <th></th>\n",
       "    </tr>\n",
       "  </thead>\n",
       "  <tbody>\n",
       "    <tr>\n",
       "      <th>b0001</th>\n",
       "      <td>11.081665</td>\n",
       "      <td>10.268826</td>\n",
       "      <td>10.233329</td>\n",
       "      <td>9.989378</td>\n",
       "      <td>10.281131</td>\n",
       "      <td>9.962700</td>\n",
       "      <td>9.636620</td>\n",
       "      <td>11.052673</td>\n",
       "      <td>10.989912</td>\n",
       "      <td>11.092299</td>\n",
       "      <td>10.923131</td>\n",
       "      <td>11.267527</td>\n",
       "    </tr>\n",
       "    <tr>\n",
       "      <th>b0002</th>\n",
       "      <td>7.645440</td>\n",
       "      <td>9.522497</td>\n",
       "      <td>9.117753</td>\n",
       "      <td>9.139083</td>\n",
       "      <td>10.197153</td>\n",
       "      <td>9.574051</td>\n",
       "      <td>9.451363</td>\n",
       "      <td>7.754347</td>\n",
       "      <td>7.821709</td>\n",
       "      <td>7.905215</td>\n",
       "      <td>7.772760</td>\n",
       "      <td>7.565977</td>\n",
       "    </tr>\n",
       "    <tr>\n",
       "      <th>b0003</th>\n",
       "      <td>7.640769</td>\n",
       "      <td>9.083923</td>\n",
       "      <td>8.782278</td>\n",
       "      <td>8.742474</td>\n",
       "      <td>9.637226</td>\n",
       "      <td>9.655356</td>\n",
       "      <td>9.667506</td>\n",
       "      <td>7.602189</td>\n",
       "      <td>7.711155</td>\n",
       "      <td>7.781399</td>\n",
       "      <td>7.776329</td>\n",
       "      <td>7.781513</td>\n",
       "    </tr>\n",
       "    <tr>\n",
       "      <th>b0004</th>\n",
       "      <td>7.383264</td>\n",
       "      <td>8.404835</td>\n",
       "      <td>8.363498</td>\n",
       "      <td>8.215478</td>\n",
       "      <td>9.037703</td>\n",
       "      <td>9.027710</td>\n",
       "      <td>9.083592</td>\n",
       "      <td>7.274509</td>\n",
       "      <td>7.244816</td>\n",
       "      <td>7.338556</td>\n",
       "      <td>7.570289</td>\n",
       "      <td>7.632955</td>\n",
       "    </tr>\n",
       "    <tr>\n",
       "      <th>b0005</th>\n",
       "      <td>4.077732</td>\n",
       "      <td>5.696586</td>\n",
       "      <td>5.560236</td>\n",
       "      <td>5.819425</td>\n",
       "      <td>5.957660</td>\n",
       "      <td>6.105838</td>\n",
       "      <td>5.817777</td>\n",
       "      <td>3.851237</td>\n",
       "      <td>4.256504</td>\n",
       "      <td>3.998828</td>\n",
       "      <td>3.815343</td>\n",
       "      <td>3.772055</td>\n",
       "    </tr>\n",
       "  </tbody>\n",
       "</table>\n",
       "</div>"
      ],
      "text/plain": [
       "        PD_117_R10_S05#  PD_117_R11_S05#  PD_117_R12_S05#  PD_117_R13_S05#  \\\n",
       "Geneid                                                                       \n",
       "b0001         11.081665        10.268826        10.233329         9.989378   \n",
       "b0002          7.645440         9.522497         9.117753         9.139083   \n",
       "b0003          7.640769         9.083923         8.782278         8.742474   \n",
       "b0004          7.383264         8.404835         8.363498         8.215478   \n",
       "b0005          4.077732         5.696586         5.560236         5.819425   \n",
       "\n",
       "        PD_117_R14_S05#  PD_117_R15_S05#  PD_117_R16_S05#  PD_117_R5_S05#1  \\\n",
       "Geneid                                                                       \n",
       "b0001         10.281131         9.962700         9.636620        11.052673   \n",
       "b0002         10.197153         9.574051         9.451363         7.754347   \n",
       "b0003          9.637226         9.655356         9.667506         7.602189   \n",
       "b0004          9.037703         9.027710         9.083592         7.274509   \n",
       "b0005          5.957660         6.105838         5.817777         3.851237   \n",
       "\n",
       "        PD_117_R6_S05#1  PD_117_R7_S05#1  PD_117_R8_S05#1  PD_117_R9_S05#1  \n",
       "Geneid                                                                      \n",
       "b0001         10.989912        11.092299        10.923131        11.267527  \n",
       "b0002          7.821709         7.905215         7.772760         7.565977  \n",
       "b0003          7.711155         7.781399         7.776329         7.781513  \n",
       "b0004          7.244816         7.338556         7.570289         7.632955  \n",
       "b0005          4.256504         3.998828         3.815343         3.772055  "
      ]
     },
     "execution_count": 4,
     "metadata": {},
     "output_type": "execute_result"
    }
   ],
   "source": [
    "DF_log_tpm = pd.read_csv(logTPM_file,index_col=0).fillna(0)\n",
    "print('Number of genes:',DF_log_tpm.shape[0])\n",
    "print('Number of samples:',DF_log_tpm.shape[1])\n",
    "DF_log_tpm.head()"
   ]
  },
  {
   "cell_type": "markdown",
   "metadata": {},
   "source": [
    "### Load metadata"
   ]
  },
  {
   "cell_type": "code",
   "execution_count": 5,
   "metadata": {},
   "outputs": [
    {
     "name": "stdout",
     "output_type": "stream",
     "text": [
      "Number of samples with curated metadata: 12\n"
     ]
    },
    {
     "data": {
      "text/html": [
       "<div>\n",
       "<style scoped>\n",
       "    .dataframe tbody tr th:only-of-type {\n",
       "        vertical-align: middle;\n",
       "    }\n",
       "\n",
       "    .dataframe tbody tr th {\n",
       "        vertical-align: top;\n",
       "    }\n",
       "\n",
       "    .dataframe thead th {\n",
       "        text-align: right;\n",
       "    }\n",
       "</style>\n",
       "<table border=\"1\" class=\"dataframe\">\n",
       "  <thead>\n",
       "    <tr style=\"text-align: right;\">\n",
       "      <th></th>\n",
       "      <th>LibraryLayout</th>\n",
       "      <th>Platform</th>\n",
       "      <th>Run</th>\n",
       "      <th>R1</th>\n",
       "      <th>R2</th>\n",
       "      <th>project</th>\n",
       "      <th>condition</th>\n",
       "      <th>strain_ID</th>\n",
       "      <th>process_condition</th>\n",
       "      <th>experiment_run</th>\n",
       "      <th>strain_name</th>\n",
       "      <th>reference_condition</th>\n",
       "      <th>passed_fastqc</th>\n",
       "      <th>passed_reads_mapped_to_CDS</th>\n",
       "      <th>passed_global_correlation</th>\n",
       "      <th>skip</th>\n",
       "    </tr>\n",
       "  </thead>\n",
       "  <tbody>\n",
       "    <tr>\n",
       "      <th>PD_117_R10_S05#</th>\n",
       "      <td>PAIRED</td>\n",
       "      <td>DNBSEQ</td>\n",
       "      <td>NaN</td>\n",
       "      <td>PD_117_R10_S05#_1.fq.gz</td>\n",
       "      <td>PD_117_R10_S05#_2.fq.gz</td>\n",
       "      <td>Trp_scale-down</td>\n",
       "      <td>DDB35_scale-down</td>\n",
       "      <td>DDB35</td>\n",
       "      <td>scale-down</td>\n",
       "      <td>DDB_117</td>\n",
       "      <td>WT</td>\n",
       "      <td>DDB35_control</td>\n",
       "      <td>True</td>\n",
       "      <td>True</td>\n",
       "      <td>True</td>\n",
       "      <td>NaN</td>\n",
       "    </tr>\n",
       "    <tr>\n",
       "      <th>PD_117_R11_S05#</th>\n",
       "      <td>PAIRED</td>\n",
       "      <td>DNBSEQ</td>\n",
       "      <td>NaN</td>\n",
       "      <td>PD_117_R11_S05#_1.fq.gz</td>\n",
       "      <td>PD_117_R11_S05#_2.fq.gz</td>\n",
       "      <td>Trp_scale-down</td>\n",
       "      <td>HMP3071_control</td>\n",
       "      <td>HMP3071</td>\n",
       "      <td>control</td>\n",
       "      <td>DDB_117</td>\n",
       "      <td>TP</td>\n",
       "      <td>DDB35_control</td>\n",
       "      <td>True</td>\n",
       "      <td>True</td>\n",
       "      <td>True</td>\n",
       "      <td>NaN</td>\n",
       "    </tr>\n",
       "    <tr>\n",
       "      <th>PD_117_R12_S05#</th>\n",
       "      <td>PAIRED</td>\n",
       "      <td>DNBSEQ</td>\n",
       "      <td>NaN</td>\n",
       "      <td>PD_117_R12_S05#_1.fq.gz</td>\n",
       "      <td>PD_117_R12_S05#_2.fq.gz</td>\n",
       "      <td>Trp_scale-down</td>\n",
       "      <td>HMP3071_control</td>\n",
       "      <td>HMP3071</td>\n",
       "      <td>control</td>\n",
       "      <td>DDB_117</td>\n",
       "      <td>TP</td>\n",
       "      <td>DDB35_control</td>\n",
       "      <td>True</td>\n",
       "      <td>True</td>\n",
       "      <td>True</td>\n",
       "      <td>NaN</td>\n",
       "    </tr>\n",
       "    <tr>\n",
       "      <th>PD_117_R13_S05#</th>\n",
       "      <td>PAIRED</td>\n",
       "      <td>DNBSEQ</td>\n",
       "      <td>NaN</td>\n",
       "      <td>PD_117_R13_S05#_1.fq.gz</td>\n",
       "      <td>PD_117_R13_S05#_2.fq.gz</td>\n",
       "      <td>Trp_scale-down</td>\n",
       "      <td>HMP3071_control</td>\n",
       "      <td>HMP3071</td>\n",
       "      <td>control</td>\n",
       "      <td>DDB_117</td>\n",
       "      <td>TP</td>\n",
       "      <td>DDB35_control</td>\n",
       "      <td>True</td>\n",
       "      <td>True</td>\n",
       "      <td>True</td>\n",
       "      <td>NaN</td>\n",
       "    </tr>\n",
       "    <tr>\n",
       "      <th>PD_117_R14_S05#</th>\n",
       "      <td>PAIRED</td>\n",
       "      <td>DNBSEQ</td>\n",
       "      <td>NaN</td>\n",
       "      <td>PD_117_R14_S05#_1.fq.gz</td>\n",
       "      <td>PD_117_R14_S05#_2.fq.gz</td>\n",
       "      <td>Trp_scale-down</td>\n",
       "      <td>HMP3071_scale-down</td>\n",
       "      <td>HMP3071</td>\n",
       "      <td>scale-down</td>\n",
       "      <td>DDB_117</td>\n",
       "      <td>TP</td>\n",
       "      <td>DDB35_control</td>\n",
       "      <td>True</td>\n",
       "      <td>True</td>\n",
       "      <td>True</td>\n",
       "      <td>NaN</td>\n",
       "    </tr>\n",
       "  </tbody>\n",
       "</table>\n",
       "</div>"
      ],
      "text/plain": [
       "                LibraryLayout Platform  Run                       R1  \\\n",
       "PD_117_R10_S05#        PAIRED   DNBSEQ  NaN  PD_117_R10_S05#_1.fq.gz   \n",
       "PD_117_R11_S05#        PAIRED   DNBSEQ  NaN  PD_117_R11_S05#_1.fq.gz   \n",
       "PD_117_R12_S05#        PAIRED   DNBSEQ  NaN  PD_117_R12_S05#_1.fq.gz   \n",
       "PD_117_R13_S05#        PAIRED   DNBSEQ  NaN  PD_117_R13_S05#_1.fq.gz   \n",
       "PD_117_R14_S05#        PAIRED   DNBSEQ  NaN  PD_117_R14_S05#_1.fq.gz   \n",
       "\n",
       "                                      R2         project           condition  \\\n",
       "PD_117_R10_S05#  PD_117_R10_S05#_2.fq.gz  Trp_scale-down    DDB35_scale-down   \n",
       "PD_117_R11_S05#  PD_117_R11_S05#_2.fq.gz  Trp_scale-down     HMP3071_control   \n",
       "PD_117_R12_S05#  PD_117_R12_S05#_2.fq.gz  Trp_scale-down     HMP3071_control   \n",
       "PD_117_R13_S05#  PD_117_R13_S05#_2.fq.gz  Trp_scale-down     HMP3071_control   \n",
       "PD_117_R14_S05#  PD_117_R14_S05#_2.fq.gz  Trp_scale-down  HMP3071_scale-down   \n",
       "\n",
       "                strain_ID process_condition experiment_run strain_name  \\\n",
       "PD_117_R10_S05#     DDB35        scale-down        DDB_117          WT   \n",
       "PD_117_R11_S05#   HMP3071           control        DDB_117          TP   \n",
       "PD_117_R12_S05#   HMP3071           control        DDB_117          TP   \n",
       "PD_117_R13_S05#   HMP3071           control        DDB_117          TP   \n",
       "PD_117_R14_S05#   HMP3071        scale-down        DDB_117          TP   \n",
       "\n",
       "                reference_condition  passed_fastqc  \\\n",
       "PD_117_R10_S05#       DDB35_control           True   \n",
       "PD_117_R11_S05#       DDB35_control           True   \n",
       "PD_117_R12_S05#       DDB35_control           True   \n",
       "PD_117_R13_S05#       DDB35_control           True   \n",
       "PD_117_R14_S05#       DDB35_control           True   \n",
       "\n",
       "                 passed_reads_mapped_to_CDS  passed_global_correlation  skip  \n",
       "PD_117_R10_S05#                        True                       True   NaN  \n",
       "PD_117_R11_S05#                        True                       True   NaN  \n",
       "PD_117_R12_S05#                        True                       True   NaN  \n",
       "PD_117_R13_S05#                        True                       True   NaN  \n",
       "PD_117_R14_S05#                        True                       True   NaN  "
      ]
     },
     "execution_count": 5,
     "metadata": {},
     "output_type": "execute_result"
    }
   ],
   "source": [
    "DF_metadata = pd.read_csv(metadata_file,index_col=0,sep='\\t')\n",
    "print('Number of samples with curated metadata:',DF_metadata.shape[0])\n",
    "DF_metadata.head()"
   ]
  },
  {
   "cell_type": "code",
   "execution_count": 6,
   "metadata": {},
   "outputs": [],
   "source": [
    "DF_metadata_all = pd.read_csv(all_metadata_file,index_col=0,sep='\\t')"
   ]
  },
  {
   "cell_type": "markdown",
   "metadata": {},
   "source": [
    "## Remove samples due to poor metadata"
   ]
  },
  {
   "cell_type": "markdown",
   "metadata": {},
   "source": [
    "After curation, some samples either did not have enough replicates or metadata to warrant inclusion in this database."
   ]
  },
  {
   "cell_type": "code",
   "execution_count": 7,
   "metadata": {},
   "outputs": [
    {
     "name": "stdout",
     "output_type": "stream",
     "text": [
      "New number of samples with curated metadata: 12\n"
     ]
    },
    {
     "data": {
      "text/html": [
       "<div>\n",
       "<style scoped>\n",
       "    .dataframe tbody tr th:only-of-type {\n",
       "        vertical-align: middle;\n",
       "    }\n",
       "\n",
       "    .dataframe tbody tr th {\n",
       "        vertical-align: top;\n",
       "    }\n",
       "\n",
       "    .dataframe thead th {\n",
       "        text-align: right;\n",
       "    }\n",
       "</style>\n",
       "<table border=\"1\" class=\"dataframe\">\n",
       "  <thead>\n",
       "    <tr style=\"text-align: right;\">\n",
       "      <th></th>\n",
       "      <th>LibraryLayout</th>\n",
       "      <th>Platform</th>\n",
       "      <th>Run</th>\n",
       "      <th>R1</th>\n",
       "      <th>R2</th>\n",
       "      <th>project</th>\n",
       "      <th>condition</th>\n",
       "      <th>strain_ID</th>\n",
       "      <th>process_condition</th>\n",
       "      <th>experiment_run</th>\n",
       "      <th>strain_name</th>\n",
       "      <th>reference_condition</th>\n",
       "      <th>passed_fastqc</th>\n",
       "      <th>passed_reads_mapped_to_CDS</th>\n",
       "      <th>passed_global_correlation</th>\n",
       "      <th>skip</th>\n",
       "    </tr>\n",
       "  </thead>\n",
       "  <tbody>\n",
       "    <tr>\n",
       "      <th>PD_117_R10_S05#</th>\n",
       "      <td>PAIRED</td>\n",
       "      <td>DNBSEQ</td>\n",
       "      <td>NaN</td>\n",
       "      <td>PD_117_R10_S05#_1.fq.gz</td>\n",
       "      <td>PD_117_R10_S05#_2.fq.gz</td>\n",
       "      <td>Trp_scale-down</td>\n",
       "      <td>DDB35_scale-down</td>\n",
       "      <td>DDB35</td>\n",
       "      <td>scale-down</td>\n",
       "      <td>DDB_117</td>\n",
       "      <td>WT</td>\n",
       "      <td>DDB35_control</td>\n",
       "      <td>True</td>\n",
       "      <td>True</td>\n",
       "      <td>True</td>\n",
       "      <td>NaN</td>\n",
       "    </tr>\n",
       "    <tr>\n",
       "      <th>PD_117_R11_S05#</th>\n",
       "      <td>PAIRED</td>\n",
       "      <td>DNBSEQ</td>\n",
       "      <td>NaN</td>\n",
       "      <td>PD_117_R11_S05#_1.fq.gz</td>\n",
       "      <td>PD_117_R11_S05#_2.fq.gz</td>\n",
       "      <td>Trp_scale-down</td>\n",
       "      <td>HMP3071_control</td>\n",
       "      <td>HMP3071</td>\n",
       "      <td>control</td>\n",
       "      <td>DDB_117</td>\n",
       "      <td>TP</td>\n",
       "      <td>DDB35_control</td>\n",
       "      <td>True</td>\n",
       "      <td>True</td>\n",
       "      <td>True</td>\n",
       "      <td>NaN</td>\n",
       "    </tr>\n",
       "    <tr>\n",
       "      <th>PD_117_R12_S05#</th>\n",
       "      <td>PAIRED</td>\n",
       "      <td>DNBSEQ</td>\n",
       "      <td>NaN</td>\n",
       "      <td>PD_117_R12_S05#_1.fq.gz</td>\n",
       "      <td>PD_117_R12_S05#_2.fq.gz</td>\n",
       "      <td>Trp_scale-down</td>\n",
       "      <td>HMP3071_control</td>\n",
       "      <td>HMP3071</td>\n",
       "      <td>control</td>\n",
       "      <td>DDB_117</td>\n",
       "      <td>TP</td>\n",
       "      <td>DDB35_control</td>\n",
       "      <td>True</td>\n",
       "      <td>True</td>\n",
       "      <td>True</td>\n",
       "      <td>NaN</td>\n",
       "    </tr>\n",
       "    <tr>\n",
       "      <th>PD_117_R13_S05#</th>\n",
       "      <td>PAIRED</td>\n",
       "      <td>DNBSEQ</td>\n",
       "      <td>NaN</td>\n",
       "      <td>PD_117_R13_S05#_1.fq.gz</td>\n",
       "      <td>PD_117_R13_S05#_2.fq.gz</td>\n",
       "      <td>Trp_scale-down</td>\n",
       "      <td>HMP3071_control</td>\n",
       "      <td>HMP3071</td>\n",
       "      <td>control</td>\n",
       "      <td>DDB_117</td>\n",
       "      <td>TP</td>\n",
       "      <td>DDB35_control</td>\n",
       "      <td>True</td>\n",
       "      <td>True</td>\n",
       "      <td>True</td>\n",
       "      <td>NaN</td>\n",
       "    </tr>\n",
       "    <tr>\n",
       "      <th>PD_117_R14_S05#</th>\n",
       "      <td>PAIRED</td>\n",
       "      <td>DNBSEQ</td>\n",
       "      <td>NaN</td>\n",
       "      <td>PD_117_R14_S05#_1.fq.gz</td>\n",
       "      <td>PD_117_R14_S05#_2.fq.gz</td>\n",
       "      <td>Trp_scale-down</td>\n",
       "      <td>HMP3071_scale-down</td>\n",
       "      <td>HMP3071</td>\n",
       "      <td>scale-down</td>\n",
       "      <td>DDB_117</td>\n",
       "      <td>TP</td>\n",
       "      <td>DDB35_control</td>\n",
       "      <td>True</td>\n",
       "      <td>True</td>\n",
       "      <td>True</td>\n",
       "      <td>NaN</td>\n",
       "    </tr>\n",
       "  </tbody>\n",
       "</table>\n",
       "</div>"
      ],
      "text/plain": [
       "                LibraryLayout Platform  Run                       R1  \\\n",
       "PD_117_R10_S05#        PAIRED   DNBSEQ  NaN  PD_117_R10_S05#_1.fq.gz   \n",
       "PD_117_R11_S05#        PAIRED   DNBSEQ  NaN  PD_117_R11_S05#_1.fq.gz   \n",
       "PD_117_R12_S05#        PAIRED   DNBSEQ  NaN  PD_117_R12_S05#_1.fq.gz   \n",
       "PD_117_R13_S05#        PAIRED   DNBSEQ  NaN  PD_117_R13_S05#_1.fq.gz   \n",
       "PD_117_R14_S05#        PAIRED   DNBSEQ  NaN  PD_117_R14_S05#_1.fq.gz   \n",
       "\n",
       "                                      R2         project           condition  \\\n",
       "PD_117_R10_S05#  PD_117_R10_S05#_2.fq.gz  Trp_scale-down    DDB35_scale-down   \n",
       "PD_117_R11_S05#  PD_117_R11_S05#_2.fq.gz  Trp_scale-down     HMP3071_control   \n",
       "PD_117_R12_S05#  PD_117_R12_S05#_2.fq.gz  Trp_scale-down     HMP3071_control   \n",
       "PD_117_R13_S05#  PD_117_R13_S05#_2.fq.gz  Trp_scale-down     HMP3071_control   \n",
       "PD_117_R14_S05#  PD_117_R14_S05#_2.fq.gz  Trp_scale-down  HMP3071_scale-down   \n",
       "\n",
       "                strain_ID process_condition experiment_run strain_name  \\\n",
       "PD_117_R10_S05#     DDB35        scale-down        DDB_117          WT   \n",
       "PD_117_R11_S05#   HMP3071           control        DDB_117          TP   \n",
       "PD_117_R12_S05#   HMP3071           control        DDB_117          TP   \n",
       "PD_117_R13_S05#   HMP3071           control        DDB_117          TP   \n",
       "PD_117_R14_S05#   HMP3071        scale-down        DDB_117          TP   \n",
       "\n",
       "                reference_condition  passed_fastqc  \\\n",
       "PD_117_R10_S05#       DDB35_control           True   \n",
       "PD_117_R11_S05#       DDB35_control           True   \n",
       "PD_117_R12_S05#       DDB35_control           True   \n",
       "PD_117_R13_S05#       DDB35_control           True   \n",
       "PD_117_R14_S05#       DDB35_control           True   \n",
       "\n",
       "                 passed_reads_mapped_to_CDS  passed_global_correlation  skip  \n",
       "PD_117_R10_S05#                        True                       True   NaN  \n",
       "PD_117_R11_S05#                        True                       True   NaN  \n",
       "PD_117_R12_S05#                        True                       True   NaN  \n",
       "PD_117_R13_S05#                        True                       True   NaN  \n",
       "PD_117_R14_S05#                        True                       True   NaN  "
      ]
     },
     "execution_count": 7,
     "metadata": {},
     "output_type": "execute_result"
    }
   ],
   "source": [
    "DF_metadata_passed_step4 = DF_metadata[~DF_metadata.skip.fillna(False)].copy()\n",
    "print('New number of samples with curated metadata:',DF_metadata_passed_step4.shape[0])\n",
    "DF_metadata_passed_step4.head()"
   ]
  },
  {
   "cell_type": "markdown",
   "metadata": {},
   "source": [
    "### Check curation\n",
    "Since manual curation is error-prone, we want to make sure that all samples have labels for their project and condition. In addition, there should only be one reference condition in each project, and it should be in the project itself.\n",
    "\n",
    "Any samples that fail these checks will be printed below."
   ]
  },
  {
   "cell_type": "code",
   "execution_count": 8,
   "metadata": {},
   "outputs": [],
   "source": [
    "assert(DF_metadata_passed_step4.project.notnull().all())\n",
    "assert(DF_metadata_passed_step4.condition.notnull().all())\n",
    "\n",
    "for name,group in DF_metadata_passed_step4.groupby('project'):\n",
    "    ref_cond = group.reference_condition.unique()\n",
    "    \n",
    "    # Ensure that there is only one reference condition per project\n",
    "    if not len(ref_cond) == 1:\n",
    "        print('Multiple reference conditions for:, name')\n",
    "    \n",
    "    # Ensure the reference condition is in fact in the project\n",
    "    ref_cond = ref_cond[0]\n",
    "    if not ref_cond in group.condition.tolist():\n",
    "        print('Reference condition not in project:', name)"
   ]
  },
  {
   "cell_type": "markdown",
   "metadata": {},
   "source": [
    "Next, make a new column called ``full_name`` that gives every experimental condition a unique, human-readable identifier."
   ]
  },
  {
   "cell_type": "code",
   "execution_count": 9,
   "metadata": {},
   "outputs": [],
   "source": [
    "DF_metadata_passed_step4['full_name'] = DF_metadata_passed_step4['project'].str.cat(DF_metadata_passed_step4['condition'],sep=':')"
   ]
  },
  {
   "cell_type": "markdown",
   "metadata": {},
   "source": [
    "### Remove samples with only one replicate"
   ]
  },
  {
   "cell_type": "markdown",
   "metadata": {},
   "source": [
    "First, find sample names that have at least two replicates."
   ]
  },
  {
   "cell_type": "code",
   "execution_count": 10,
   "metadata": {},
   "outputs": [
    {
     "name": "stdout",
     "output_type": "stream",
     "text": [
      "Index(['Trp_scale-down:DDB35_scale-down', 'Trp_scale-down:HMP3071_control',\n",
      "       'Trp_scale-down:HMP3071_scale-down', 'Trp_scale-down:DDB35_control'],\n",
      "      dtype='object')\n"
     ]
    }
   ],
   "source": [
    "counts = DF_metadata_passed_step4.full_name.value_counts()\n",
    "keep_samples = counts[counts >= 2].index\n",
    "print(keep_samples[:5])"
   ]
  },
  {
   "cell_type": "code",
   "execution_count": 11,
   "metadata": {},
   "outputs": [
    {
     "data": {
      "text/plain": [
       "Index(['Trp_scale-down:DDB35_scale-down', 'Trp_scale-down:HMP3071_control',\n",
       "       'Trp_scale-down:HMP3071_scale-down', 'Trp_scale-down:DDB35_control'],\n",
       "      dtype='object')"
      ]
     },
     "execution_count": 11,
     "metadata": {},
     "output_type": "execute_result"
    }
   ],
   "source": [
    "keep_samples"
   ]
  },
  {
   "cell_type": "markdown",
   "metadata": {},
   "source": [
    "Only keep these samples"
   ]
  },
  {
   "cell_type": "code",
   "execution_count": 12,
   "metadata": {},
   "outputs": [
    {
     "name": "stdout",
     "output_type": "stream",
     "text": [
      "New number of samples with curated metadata: 12\n"
     ]
    },
    {
     "data": {
      "text/html": [
       "<div>\n",
       "<style scoped>\n",
       "    .dataframe tbody tr th:only-of-type {\n",
       "        vertical-align: middle;\n",
       "    }\n",
       "\n",
       "    .dataframe tbody tr th {\n",
       "        vertical-align: top;\n",
       "    }\n",
       "\n",
       "    .dataframe thead th {\n",
       "        text-align: right;\n",
       "    }\n",
       "</style>\n",
       "<table border=\"1\" class=\"dataframe\">\n",
       "  <thead>\n",
       "    <tr style=\"text-align: right;\">\n",
       "      <th></th>\n",
       "      <th>LibraryLayout</th>\n",
       "      <th>Platform</th>\n",
       "      <th>Run</th>\n",
       "      <th>R1</th>\n",
       "      <th>R2</th>\n",
       "      <th>project</th>\n",
       "      <th>condition</th>\n",
       "      <th>strain_ID</th>\n",
       "      <th>process_condition</th>\n",
       "      <th>experiment_run</th>\n",
       "      <th>strain_name</th>\n",
       "      <th>reference_condition</th>\n",
       "      <th>passed_fastqc</th>\n",
       "      <th>passed_reads_mapped_to_CDS</th>\n",
       "      <th>passed_global_correlation</th>\n",
       "      <th>skip</th>\n",
       "      <th>full_name</th>\n",
       "    </tr>\n",
       "  </thead>\n",
       "  <tbody>\n",
       "    <tr>\n",
       "      <th>PD_117_R10_S05#</th>\n",
       "      <td>PAIRED</td>\n",
       "      <td>DNBSEQ</td>\n",
       "      <td>NaN</td>\n",
       "      <td>PD_117_R10_S05#_1.fq.gz</td>\n",
       "      <td>PD_117_R10_S05#_2.fq.gz</td>\n",
       "      <td>Trp_scale-down</td>\n",
       "      <td>DDB35_scale-down</td>\n",
       "      <td>DDB35</td>\n",
       "      <td>scale-down</td>\n",
       "      <td>DDB_117</td>\n",
       "      <td>WT</td>\n",
       "      <td>DDB35_control</td>\n",
       "      <td>True</td>\n",
       "      <td>True</td>\n",
       "      <td>True</td>\n",
       "      <td>NaN</td>\n",
       "      <td>Trp_scale-down:DDB35_scale-down</td>\n",
       "    </tr>\n",
       "    <tr>\n",
       "      <th>PD_117_R11_S05#</th>\n",
       "      <td>PAIRED</td>\n",
       "      <td>DNBSEQ</td>\n",
       "      <td>NaN</td>\n",
       "      <td>PD_117_R11_S05#_1.fq.gz</td>\n",
       "      <td>PD_117_R11_S05#_2.fq.gz</td>\n",
       "      <td>Trp_scale-down</td>\n",
       "      <td>HMP3071_control</td>\n",
       "      <td>HMP3071</td>\n",
       "      <td>control</td>\n",
       "      <td>DDB_117</td>\n",
       "      <td>TP</td>\n",
       "      <td>DDB35_control</td>\n",
       "      <td>True</td>\n",
       "      <td>True</td>\n",
       "      <td>True</td>\n",
       "      <td>NaN</td>\n",
       "      <td>Trp_scale-down:HMP3071_control</td>\n",
       "    </tr>\n",
       "    <tr>\n",
       "      <th>PD_117_R12_S05#</th>\n",
       "      <td>PAIRED</td>\n",
       "      <td>DNBSEQ</td>\n",
       "      <td>NaN</td>\n",
       "      <td>PD_117_R12_S05#_1.fq.gz</td>\n",
       "      <td>PD_117_R12_S05#_2.fq.gz</td>\n",
       "      <td>Trp_scale-down</td>\n",
       "      <td>HMP3071_control</td>\n",
       "      <td>HMP3071</td>\n",
       "      <td>control</td>\n",
       "      <td>DDB_117</td>\n",
       "      <td>TP</td>\n",
       "      <td>DDB35_control</td>\n",
       "      <td>True</td>\n",
       "      <td>True</td>\n",
       "      <td>True</td>\n",
       "      <td>NaN</td>\n",
       "      <td>Trp_scale-down:HMP3071_control</td>\n",
       "    </tr>\n",
       "    <tr>\n",
       "      <th>PD_117_R13_S05#</th>\n",
       "      <td>PAIRED</td>\n",
       "      <td>DNBSEQ</td>\n",
       "      <td>NaN</td>\n",
       "      <td>PD_117_R13_S05#_1.fq.gz</td>\n",
       "      <td>PD_117_R13_S05#_2.fq.gz</td>\n",
       "      <td>Trp_scale-down</td>\n",
       "      <td>HMP3071_control</td>\n",
       "      <td>HMP3071</td>\n",
       "      <td>control</td>\n",
       "      <td>DDB_117</td>\n",
       "      <td>TP</td>\n",
       "      <td>DDB35_control</td>\n",
       "      <td>True</td>\n",
       "      <td>True</td>\n",
       "      <td>True</td>\n",
       "      <td>NaN</td>\n",
       "      <td>Trp_scale-down:HMP3071_control</td>\n",
       "    </tr>\n",
       "    <tr>\n",
       "      <th>PD_117_R14_S05#</th>\n",
       "      <td>PAIRED</td>\n",
       "      <td>DNBSEQ</td>\n",
       "      <td>NaN</td>\n",
       "      <td>PD_117_R14_S05#_1.fq.gz</td>\n",
       "      <td>PD_117_R14_S05#_2.fq.gz</td>\n",
       "      <td>Trp_scale-down</td>\n",
       "      <td>HMP3071_scale-down</td>\n",
       "      <td>HMP3071</td>\n",
       "      <td>scale-down</td>\n",
       "      <td>DDB_117</td>\n",
       "      <td>TP</td>\n",
       "      <td>DDB35_control</td>\n",
       "      <td>True</td>\n",
       "      <td>True</td>\n",
       "      <td>True</td>\n",
       "      <td>NaN</td>\n",
       "      <td>Trp_scale-down:HMP3071_scale-down</td>\n",
       "    </tr>\n",
       "  </tbody>\n",
       "</table>\n",
       "</div>"
      ],
      "text/plain": [
       "                LibraryLayout Platform  Run                       R1  \\\n",
       "PD_117_R10_S05#        PAIRED   DNBSEQ  NaN  PD_117_R10_S05#_1.fq.gz   \n",
       "PD_117_R11_S05#        PAIRED   DNBSEQ  NaN  PD_117_R11_S05#_1.fq.gz   \n",
       "PD_117_R12_S05#        PAIRED   DNBSEQ  NaN  PD_117_R12_S05#_1.fq.gz   \n",
       "PD_117_R13_S05#        PAIRED   DNBSEQ  NaN  PD_117_R13_S05#_1.fq.gz   \n",
       "PD_117_R14_S05#        PAIRED   DNBSEQ  NaN  PD_117_R14_S05#_1.fq.gz   \n",
       "\n",
       "                                      R2         project           condition  \\\n",
       "PD_117_R10_S05#  PD_117_R10_S05#_2.fq.gz  Trp_scale-down    DDB35_scale-down   \n",
       "PD_117_R11_S05#  PD_117_R11_S05#_2.fq.gz  Trp_scale-down     HMP3071_control   \n",
       "PD_117_R12_S05#  PD_117_R12_S05#_2.fq.gz  Trp_scale-down     HMP3071_control   \n",
       "PD_117_R13_S05#  PD_117_R13_S05#_2.fq.gz  Trp_scale-down     HMP3071_control   \n",
       "PD_117_R14_S05#  PD_117_R14_S05#_2.fq.gz  Trp_scale-down  HMP3071_scale-down   \n",
       "\n",
       "                strain_ID process_condition experiment_run strain_name  \\\n",
       "PD_117_R10_S05#     DDB35        scale-down        DDB_117          WT   \n",
       "PD_117_R11_S05#   HMP3071           control        DDB_117          TP   \n",
       "PD_117_R12_S05#   HMP3071           control        DDB_117          TP   \n",
       "PD_117_R13_S05#   HMP3071           control        DDB_117          TP   \n",
       "PD_117_R14_S05#   HMP3071        scale-down        DDB_117          TP   \n",
       "\n",
       "                reference_condition  passed_fastqc  \\\n",
       "PD_117_R10_S05#       DDB35_control           True   \n",
       "PD_117_R11_S05#       DDB35_control           True   \n",
       "PD_117_R12_S05#       DDB35_control           True   \n",
       "PD_117_R13_S05#       DDB35_control           True   \n",
       "PD_117_R14_S05#       DDB35_control           True   \n",
       "\n",
       "                 passed_reads_mapped_to_CDS  passed_global_correlation  skip  \\\n",
       "PD_117_R10_S05#                        True                       True   NaN   \n",
       "PD_117_R11_S05#                        True                       True   NaN   \n",
       "PD_117_R12_S05#                        True                       True   NaN   \n",
       "PD_117_R13_S05#                        True                       True   NaN   \n",
       "PD_117_R14_S05#                        True                       True   NaN   \n",
       "\n",
       "                                         full_name  \n",
       "PD_117_R10_S05#    Trp_scale-down:DDB35_scale-down  \n",
       "PD_117_R11_S05#     Trp_scale-down:HMP3071_control  \n",
       "PD_117_R12_S05#     Trp_scale-down:HMP3071_control  \n",
       "PD_117_R13_S05#     Trp_scale-down:HMP3071_control  \n",
       "PD_117_R14_S05#  Trp_scale-down:HMP3071_scale-down  "
      ]
     },
     "execution_count": 12,
     "metadata": {},
     "output_type": "execute_result"
    }
   ],
   "source": [
    "DF_metadata_passed_step4 = DF_metadata_passed_step4[DF_metadata_passed_step4.full_name.isin(keep_samples)]\n",
    "print('New number of samples with curated metadata:',DF_metadata_passed_step4.shape[0])\n",
    "DF_metadata_passed_step4.head()"
   ]
  },
  {
   "cell_type": "markdown",
   "metadata": {},
   "source": [
    "### Save this information to the full metadata dataframe"
   ]
  },
  {
   "cell_type": "code",
   "execution_count": 13,
   "metadata": {},
   "outputs": [],
   "source": [
    "DF_metadata_all['passed_curation'] = DF_metadata_all.index.isin(DF_metadata_passed_step4.index)"
   ]
  },
  {
   "cell_type": "markdown",
   "metadata": {},
   "source": [
    "## Check correlations between replicates"
   ]
  },
  {
   "cell_type": "markdown",
   "metadata": {},
   "source": [
    "### Remove failed data from log_tpm files"
   ]
  },
  {
   "cell_type": "code",
   "execution_count": 14,
   "metadata": {},
   "outputs": [],
   "source": [
    "DF_log_tpm = DF_log_tpm[DF_metadata_passed_step4.index]"
   ]
  },
  {
   "cell_type": "markdown",
   "metadata": {},
   "source": [
    "### Compute Pearson R Score"
   ]
  },
  {
   "cell_type": "markdown",
   "metadata": {},
   "source": [
    "Biological replicates should have a Pearson R correlation above 0.95. For samples with more than 2 replicates, the replicates must have R >= 0.95 with at least one other replicate or it will be dropped. The correlation threshold can be changed below:"
   ]
  },
  {
   "cell_type": "code",
   "execution_count": 15,
   "metadata": {},
   "outputs": [],
   "source": [
    "rcutoff = 0.95"
   ]
  },
  {
   "cell_type": "markdown",
   "metadata": {},
   "source": [
    "The following code computes correlations between all samples and collects correlations between replicates and non-replicates."
   ]
  },
  {
   "cell_type": "code",
   "execution_count": 16,
   "metadata": {},
   "outputs": [
    {
     "data": {
      "application/vnd.jupyter.widget-view+json": {
       "model_id": "2f7a3e93e62341c0a5bfc176c67973d6",
       "version_major": 2,
       "version_minor": 0
      },
      "text/plain": [
       "  0%|          | 0/66.0 [00:00<?, ?it/s]"
      ]
     },
     "metadata": {},
     "output_type": "display_data"
    }
   ],
   "source": [
    "rep_corrs = {}\n",
    "rand_corrs = {}\n",
    "\n",
    "num_comparisons = len(DF_metadata_passed_step4)*(len(DF_metadata_passed_step4)-1)/2\n",
    "\n",
    "for exp1,exp2 in tqdm(itertools.combinations(DF_metadata_passed_step4.index,2),total=num_comparisons):\n",
    "    if DF_metadata_passed_step4.loc[exp1,'full_name'] == DF_metadata_passed_step4.loc[exp2,'full_name']:\n",
    "        rep_corrs[(exp1,exp2)] = stats.pearsonr(DF_log_tpm[exp1],DF_log_tpm[exp2])[0]\n",
    "    else:\n",
    "        rand_corrs[(exp1,exp2)] = stats.pearsonr(DF_log_tpm[exp1],DF_log_tpm[exp2])[0]"
   ]
  },
  {
   "cell_type": "markdown",
   "metadata": {},
   "source": [
    "Correlations can be plotted on a histogram"
   ]
  },
  {
   "cell_type": "code",
   "execution_count": 17,
   "metadata": {},
   "outputs": [
    {
     "name": "stdout",
     "output_type": "stream",
     "text": [
      "Median Pearson R between replicates: 1.00\n"
     ]
    },
    {
     "data": {
      "image/png": "[encoded data removed]",
      "text/plain": [
       "<Figure size 500x500 with 2 Axes>"
      ]
     },
     "metadata": {},
     "output_type": "display_data"
    }
   ],
   "source": [
    "fig,ax = plt.subplots(figsize=(5,5))\n",
    "ax2 = ax.twinx()\n",
    "ax2.hist(rep_corrs.values(),bins=50,range=(0.2,1),alpha=0.8,color='green',linewidth=0)\n",
    "ax.hist(rand_corrs.values(),bins=50,range=(0.2,1),alpha=0.8,color='blue',linewidth=0)\n",
    "ax.set_title('Pearson R correlation between experiments',fontsize=14)\n",
    "ax.set_xlabel('Pearson R correlation',fontsize=14)\n",
    "ax.set_ylabel('Different Conditions',fontsize=14)\n",
    "ax2.set_ylabel('Known Replicates',fontsize=14)\n",
    "\n",
    "med_corr = np.median([v for k,v in rep_corrs.items()])\n",
    "print('Median Pearson R between replicates: {:.2f}'.format(med_corr))"
   ]
  },
  {
   "cell_type": "markdown",
   "metadata": {},
   "source": [
    "Remove samples without any high-correlation replicates"
   ]
  },
  {
   "cell_type": "code",
   "execution_count": 18,
   "metadata": {},
   "outputs": [],
   "source": [
    "dissimilar = []\n",
    "for idx, grp in DF_metadata_passed_step4.groupby('full_name'):\n",
    "    ident = np.identity(len(grp))\n",
    "    corrs = (DF_log_tpm[grp.index].corr() - ident).max()\n",
    "    dissimilar.extend(corrs[corrs<rcutoff].index)\n",
    "\n",
    "# Save this information in both the original metadata dataframe and the new metadata dataframe\n",
    "DF_metadata_all['passed_replicate_correlations'] = ~DF_metadata_all.index.isin(dissimilar)\n",
    "DF_metadata_passed_step4['passed_replicate_correlations'] = ~DF_metadata_passed_step4.index.isin(dissimilar)"
   ]
  },
  {
   "cell_type": "code",
   "execution_count": 19,
   "metadata": {},
   "outputs": [
    {
     "data": {
      "text/plain": [
       "[]"
      ]
     },
     "execution_count": 19,
     "metadata": {},
     "output_type": "execute_result"
    }
   ],
   "source": [
    "dissimilar"
   ]
  },
  {
   "cell_type": "code",
   "execution_count": 20,
   "metadata": {},
   "outputs": [
    {
     "name": "stdout",
     "output_type": "stream",
     "text": [
      "# Samples that passed replicate correlations: 12\n"
     ]
    }
   ],
   "source": [
    "DF_metadata_final = DF_metadata_passed_step4[DF_metadata_passed_step4['passed_replicate_correlations']]\n",
    "print('# Samples that passed replicate correlations:',len(DF_metadata_final))"
   ]
  },
  {
   "cell_type": "markdown",
   "metadata": {},
   "source": [
    "## Check that reference conditions still exist\n",
    "If a reference condition was removed due to poor replicate correlations, a new reference condition needs to be defined.\n",
    "\n",
    "Again, any samples that fail these checks will be printed below."
   ]
  },
  {
   "cell_type": "code",
   "execution_count": 21,
   "metadata": {},
   "outputs": [],
   "source": [
    "project_exprs = []\n",
    "for name,group in DF_metadata_final.groupby('project'):\n",
    "    \n",
    "    # Get reference condition\n",
    "    ref_cond = group.reference_condition.iloc[0]\n",
    "    \n",
    "    # Ensure the reference condition is still in the project\n",
    "    if ref_cond not in group.condition.tolist():\n",
    "        print('Reference condition missing from:', name)\n",
    "    \n",
    "    # Check that each project has at least two conditions (a reference and at least one test condition)\n",
    "    if len(group.condition.unique()) <= 1:\n",
    "        print('Only one condition in:', name)"
   ]
  },
  {
   "cell_type": "markdown",
   "metadata": {},
   "source": [
    "If necessary, choose a new condition for failed projects and re-run notebook."
   ]
  },
  {
   "cell_type": "markdown",
   "metadata": {},
   "source": [
    "## Normalize dataset to reference conditions"
   ]
  },
  {
   "cell_type": "code",
   "execution_count": 22,
   "metadata": {},
   "outputs": [],
   "source": [
    "DF_log_tpm_final = DF_log_tpm[DF_metadata_final.index]"
   ]
  },
  {
   "cell_type": "code",
   "execution_count": 23,
   "metadata": {},
   "outputs": [],
   "source": [
    "project_exprs = []\n",
    "for name,group in DF_metadata_final.groupby('project'):\n",
    "    \n",
    "    # Get reference condition\n",
    "    ref_cond = group.reference_condition.iloc[0]\n",
    "    \n",
    "    # Get reference condition sample ids\n",
    "    ref_samples = group[group.condition == ref_cond].index\n",
    "    \n",
    "    # Get reference condition expression\n",
    "    ref_expr = DF_log_tpm_final[ref_samples].mean(axis=1)\n",
    "    \n",
    "    # Subtract reference expression from project\n",
    "    project_exprs.append(DF_log_tpm_final[group.index].sub(ref_expr,axis=0))\n",
    "\n",
    "DF_log_tpm_norm = pd.concat(project_exprs,axis=1)"
   ]
  },
  {
   "cell_type": "markdown",
   "metadata": {},
   "source": [
    "## Save final datasets"
   ]
  },
  {
   "cell_type": "code",
   "execution_count": 24,
   "metadata": {},
   "outputs": [],
   "source": [
    "logTPM_qc_file = path.join('..','..','data','RNAseq_data','log_tpm.csv')\n",
    "logTPM_norm_file = path.join('..','..','data','RNAseq_data','log_tpm_norm.csv')\n",
    "final_metadata_file = path.join('..','..','data','RNAseq_data','metadata.tsv')\n",
    "final_metadata_all_file = path.join('data','interim','metadata_qc_part2_all.tsv')\n",
    "\n",
    "DF_log_tpm_final.to_csv(logTPM_qc_file)\n",
    "DF_log_tpm_norm.to_csv(logTPM_norm_file)\n",
    "DF_metadata_final.to_csv(final_metadata_file, sep='\\t')\n",
    "DF_metadata_all.to_csv(final_metadata_all_file, sep='\\t')"
   ]
  },
  {
   "cell_type": "code",
   "execution_count": null,
   "metadata": {},
   "outputs": [],
   "source": []
  }
 ],
 "metadata": {
  "kernelspec": {
   "display_name": "Python 3 (ipykernel)",
   "language": "python",
   "name": "python3"
  },
  "language_info": {
   "codemirror_mode": {
    "name": "ipython",
    "version": 3
   },
   "file_extension": ".py",
   "mimetype": "text/x-python",
   "name": "python",
   "nbconvert_exporter": "python",
   "pygments_lexer": "ipython3",
   "version": "3.9.7"
  },
  "toc": {
   "base_numbering": 1,
   "nav_menu": {},
   "number_sections": true,
   "sideBar": true,
   "skip_h1_title": false,
   "title_cell": "Table of Contents",
   "title_sidebar": "Contents",
   "toc_cell": true,
   "toc_position": {},
   "toc_section_display": true,
   "toc_window_display": false
  }
 },
 "nbformat": 4,
 "nbformat_minor": 4
}
