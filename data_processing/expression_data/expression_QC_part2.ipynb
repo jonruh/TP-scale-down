{
 "cells": [
  {
   "cell_type": "markdown",
   "metadata": {},
   "source": [
    "# Expression Quality Control (Part 2)"
   ]
  },
  {
   "cell_type": "markdown",
   "metadata": {},
   "source": [
    "This is a template notebook for performing the final quality control on your organism's expression data. This requires a curated metadata sheet."
   ]
  },
  {
   "cell_type": "markdown",
   "metadata": {},
   "source": [
    "## Setup "
   ]
  },
  {
   "cell_type": "code",
   "execution_count": 83,
   "metadata": {},
   "outputs": [],
   "source": [
    "import itertools\n",
    "\n",
    "import matplotlib.pyplot as plt\n",
    "import numpy as np\n",
    "import pandas as pd\n",
    "import seaborn as sns\n",
    "\n",
    "from os import path\n",
    "from scipy import stats\n",
    "from tqdm.notebook import tqdm"
   ]
  },
  {
   "cell_type": "code",
   "execution_count": 84,
   "metadata": {},
   "outputs": [],
   "source": [
    "sns.set_style('ticks')"
   ]
  },
  {
   "cell_type": "markdown",
   "metadata": {},
   "source": [
    "### Inputs"
   ]
  },
  {
   "cell_type": "code",
   "execution_count": 85,
   "metadata": {},
   "outputs": [],
   "source": [
    "logTPM_file = path.join('data','raw_data','log_tpm.csv') # Enter log-TPM filename here\n",
    "all_metadata_file = path.join('data','interim','metadata_qc_part1.tsv') # Enter full metadata filename here\n",
    "metadata_file = path.join('data','interim','metadata_qc_part1_curated.tsv') # Enter curated metadata filename here"
   ]
  },
  {
   "cell_type": "markdown",
   "metadata": {},
   "source": [
    "### Load expression data"
   ]
  },
  {
   "cell_type": "code",
   "execution_count": 86,
   "metadata": {},
   "outputs": [
    {
     "name": "stdout",
     "output_type": "stream",
     "text": [
      "Number of genes: 4355\n",
      "Number of samples: 18\n"
     ]
    },
    {
     "data": {
      "text/html": [
       "<div>\n",
       "<style scoped>\n",
       "    .dataframe tbody tr th:only-of-type {\n",
       "        vertical-align: middle;\n",
       "    }\n",
       "\n",
       "    .dataframe tbody tr th {\n",
       "        vertical-align: top;\n",
       "    }\n",
       "\n",
       "    .dataframe thead th {\n",
       "        text-align: right;\n",
       "    }\n",
       "</style>\n",
       "<table border=\"1\" class=\"dataframe\">\n",
       "  <thead>\n",
       "    <tr style=\"text-align: right;\">\n",
       "      <th></th>\n",
       "      <th>PD_117_R11</th>\n",
       "      <th>PD_117_R12</th>\n",
       "      <th>PD_117_R13</th>\n",
       "      <th>PD_117_R14</th>\n",
       "      <th>PD_117_R15</th>\n",
       "      <th>PD_117_R16</th>\n",
       "      <th>PD_126_R5</th>\n",
       "      <th>PD_126_R6</th>\n",
       "      <th>PD_126_R7</th>\n",
       "      <th>PD_126_R8</th>\n",
       "      <th>PD_126_R9</th>\n",
       "      <th>PD_126_R10</th>\n",
       "      <th>PD_126_R11</th>\n",
       "      <th>PD_126_R12</th>\n",
       "      <th>PD_126_R13</th>\n",
       "      <th>PD_126_R14</th>\n",
       "      <th>PD_126_R15</th>\n",
       "      <th>PD_126_R16</th>\n",
       "    </tr>\n",
       "    <tr>\n",
       "      <th>Geneid</th>\n",
       "      <th></th>\n",
       "      <th></th>\n",
       "      <th></th>\n",
       "      <th></th>\n",
       "      <th></th>\n",
       "      <th></th>\n",
       "      <th></th>\n",
       "      <th></th>\n",
       "      <th></th>\n",
       "      <th></th>\n",
       "      <th></th>\n",
       "      <th></th>\n",
       "      <th></th>\n",
       "      <th></th>\n",
       "      <th></th>\n",
       "      <th></th>\n",
       "      <th></th>\n",
       "      <th></th>\n",
       "    </tr>\n",
       "  </thead>\n",
       "  <tbody>\n",
       "    <tr>\n",
       "      <th>b0001</th>\n",
       "      <td>10.268826</td>\n",
       "      <td>10.233329</td>\n",
       "      <td>9.989378</td>\n",
       "      <td>10.281131</td>\n",
       "      <td>9.962700</td>\n",
       "      <td>9.636620</td>\n",
       "      <td>9.836504</td>\n",
       "      <td>9.739149</td>\n",
       "      <td>9.352923</td>\n",
       "      <td>9.841563</td>\n",
       "      <td>9.224532</td>\n",
       "      <td>9.613361</td>\n",
       "      <td>9.284311</td>\n",
       "      <td>9.774089</td>\n",
       "      <td>9.605301</td>\n",
       "      <td>9.731442</td>\n",
       "      <td>10.175555</td>\n",
       "      <td>10.150917</td>\n",
       "    </tr>\n",
       "    <tr>\n",
       "      <th>b0002</th>\n",
       "      <td>9.522497</td>\n",
       "      <td>9.117753</td>\n",
       "      <td>9.139083</td>\n",
       "      <td>10.197153</td>\n",
       "      <td>9.574051</td>\n",
       "      <td>9.451363</td>\n",
       "      <td>8.840125</td>\n",
       "      <td>8.879554</td>\n",
       "      <td>8.876007</td>\n",
       "      <td>8.621536</td>\n",
       "      <td>7.686421</td>\n",
       "      <td>9.884108</td>\n",
       "      <td>8.968562</td>\n",
       "      <td>8.879801</td>\n",
       "      <td>8.979214</td>\n",
       "      <td>9.551626</td>\n",
       "      <td>10.052157</td>\n",
       "      <td>10.105885</td>\n",
       "    </tr>\n",
       "    <tr>\n",
       "      <th>b0003</th>\n",
       "      <td>9.083923</td>\n",
       "      <td>8.782278</td>\n",
       "      <td>8.742474</td>\n",
       "      <td>9.637226</td>\n",
       "      <td>9.655356</td>\n",
       "      <td>9.667506</td>\n",
       "      <td>8.462831</td>\n",
       "      <td>8.285814</td>\n",
       "      <td>8.433855</td>\n",
       "      <td>8.002762</td>\n",
       "      <td>7.382413</td>\n",
       "      <td>9.207278</td>\n",
       "      <td>8.474702</td>\n",
       "      <td>8.360725</td>\n",
       "      <td>8.391316</td>\n",
       "      <td>8.756942</td>\n",
       "      <td>9.230117</td>\n",
       "      <td>9.353691</td>\n",
       "    </tr>\n",
       "    <tr>\n",
       "      <th>b0004</th>\n",
       "      <td>8.404835</td>\n",
       "      <td>8.363498</td>\n",
       "      <td>8.215478</td>\n",
       "      <td>9.037703</td>\n",
       "      <td>9.027710</td>\n",
       "      <td>9.083592</td>\n",
       "      <td>8.035051</td>\n",
       "      <td>7.937154</td>\n",
       "      <td>8.115912</td>\n",
       "      <td>7.730761</td>\n",
       "      <td>7.205884</td>\n",
       "      <td>8.920399</td>\n",
       "      <td>8.211129</td>\n",
       "      <td>7.974355</td>\n",
       "      <td>8.084082</td>\n",
       "      <td>8.385437</td>\n",
       "      <td>8.844287</td>\n",
       "      <td>8.956960</td>\n",
       "    </tr>\n",
       "    <tr>\n",
       "      <th>b0005</th>\n",
       "      <td>5.696586</td>\n",
       "      <td>5.560236</td>\n",
       "      <td>5.819425</td>\n",
       "      <td>5.957660</td>\n",
       "      <td>6.105838</td>\n",
       "      <td>5.817777</td>\n",
       "      <td>6.018050</td>\n",
       "      <td>5.807079</td>\n",
       "      <td>5.409606</td>\n",
       "      <td>5.590692</td>\n",
       "      <td>4.934072</td>\n",
       "      <td>5.801173</td>\n",
       "      <td>6.031485</td>\n",
       "      <td>5.784699</td>\n",
       "      <td>6.087463</td>\n",
       "      <td>5.822245</td>\n",
       "      <td>6.174078</td>\n",
       "      <td>6.247102</td>\n",
       "    </tr>\n",
       "  </tbody>\n",
       "</table>\n",
       "</div>"
      ],
      "text/plain": [
       "        PD_117_R11  PD_117_R12  PD_117_R13  PD_117_R14  PD_117_R15  \\\n",
       "Geneid                                                               \n",
       "b0001    10.268826   10.233329    9.989378   10.281131    9.962700   \n",
       "b0002     9.522497    9.117753    9.139083   10.197153    9.574051   \n",
       "b0003     9.083923    8.782278    8.742474    9.637226    9.655356   \n",
       "b0004     8.404835    8.363498    8.215478    9.037703    9.027710   \n",
       "b0005     5.696586    5.560236    5.819425    5.957660    6.105838   \n",
       "\n",
       "        PD_117_R16  PD_126_R5  PD_126_R6  PD_126_R7  PD_126_R8  PD_126_R9  \\\n",
       "Geneid                                                                      \n",
       "b0001     9.636620   9.836504   9.739149   9.352923   9.841563   9.224532   \n",
       "b0002     9.451363   8.840125   8.879554   8.876007   8.621536   7.686421   \n",
       "b0003     9.667506   8.462831   8.285814   8.433855   8.002762   7.382413   \n",
       "b0004     9.083592   8.035051   7.937154   8.115912   7.730761   7.205884   \n",
       "b0005     5.817777   6.018050   5.807079   5.409606   5.590692   4.934072   \n",
       "\n",
       "        PD_126_R10  PD_126_R11  PD_126_R12  PD_126_R13  PD_126_R14  \\\n",
       "Geneid                                                               \n",
       "b0001     9.613361    9.284311    9.774089    9.605301    9.731442   \n",
       "b0002     9.884108    8.968562    8.879801    8.979214    9.551626   \n",
       "b0003     9.207278    8.474702    8.360725    8.391316    8.756942   \n",
       "b0004     8.920399    8.211129    7.974355    8.084082    8.385437   \n",
       "b0005     5.801173    6.031485    5.784699    6.087463    5.822245   \n",
       "\n",
       "        PD_126_R15  PD_126_R16  \n",
       "Geneid                          \n",
       "b0001    10.175555   10.150917  \n",
       "b0002    10.052157   10.105885  \n",
       "b0003     9.230117    9.353691  \n",
       "b0004     8.844287    8.956960  \n",
       "b0005     6.174078    6.247102  "
      ]
     },
     "execution_count": 86,
     "metadata": {},
     "output_type": "execute_result"
    }
   ],
   "source": [
    "DF_log_tpm = pd.read_csv(logTPM_file,index_col=0).fillna(0)\n",
    "print('Number of genes:',DF_log_tpm.shape[0])\n",
    "print('Number of samples:',DF_log_tpm.shape[1])\n",
    "DF_log_tpm.head()"
   ]
  },
  {
   "cell_type": "markdown",
   "metadata": {},
   "source": [
    "### Load metadata"
   ]
  },
  {
   "cell_type": "code",
   "execution_count": 87,
   "metadata": {},
   "outputs": [
    {
     "name": "stdout",
     "output_type": "stream",
     "text": [
      "Number of samples with curated metadata: 18\n"
     ]
    },
    {
     "data": {
      "text/html": [
       "<div>\n",
       "<style scoped>\n",
       "    .dataframe tbody tr th:only-of-type {\n",
       "        vertical-align: middle;\n",
       "    }\n",
       "\n",
       "    .dataframe tbody tr th {\n",
       "        vertical-align: top;\n",
       "    }\n",
       "\n",
       "    .dataframe thead th {\n",
       "        text-align: right;\n",
       "    }\n",
       "</style>\n",
       "<table border=\"1\" class=\"dataframe\">\n",
       "  <thead>\n",
       "    <tr style=\"text-align: right;\">\n",
       "      <th></th>\n",
       "      <th>LibraryLayout</th>\n",
       "      <th>Platform</th>\n",
       "      <th>Run</th>\n",
       "      <th>R1</th>\n",
       "      <th>R2</th>\n",
       "      <th>passed_fastqc</th>\n",
       "      <th>passed_reads_mapped_to_CDS</th>\n",
       "      <th>passed_global_correlation</th>\n",
       "      <th>project</th>\n",
       "      <th>condition</th>\n",
       "      <th>strain_ID</th>\n",
       "      <th>process_condition</th>\n",
       "      <th>experiment_run</th>\n",
       "      <th>strain_name</th>\n",
       "      <th>reference_condition</th>\n",
       "      <th>skip</th>\n",
       "    </tr>\n",
       "  </thead>\n",
       "  <tbody>\n",
       "    <tr>\n",
       "      <th>PD_117_R11</th>\n",
       "      <td>PAIRED</td>\n",
       "      <td>DNBSEQ</td>\n",
       "      <td>NaN</td>\n",
       "      <td>PD_117_R11_S05#_1.fq.gz</td>\n",
       "      <td>PD_117_R11_S05#_2.fq.gz</td>\n",
       "      <td>True</td>\n",
       "      <td>True</td>\n",
       "      <td>True</td>\n",
       "      <td>Trp_scale-down</td>\n",
       "      <td>HMP3071_control</td>\n",
       "      <td>HMP3071</td>\n",
       "      <td>control</td>\n",
       "      <td>DDB_117</td>\n",
       "      <td>TP</td>\n",
       "      <td>HMP3071_control</td>\n",
       "      <td>NaN</td>\n",
       "    </tr>\n",
       "    <tr>\n",
       "      <th>PD_117_R12</th>\n",
       "      <td>PAIRED</td>\n",
       "      <td>DNBSEQ</td>\n",
       "      <td>NaN</td>\n",
       "      <td>PD_117_R12_S05#_1.fq.gz</td>\n",
       "      <td>PD_117_R12_S05#_2.fq.gz</td>\n",
       "      <td>True</td>\n",
       "      <td>True</td>\n",
       "      <td>True</td>\n",
       "      <td>Trp_scale-down</td>\n",
       "      <td>HMP3071_control</td>\n",
       "      <td>HMP3071</td>\n",
       "      <td>control</td>\n",
       "      <td>DDB_117</td>\n",
       "      <td>TP</td>\n",
       "      <td>HMP3071_control</td>\n",
       "      <td>NaN</td>\n",
       "    </tr>\n",
       "    <tr>\n",
       "      <th>PD_117_R13</th>\n",
       "      <td>PAIRED</td>\n",
       "      <td>DNBSEQ</td>\n",
       "      <td>NaN</td>\n",
       "      <td>PD_117_R13_S05#_1.fq.gz</td>\n",
       "      <td>PD_117_R13_S05#_2.fq.gz</td>\n",
       "      <td>True</td>\n",
       "      <td>True</td>\n",
       "      <td>True</td>\n",
       "      <td>Trp_scale-down</td>\n",
       "      <td>HMP3071_control</td>\n",
       "      <td>HMP3071</td>\n",
       "      <td>control</td>\n",
       "      <td>DDB_117</td>\n",
       "      <td>TP</td>\n",
       "      <td>HMP3071_control</td>\n",
       "      <td>NaN</td>\n",
       "    </tr>\n",
       "    <tr>\n",
       "      <th>PD_117_R14</th>\n",
       "      <td>PAIRED</td>\n",
       "      <td>DNBSEQ</td>\n",
       "      <td>NaN</td>\n",
       "      <td>PD_117_R14_S05#_1.fq.gz</td>\n",
       "      <td>PD_117_R14_S05#_2.fq.gz</td>\n",
       "      <td>True</td>\n",
       "      <td>True</td>\n",
       "      <td>True</td>\n",
       "      <td>Trp_scale-down</td>\n",
       "      <td>HMP3071_scale-down</td>\n",
       "      <td>HMP3071</td>\n",
       "      <td>scale-down</td>\n",
       "      <td>DDB_117</td>\n",
       "      <td>TP</td>\n",
       "      <td>HMP3071_control</td>\n",
       "      <td>NaN</td>\n",
       "    </tr>\n",
       "    <tr>\n",
       "      <th>PD_117_R15</th>\n",
       "      <td>PAIRED</td>\n",
       "      <td>DNBSEQ</td>\n",
       "      <td>NaN</td>\n",
       "      <td>PD_117_R15_S05#_1.fq.gz</td>\n",
       "      <td>PD_117_R15_S05#_2.fq.gz</td>\n",
       "      <td>True</td>\n",
       "      <td>True</td>\n",
       "      <td>True</td>\n",
       "      <td>Trp_scale-down</td>\n",
       "      <td>HMP3071_scale-down</td>\n",
       "      <td>HMP3071</td>\n",
       "      <td>scale-down</td>\n",
       "      <td>DDB_117</td>\n",
       "      <td>TP</td>\n",
       "      <td>HMP3071_control</td>\n",
       "      <td>NaN</td>\n",
       "    </tr>\n",
       "  </tbody>\n",
       "</table>\n",
       "</div>"
      ],
      "text/plain": [
       "           LibraryLayout Platform  Run                       R1  \\\n",
       "PD_117_R11        PAIRED   DNBSEQ  NaN  PD_117_R11_S05#_1.fq.gz   \n",
       "PD_117_R12        PAIRED   DNBSEQ  NaN  PD_117_R12_S05#_1.fq.gz   \n",
       "PD_117_R13        PAIRED   DNBSEQ  NaN  PD_117_R13_S05#_1.fq.gz   \n",
       "PD_117_R14        PAIRED   DNBSEQ  NaN  PD_117_R14_S05#_1.fq.gz   \n",
       "PD_117_R15        PAIRED   DNBSEQ  NaN  PD_117_R15_S05#_1.fq.gz   \n",
       "\n",
       "                                 R2  passed_fastqc  \\\n",
       "PD_117_R11  PD_117_R11_S05#_2.fq.gz           True   \n",
       "PD_117_R12  PD_117_R12_S05#_2.fq.gz           True   \n",
       "PD_117_R13  PD_117_R13_S05#_2.fq.gz           True   \n",
       "PD_117_R14  PD_117_R14_S05#_2.fq.gz           True   \n",
       "PD_117_R15  PD_117_R15_S05#_2.fq.gz           True   \n",
       "\n",
       "            passed_reads_mapped_to_CDS  passed_global_correlation  \\\n",
       "PD_117_R11                        True                       True   \n",
       "PD_117_R12                        True                       True   \n",
       "PD_117_R13                        True                       True   \n",
       "PD_117_R14                        True                       True   \n",
       "PD_117_R15                        True                       True   \n",
       "\n",
       "                   project           condition strain_ID process_condition  \\\n",
       "PD_117_R11  Trp_scale-down     HMP3071_control   HMP3071           control   \n",
       "PD_117_R12  Trp_scale-down     HMP3071_control   HMP3071           control   \n",
       "PD_117_R13  Trp_scale-down     HMP3071_control   HMP3071           control   \n",
       "PD_117_R14  Trp_scale-down  HMP3071_scale-down   HMP3071        scale-down   \n",
       "PD_117_R15  Trp_scale-down  HMP3071_scale-down   HMP3071        scale-down   \n",
       "\n",
       "           experiment_run strain_name reference_condition  skip  \n",
       "PD_117_R11        DDB_117          TP     HMP3071_control   NaN  \n",
       "PD_117_R12        DDB_117          TP     HMP3071_control   NaN  \n",
       "PD_117_R13        DDB_117          TP     HMP3071_control   NaN  \n",
       "PD_117_R14        DDB_117          TP     HMP3071_control   NaN  \n",
       "PD_117_R15        DDB_117          TP     HMP3071_control   NaN  "
      ]
     },
     "execution_count": 87,
     "metadata": {},
     "output_type": "execute_result"
    }
   ],
   "source": [
    "DF_metadata = pd.read_csv(metadata_file,index_col=0,sep='\\t')\n",
    "print('Number of samples with curated metadata:',DF_metadata.shape[0])\n",
    "DF_metadata.head()"
   ]
  },
  {
   "cell_type": "code",
   "execution_count": 88,
   "metadata": {},
   "outputs": [],
   "source": [
    "DF_metadata_all = pd.read_csv(all_metadata_file,index_col=0,sep='\\t')"
   ]
  },
  {
   "cell_type": "markdown",
   "metadata": {},
   "source": [
    "## Remove samples due to poor metadata"
   ]
  },
  {
   "cell_type": "markdown",
   "metadata": {},
   "source": [
    "After curation, some samples either did not have enough replicates or metadata to warrant inclusion in this database."
   ]
  },
  {
   "cell_type": "code",
   "execution_count": 89,
   "metadata": {},
   "outputs": [
    {
     "name": "stdout",
     "output_type": "stream",
     "text": [
      "New number of samples with curated metadata: 18\n"
     ]
    },
    {
     "data": {
      "text/html": [
       "<div>\n",
       "<style scoped>\n",
       "    .dataframe tbody tr th:only-of-type {\n",
       "        vertical-align: middle;\n",
       "    }\n",
       "\n",
       "    .dataframe tbody tr th {\n",
       "        vertical-align: top;\n",
       "    }\n",
       "\n",
       "    .dataframe thead th {\n",
       "        text-align: right;\n",
       "    }\n",
       "</style>\n",
       "<table border=\"1\" class=\"dataframe\">\n",
       "  <thead>\n",
       "    <tr style=\"text-align: right;\">\n",
       "      <th></th>\n",
       "      <th>LibraryLayout</th>\n",
       "      <th>Platform</th>\n",
       "      <th>Run</th>\n",
       "      <th>R1</th>\n",
       "      <th>R2</th>\n",
       "      <th>passed_fastqc</th>\n",
       "      <th>passed_reads_mapped_to_CDS</th>\n",
       "      <th>passed_global_correlation</th>\n",
       "      <th>project</th>\n",
       "      <th>condition</th>\n",
       "      <th>strain_ID</th>\n",
       "      <th>process_condition</th>\n",
       "      <th>experiment_run</th>\n",
       "      <th>strain_name</th>\n",
       "      <th>reference_condition</th>\n",
       "      <th>skip</th>\n",
       "    </tr>\n",
       "  </thead>\n",
       "  <tbody>\n",
       "    <tr>\n",
       "      <th>PD_117_R11</th>\n",
       "      <td>PAIRED</td>\n",
       "      <td>DNBSEQ</td>\n",
       "      <td>NaN</td>\n",
       "      <td>PD_117_R11_S05#_1.fq.gz</td>\n",
       "      <td>PD_117_R11_S05#_2.fq.gz</td>\n",
       "      <td>True</td>\n",
       "      <td>True</td>\n",
       "      <td>True</td>\n",
       "      <td>Trp_scale-down</td>\n",
       "      <td>HMP3071_control</td>\n",
       "      <td>HMP3071</td>\n",
       "      <td>control</td>\n",
       "      <td>DDB_117</td>\n",
       "      <td>TP</td>\n",
       "      <td>HMP3071_control</td>\n",
       "      <td>NaN</td>\n",
       "    </tr>\n",
       "    <tr>\n",
       "      <th>PD_117_R12</th>\n",
       "      <td>PAIRED</td>\n",
       "      <td>DNBSEQ</td>\n",
       "      <td>NaN</td>\n",
       "      <td>PD_117_R12_S05#_1.fq.gz</td>\n",
       "      <td>PD_117_R12_S05#_2.fq.gz</td>\n",
       "      <td>True</td>\n",
       "      <td>True</td>\n",
       "      <td>True</td>\n",
       "      <td>Trp_scale-down</td>\n",
       "      <td>HMP3071_control</td>\n",
       "      <td>HMP3071</td>\n",
       "      <td>control</td>\n",
       "      <td>DDB_117</td>\n",
       "      <td>TP</td>\n",
       "      <td>HMP3071_control</td>\n",
       "      <td>NaN</td>\n",
       "    </tr>\n",
       "    <tr>\n",
       "      <th>PD_117_R13</th>\n",
       "      <td>PAIRED</td>\n",
       "      <td>DNBSEQ</td>\n",
       "      <td>NaN</td>\n",
       "      <td>PD_117_R13_S05#_1.fq.gz</td>\n",
       "      <td>PD_117_R13_S05#_2.fq.gz</td>\n",
       "      <td>True</td>\n",
       "      <td>True</td>\n",
       "      <td>True</td>\n",
       "      <td>Trp_scale-down</td>\n",
       "      <td>HMP3071_control</td>\n",
       "      <td>HMP3071</td>\n",
       "      <td>control</td>\n",
       "      <td>DDB_117</td>\n",
       "      <td>TP</td>\n",
       "      <td>HMP3071_control</td>\n",
       "      <td>NaN</td>\n",
       "    </tr>\n",
       "    <tr>\n",
       "      <th>PD_117_R14</th>\n",
       "      <td>PAIRED</td>\n",
       "      <td>DNBSEQ</td>\n",
       "      <td>NaN</td>\n",
       "      <td>PD_117_R14_S05#_1.fq.gz</td>\n",
       "      <td>PD_117_R14_S05#_2.fq.gz</td>\n",
       "      <td>True</td>\n",
       "      <td>True</td>\n",
       "      <td>True</td>\n",
       "      <td>Trp_scale-down</td>\n",
       "      <td>HMP3071_scale-down</td>\n",
       "      <td>HMP3071</td>\n",
       "      <td>scale-down</td>\n",
       "      <td>DDB_117</td>\n",
       "      <td>TP</td>\n",
       "      <td>HMP3071_control</td>\n",
       "      <td>NaN</td>\n",
       "    </tr>\n",
       "    <tr>\n",
       "      <th>PD_117_R15</th>\n",
       "      <td>PAIRED</td>\n",
       "      <td>DNBSEQ</td>\n",
       "      <td>NaN</td>\n",
       "      <td>PD_117_R15_S05#_1.fq.gz</td>\n",
       "      <td>PD_117_R15_S05#_2.fq.gz</td>\n",
       "      <td>True</td>\n",
       "      <td>True</td>\n",
       "      <td>True</td>\n",
       "      <td>Trp_scale-down</td>\n",
       "      <td>HMP3071_scale-down</td>\n",
       "      <td>HMP3071</td>\n",
       "      <td>scale-down</td>\n",
       "      <td>DDB_117</td>\n",
       "      <td>TP</td>\n",
       "      <td>HMP3071_control</td>\n",
       "      <td>NaN</td>\n",
       "    </tr>\n",
       "  </tbody>\n",
       "</table>\n",
       "</div>"
      ],
      "text/plain": [
       "           LibraryLayout Platform  Run                       R1  \\\n",
       "PD_117_R11        PAIRED   DNBSEQ  NaN  PD_117_R11_S05#_1.fq.gz   \n",
       "PD_117_R12        PAIRED   DNBSEQ  NaN  PD_117_R12_S05#_1.fq.gz   \n",
       "PD_117_R13        PAIRED   DNBSEQ  NaN  PD_117_R13_S05#_1.fq.gz   \n",
       "PD_117_R14        PAIRED   DNBSEQ  NaN  PD_117_R14_S05#_1.fq.gz   \n",
       "PD_117_R15        PAIRED   DNBSEQ  NaN  PD_117_R15_S05#_1.fq.gz   \n",
       "\n",
       "                                 R2  passed_fastqc  \\\n",
       "PD_117_R11  PD_117_R11_S05#_2.fq.gz           True   \n",
       "PD_117_R12  PD_117_R12_S05#_2.fq.gz           True   \n",
       "PD_117_R13  PD_117_R13_S05#_2.fq.gz           True   \n",
       "PD_117_R14  PD_117_R14_S05#_2.fq.gz           True   \n",
       "PD_117_R15  PD_117_R15_S05#_2.fq.gz           True   \n",
       "\n",
       "            passed_reads_mapped_to_CDS  passed_global_correlation  \\\n",
       "PD_117_R11                        True                       True   \n",
       "PD_117_R12                        True                       True   \n",
       "PD_117_R13                        True                       True   \n",
       "PD_117_R14                        True                       True   \n",
       "PD_117_R15                        True                       True   \n",
       "\n",
       "                   project           condition strain_ID process_condition  \\\n",
       "PD_117_R11  Trp_scale-down     HMP3071_control   HMP3071           control   \n",
       "PD_117_R12  Trp_scale-down     HMP3071_control   HMP3071           control   \n",
       "PD_117_R13  Trp_scale-down     HMP3071_control   HMP3071           control   \n",
       "PD_117_R14  Trp_scale-down  HMP3071_scale-down   HMP3071        scale-down   \n",
       "PD_117_R15  Trp_scale-down  HMP3071_scale-down   HMP3071        scale-down   \n",
       "\n",
       "           experiment_run strain_name reference_condition  skip  \n",
       "PD_117_R11        DDB_117          TP     HMP3071_control   NaN  \n",
       "PD_117_R12        DDB_117          TP     HMP3071_control   NaN  \n",
       "PD_117_R13        DDB_117          TP     HMP3071_control   NaN  \n",
       "PD_117_R14        DDB_117          TP     HMP3071_control   NaN  \n",
       "PD_117_R15        DDB_117          TP     HMP3071_control   NaN  "
      ]
     },
     "execution_count": 89,
     "metadata": {},
     "output_type": "execute_result"
    }
   ],
   "source": [
    "DF_metadata_passed_step4 = DF_metadata[~DF_metadata.skip.fillna(False)].copy()\n",
    "print('New number of samples with curated metadata:',DF_metadata_passed_step4.shape[0])\n",
    "DF_metadata_passed_step4.head()"
   ]
  },
  {
   "cell_type": "markdown",
   "metadata": {},
   "source": [
    "### Check curation\n",
    "Since manual curation is error-prone, we want to make sure that all samples have labels for their project and condition. In addition, there should only be one reference condition in each project, and it should be in the project itself.\n",
    "\n",
    "Any samples that fail these checks will be printed below."
   ]
  },
  {
   "cell_type": "code",
   "execution_count": 90,
   "metadata": {},
   "outputs": [],
   "source": [
    "assert(DF_metadata_passed_step4.project.notnull().all())\n",
    "assert(DF_metadata_passed_step4.condition.notnull().all())\n",
    "\n",
    "for name,group in DF_metadata_passed_step4.groupby('project'):\n",
    "    ref_cond = group.reference_condition.unique()\n",
    "    \n",
    "    # Ensure that there is only one reference condition per project\n",
    "    if not len(ref_cond) == 1:\n",
    "        print('Multiple reference conditions for:, name')\n",
    "    \n",
    "    # Ensure the reference condition is in fact in the project\n",
    "    ref_cond = ref_cond[0]\n",
    "    if not ref_cond in group.condition.tolist():\n",
    "        print('Reference condition not in project:', name)"
   ]
  },
  {
   "cell_type": "markdown",
   "metadata": {},
   "source": [
    "Next, make a new column called ``full_name`` that gives every experimental condition a unique, human-readable identifier."
   ]
  },
  {
   "cell_type": "code",
   "execution_count": 91,
   "metadata": {},
   "outputs": [],
   "source": [
    "DF_metadata_passed_step4['full_name'] = DF_metadata_passed_step4['project'].str.cat(DF_metadata_passed_step4['condition'],sep=':')"
   ]
  },
  {
   "cell_type": "markdown",
   "metadata": {},
   "source": [
    "### Remove samples with only one replicate"
   ]
  },
  {
   "cell_type": "markdown",
   "metadata": {},
   "source": [
    "First, find sample names that have at least two replicates."
   ]
  },
  {
   "cell_type": "code",
   "execution_count": 92,
   "metadata": {},
   "outputs": [
    {
     "name": "stdout",
     "output_type": "stream",
     "text": [
      "Index(['Trp_scale-down:HMP3071_control', 'Trp_scale-down:HMP3071_scale-down',\n",
      "       'Trp_scale-down:SDT714_control', 'Trp_scale-down:SDT714_scale-down'],\n",
      "      dtype='object')\n"
     ]
    }
   ],
   "source": [
    "counts = DF_metadata_passed_step4.full_name.value_counts()\n",
    "keep_samples = counts[counts >= 2].index\n",
    "print(keep_samples[:5])"
   ]
  },
  {
   "cell_type": "code",
   "execution_count": 93,
   "metadata": {},
   "outputs": [
    {
     "data": {
      "text/plain": [
       "Index(['Trp_scale-down:HMP3071_control', 'Trp_scale-down:HMP3071_scale-down',\n",
       "       'Trp_scale-down:SDT714_control', 'Trp_scale-down:SDT714_scale-down'],\n",
       "      dtype='object')"
      ]
     },
     "execution_count": 93,
     "metadata": {},
     "output_type": "execute_result"
    }
   ],
   "source": [
    "keep_samples"
   ]
  },
  {
   "cell_type": "markdown",
   "metadata": {},
   "source": [
    "Only keep these samples"
   ]
  },
  {
   "cell_type": "code",
   "execution_count": 94,
   "metadata": {},
   "outputs": [
    {
     "name": "stdout",
     "output_type": "stream",
     "text": [
      "New number of samples with curated metadata: 18\n"
     ]
    },
    {
     "data": {
      "text/html": [
       "<div>\n",
       "<style scoped>\n",
       "    .dataframe tbody tr th:only-of-type {\n",
       "        vertical-align: middle;\n",
       "    }\n",
       "\n",
       "    .dataframe tbody tr th {\n",
       "        vertical-align: top;\n",
       "    }\n",
       "\n",
       "    .dataframe thead th {\n",
       "        text-align: right;\n",
       "    }\n",
       "</style>\n",
       "<table border=\"1\" class=\"dataframe\">\n",
       "  <thead>\n",
       "    <tr style=\"text-align: right;\">\n",
       "      <th></th>\n",
       "      <th>LibraryLayout</th>\n",
       "      <th>Platform</th>\n",
       "      <th>Run</th>\n",
       "      <th>R1</th>\n",
       "      <th>R2</th>\n",
       "      <th>passed_fastqc</th>\n",
       "      <th>passed_reads_mapped_to_CDS</th>\n",
       "      <th>passed_global_correlation</th>\n",
       "      <th>project</th>\n",
       "      <th>condition</th>\n",
       "      <th>strain_ID</th>\n",
       "      <th>process_condition</th>\n",
       "      <th>experiment_run</th>\n",
       "      <th>strain_name</th>\n",
       "      <th>reference_condition</th>\n",
       "      <th>skip</th>\n",
       "      <th>full_name</th>\n",
       "    </tr>\n",
       "  </thead>\n",
       "  <tbody>\n",
       "    <tr>\n",
       "      <th>PD_117_R11</th>\n",
       "      <td>PAIRED</td>\n",
       "      <td>DNBSEQ</td>\n",
       "      <td>NaN</td>\n",
       "      <td>PD_117_R11_S05#_1.fq.gz</td>\n",
       "      <td>PD_117_R11_S05#_2.fq.gz</td>\n",
       "      <td>True</td>\n",
       "      <td>True</td>\n",
       "      <td>True</td>\n",
       "      <td>Trp_scale-down</td>\n",
       "      <td>HMP3071_control</td>\n",
       "      <td>HMP3071</td>\n",
       "      <td>control</td>\n",
       "      <td>DDB_117</td>\n",
       "      <td>TP</td>\n",
       "      <td>HMP3071_control</td>\n",
       "      <td>NaN</td>\n",
       "      <td>Trp_scale-down:HMP3071_control</td>\n",
       "    </tr>\n",
       "    <tr>\n",
       "      <th>PD_117_R12</th>\n",
       "      <td>PAIRED</td>\n",
       "      <td>DNBSEQ</td>\n",
       "      <td>NaN</td>\n",
       "      <td>PD_117_R12_S05#_1.fq.gz</td>\n",
       "      <td>PD_117_R12_S05#_2.fq.gz</td>\n",
       "      <td>True</td>\n",
       "      <td>True</td>\n",
       "      <td>True</td>\n",
       "      <td>Trp_scale-down</td>\n",
       "      <td>HMP3071_control</td>\n",
       "      <td>HMP3071</td>\n",
       "      <td>control</td>\n",
       "      <td>DDB_117</td>\n",
       "      <td>TP</td>\n",
       "      <td>HMP3071_control</td>\n",
       "      <td>NaN</td>\n",
       "      <td>Trp_scale-down:HMP3071_control</td>\n",
       "    </tr>\n",
       "    <tr>\n",
       "      <th>PD_117_R13</th>\n",
       "      <td>PAIRED</td>\n",
       "      <td>DNBSEQ</td>\n",
       "      <td>NaN</td>\n",
       "      <td>PD_117_R13_S05#_1.fq.gz</td>\n",
       "      <td>PD_117_R13_S05#_2.fq.gz</td>\n",
       "      <td>True</td>\n",
       "      <td>True</td>\n",
       "      <td>True</td>\n",
       "      <td>Trp_scale-down</td>\n",
       "      <td>HMP3071_control</td>\n",
       "      <td>HMP3071</td>\n",
       "      <td>control</td>\n",
       "      <td>DDB_117</td>\n",
       "      <td>TP</td>\n",
       "      <td>HMP3071_control</td>\n",
       "      <td>NaN</td>\n",
       "      <td>Trp_scale-down:HMP3071_control</td>\n",
       "    </tr>\n",
       "    <tr>\n",
       "      <th>PD_117_R14</th>\n",
       "      <td>PAIRED</td>\n",
       "      <td>DNBSEQ</td>\n",
       "      <td>NaN</td>\n",
       "      <td>PD_117_R14_S05#_1.fq.gz</td>\n",
       "      <td>PD_117_R14_S05#_2.fq.gz</td>\n",
       "      <td>True</td>\n",
       "      <td>True</td>\n",
       "      <td>True</td>\n",
       "      <td>Trp_scale-down</td>\n",
       "      <td>HMP3071_scale-down</td>\n",
       "      <td>HMP3071</td>\n",
       "      <td>scale-down</td>\n",
       "      <td>DDB_117</td>\n",
       "      <td>TP</td>\n",
       "      <td>HMP3071_control</td>\n",
       "      <td>NaN</td>\n",
       "      <td>Trp_scale-down:HMP3071_scale-down</td>\n",
       "    </tr>\n",
       "    <tr>\n",
       "      <th>PD_117_R15</th>\n",
       "      <td>PAIRED</td>\n",
       "      <td>DNBSEQ</td>\n",
       "      <td>NaN</td>\n",
       "      <td>PD_117_R15_S05#_1.fq.gz</td>\n",
       "      <td>PD_117_R15_S05#_2.fq.gz</td>\n",
       "      <td>True</td>\n",
       "      <td>True</td>\n",
       "      <td>True</td>\n",
       "      <td>Trp_scale-down</td>\n",
       "      <td>HMP3071_scale-down</td>\n",
       "      <td>HMP3071</td>\n",
       "      <td>scale-down</td>\n",
       "      <td>DDB_117</td>\n",
       "      <td>TP</td>\n",
       "      <td>HMP3071_control</td>\n",
       "      <td>NaN</td>\n",
       "      <td>Trp_scale-down:HMP3071_scale-down</td>\n",
       "    </tr>\n",
       "  </tbody>\n",
       "</table>\n",
       "</div>"
      ],
      "text/plain": [
       "           LibraryLayout Platform  Run                       R1  \\\n",
       "PD_117_R11        PAIRED   DNBSEQ  NaN  PD_117_R11_S05#_1.fq.gz   \n",
       "PD_117_R12        PAIRED   DNBSEQ  NaN  PD_117_R12_S05#_1.fq.gz   \n",
       "PD_117_R13        PAIRED   DNBSEQ  NaN  PD_117_R13_S05#_1.fq.gz   \n",
       "PD_117_R14        PAIRED   DNBSEQ  NaN  PD_117_R14_S05#_1.fq.gz   \n",
       "PD_117_R15        PAIRED   DNBSEQ  NaN  PD_117_R15_S05#_1.fq.gz   \n",
       "\n",
       "                                 R2  passed_fastqc  \\\n",
       "PD_117_R11  PD_117_R11_S05#_2.fq.gz           True   \n",
       "PD_117_R12  PD_117_R12_S05#_2.fq.gz           True   \n",
       "PD_117_R13  PD_117_R13_S05#_2.fq.gz           True   \n",
       "PD_117_R14  PD_117_R14_S05#_2.fq.gz           True   \n",
       "PD_117_R15  PD_117_R15_S05#_2.fq.gz           True   \n",
       "\n",
       "            passed_reads_mapped_to_CDS  passed_global_correlation  \\\n",
       "PD_117_R11                        True                       True   \n",
       "PD_117_R12                        True                       True   \n",
       "PD_117_R13                        True                       True   \n",
       "PD_117_R14                        True                       True   \n",
       "PD_117_R15                        True                       True   \n",
       "\n",
       "                   project           condition strain_ID process_condition  \\\n",
       "PD_117_R11  Trp_scale-down     HMP3071_control   HMP3071           control   \n",
       "PD_117_R12  Trp_scale-down     HMP3071_control   HMP3071           control   \n",
       "PD_117_R13  Trp_scale-down     HMP3071_control   HMP3071           control   \n",
       "PD_117_R14  Trp_scale-down  HMP3071_scale-down   HMP3071        scale-down   \n",
       "PD_117_R15  Trp_scale-down  HMP3071_scale-down   HMP3071        scale-down   \n",
       "\n",
       "           experiment_run strain_name reference_condition  skip  \\\n",
       "PD_117_R11        DDB_117          TP     HMP3071_control   NaN   \n",
       "PD_117_R12        DDB_117          TP     HMP3071_control   NaN   \n",
       "PD_117_R13        DDB_117          TP     HMP3071_control   NaN   \n",
       "PD_117_R14        DDB_117          TP     HMP3071_control   NaN   \n",
       "PD_117_R15        DDB_117          TP     HMP3071_control   NaN   \n",
       "\n",
       "                                    full_name  \n",
       "PD_117_R11     Trp_scale-down:HMP3071_control  \n",
       "PD_117_R12     Trp_scale-down:HMP3071_control  \n",
       "PD_117_R13     Trp_scale-down:HMP3071_control  \n",
       "PD_117_R14  Trp_scale-down:HMP3071_scale-down  \n",
       "PD_117_R15  Trp_scale-down:HMP3071_scale-down  "
      ]
     },
     "execution_count": 94,
     "metadata": {},
     "output_type": "execute_result"
    }
   ],
   "source": [
    "DF_metadata_passed_step4 = DF_metadata_passed_step4[DF_metadata_passed_step4.full_name.isin(keep_samples)]\n",
    "print('New number of samples with curated metadata:',DF_metadata_passed_step4.shape[0])\n",
    "DF_metadata_passed_step4.head()"
   ]
  },
  {
   "cell_type": "markdown",
   "metadata": {},
   "source": [
    "### Save this information to the full metadata dataframe"
   ]
  },
  {
   "cell_type": "code",
   "execution_count": 95,
   "metadata": {},
   "outputs": [],
   "source": [
    "DF_metadata_all['passed_curation'] = DF_metadata_all.index.isin(DF_metadata_passed_step4.index)"
   ]
  },
  {
   "cell_type": "markdown",
   "metadata": {},
   "source": [
    "## Check correlations between replicates"
   ]
  },
  {
   "cell_type": "markdown",
   "metadata": {},
   "source": [
    "### Remove failed data from log_tpm files"
   ]
  },
  {
   "cell_type": "code",
   "execution_count": 96,
   "metadata": {},
   "outputs": [],
   "source": [
    "DF_log_tpm = DF_log_tpm[DF_metadata_passed_step4.index]"
   ]
  },
  {
   "cell_type": "markdown",
   "metadata": {},
   "source": [
    "### Compute Pearson R Score"
   ]
  },
  {
   "cell_type": "markdown",
   "metadata": {},
   "source": [
    "Biological replicates should have a Pearson R correlation above 0.95. For samples with more than 2 replicates, the replicates must have R >= 0.95 with at least one other replicate or it will be dropped. The correlation threshold can be changed below:"
   ]
  },
  {
   "cell_type": "code",
   "execution_count": 97,
   "metadata": {},
   "outputs": [],
   "source": [
    "rcutoff = 0.95"
   ]
  },
  {
   "cell_type": "markdown",
   "metadata": {},
   "source": [
    "The following code computes correlations between all samples and collects correlations between replicates and non-replicates."
   ]
  },
  {
   "cell_type": "code",
   "execution_count": 98,
   "metadata": {},
   "outputs": [
    {
     "data": {
      "application/vnd.jupyter.widget-view+json": {
       "model_id": "0ae7c77f4fd34f96a235be9be780b78d",
       "version_major": 2,
       "version_minor": 0
      },
      "text/plain": [
       "  0%|          | 0/153.0 [00:00<?, ?it/s]"
      ]
     },
     "metadata": {},
     "output_type": "display_data"
    }
   ],
   "source": [
    "rep_corrs = {}\n",
    "rand_corrs = {}\n",
    "\n",
    "num_comparisons = len(DF_metadata_passed_step4)*(len(DF_metadata_passed_step4)-1)/2\n",
    "\n",
    "for exp1,exp2 in tqdm(itertools.combinations(DF_metadata_passed_step4.index,2),total=num_comparisons):\n",
    "    if DF_metadata_passed_step4.loc[exp1,'full_name'] == DF_metadata_passed_step4.loc[exp2,'full_name']:\n",
    "        rep_corrs[(exp1,exp2)] = stats.pearsonr(DF_log_tpm[exp1],DF_log_tpm[exp2])[0]\n",
    "    else:\n",
    "        rand_corrs[(exp1,exp2)] = stats.pearsonr(DF_log_tpm[exp1],DF_log_tpm[exp2])[0]"
   ]
  },
  {
   "cell_type": "markdown",
   "metadata": {},
   "source": [
    "Correlations can be plotted on a histogram"
   ]
  },
  {
   "cell_type": "code",
   "execution_count": 99,
   "metadata": {},
   "outputs": [
    {
     "name": "stdout",
     "output_type": "stream",
     "text": [
      "Median Pearson R between replicates: 0.99\n"
     ]
    },
    {
     "data": {
      "image/png": "[encoded data removed]",
      "text/plain": [
       "<Figure size 500x500 with 2 Axes>"
      ]
     },
     "metadata": {},
     "output_type": "display_data"
    }
   ],
   "source": [
    "fig,ax = plt.subplots(figsize=(5,5))\n",
    "ax2 = ax.twinx()\n",
    "ax2.hist(rep_corrs.values(),bins=50,range=(0.2,1),alpha=0.8,color='green',linewidth=0)\n",
    "ax.hist(rand_corrs.values(),bins=50,range=(0.2,1),alpha=0.8,color='blue',linewidth=0)\n",
    "ax.set_title('Pearson R correlation between experiments',fontsize=14)\n",
    "ax.set_xlabel('Pearson R correlation',fontsize=14)\n",
    "ax.set_ylabel('Different Conditions',fontsize=14)\n",
    "ax2.set_ylabel('Known Replicates',fontsize=14)\n",
    "\n",
    "med_corr = np.median([v for k,v in rep_corrs.items()])\n",
    "print('Median Pearson R between replicates: {:.2f}'.format(med_corr))"
   ]
  },
  {
   "cell_type": "markdown",
   "metadata": {},
   "source": [
    "Remove samples without any high-correlation replicates"
   ]
  },
  {
   "cell_type": "code",
   "execution_count": 100,
   "metadata": {},
   "outputs": [],
   "source": [
    "dissimilar = []\n",
    "for idx, grp in DF_metadata_passed_step4.groupby('full_name'):\n",
    "    ident = np.identity(len(grp))\n",
    "    corrs = (DF_log_tpm[grp.index].corr() - ident).max()\n",
    "    dissimilar.extend(corrs[corrs<rcutoff].index)\n",
    "\n",
    "# Save this information in both the original metadata dataframe and the new metadata dataframe\n",
    "DF_metadata_all['passed_replicate_correlations'] = ~DF_metadata_all.index.isin(dissimilar)\n",
    "DF_metadata_passed_step4['passed_replicate_correlations'] = ~DF_metadata_passed_step4.index.isin(dissimilar)"
   ]
  },
  {
   "cell_type": "code",
   "execution_count": 101,
   "metadata": {},
   "outputs": [
    {
     "data": {
      "text/plain": [
       "[]"
      ]
     },
     "execution_count": 101,
     "metadata": {},
     "output_type": "execute_result"
    }
   ],
   "source": [
    "dissimilar"
   ]
  },
  {
   "cell_type": "code",
   "execution_count": 102,
   "metadata": {},
   "outputs": [
    {
     "name": "stdout",
     "output_type": "stream",
     "text": [
      "# Samples that passed replicate correlations: 18\n"
     ]
    }
   ],
   "source": [
    "DF_metadata_final = DF_metadata_passed_step4[DF_metadata_passed_step4['passed_replicate_correlations']]\n",
    "print('# Samples that passed replicate correlations:',len(DF_metadata_final))"
   ]
  },
  {
   "cell_type": "markdown",
   "metadata": {},
   "source": [
    "## Check that reference conditions still exist\n",
    "If a reference condition was removed due to poor replicate correlations, a new reference condition needs to be defined.\n",
    "\n",
    "Again, any samples that fail these checks will be printed below."
   ]
  },
  {
   "cell_type": "code",
   "execution_count": 103,
   "metadata": {},
   "outputs": [],
   "source": [
    "project_exprs = []\n",
    "for name,group in DF_metadata_final.groupby('project'):\n",
    "    \n",
    "    # Get reference condition\n",
    "    ref_cond = group.reference_condition.iloc[0]\n",
    "    \n",
    "    # Ensure the reference condition is still in the project\n",
    "    if ref_cond not in group.condition.tolist():\n",
    "        print('Reference condition missing from:', name)\n",
    "    \n",
    "    # Check that each project has at least two conditions (a reference and at least one test condition)\n",
    "    if len(group.condition.unique()) <= 1:\n",
    "        print('Only one condition in:', name)"
   ]
  },
  {
   "cell_type": "markdown",
   "metadata": {},
   "source": [
    "If necessary, choose a new condition for failed projects and re-run notebook."
   ]
  },
  {
   "cell_type": "markdown",
   "metadata": {},
   "source": [
    "## Normalize dataset to reference conditions"
   ]
  },
  {
   "cell_type": "code",
   "execution_count": 104,
   "metadata": {},
   "outputs": [],
   "source": [
    "DF_log_tpm_final = DF_log_tpm[DF_metadata_final.index]"
   ]
  },
  {
   "cell_type": "code",
   "execution_count": 105,
   "metadata": {},
   "outputs": [],
   "source": [
    "project_exprs = []\n",
    "for name,group in DF_metadata_final.groupby('project'):\n",
    "    \n",
    "    # Get reference condition\n",
    "    ref_cond = group.reference_condition.iloc[0]\n",
    "    \n",
    "    # Get reference condition sample ids\n",
    "    ref_samples = group[group.condition == ref_cond].index\n",
    "    \n",
    "    # Get reference condition expression\n",
    "    ref_expr = DF_log_tpm_final[ref_samples].mean(axis=1)\n",
    "    \n",
    "    # Subtract reference expression from project\n",
    "    project_exprs.append(DF_log_tpm_final[group.index].sub(ref_expr,axis=0))\n",
    "\n",
    "DF_log_tpm_norm = pd.concat(project_exprs,axis=1)"
   ]
  },
  {
   "cell_type": "markdown",
   "metadata": {},
   "source": [
    "## Save final datasets"
   ]
  },
  {
   "cell_type": "code",
   "execution_count": 106,
   "metadata": {},
   "outputs": [],
   "source": [
    "logTPM_qc_file = path.join('..','..','data','RNAseq_data','log_tpm.csv')\n",
    "logTPM_norm_file = path.join('..','..','data','RNAseq_data','log_tpm_norm.csv')\n",
    "final_metadata_file = path.join('..','..','data','RNAseq_data','metadata.tsv')\n",
    "final_metadata_all_file = path.join('data','interim','metadata_qc_part2_all.tsv')\n",
    "\n",
    "DF_log_tpm_final.to_csv(logTPM_qc_file)\n",
    "DF_log_tpm_norm.to_csv(logTPM_norm_file)\n",
    "DF_metadata_final.to_csv(final_metadata_file, sep='\\t')\n",
    "DF_metadata_all.to_csv(final_metadata_all_file, sep='\\t')"
   ]
  },
  {
   "cell_type": "code",
   "execution_count": null,
   "metadata": {},
   "outputs": [],
   "source": []
  }
 ],
 "metadata": {
  "kernelspec": {
   "display_name": "Python 3 (ipykernel)",
   "language": "python",
   "name": "python3"
  },
  "language_info": {
   "codemirror_mode": {
    "name": "ipython",
    "version": 3
   },
   "file_extension": ".py",
   "mimetype": "text/x-python",
   "name": "python",
   "nbconvert_exporter": "python",
   "pygments_lexer": "ipython3",
   "version": "3.9.7"
  },
  "toc": {
   "base_numbering": 1,
   "nav_menu": {},
   "number_sections": true,
   "sideBar": true,
   "skip_h1_title": false,
   "title_cell": "Table of Contents",
   "title_sidebar": "Contents",
   "toc_cell": true,
   "toc_position": {},
   "toc_section_display": true,
   "toc_window_display": false
  }
 },
 "nbformat": 4,
 "nbformat_minor": 4
}
